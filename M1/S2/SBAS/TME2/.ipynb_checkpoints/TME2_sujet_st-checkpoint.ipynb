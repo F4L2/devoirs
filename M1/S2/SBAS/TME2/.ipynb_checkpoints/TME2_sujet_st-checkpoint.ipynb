{
 "cells": [
  {
   "cell_type": "markdown",
   "metadata": {},
   "source": [
    "<h1><b>Statistique en Bioinformatique : </b> TME2 </h1>\n",
    "<br>\n",
    "L’objectif de ce TME est: \n",
    "<br>\n",
    "<ul>\n",
    "<li> objectif 1: comprendre les différences d'alignement global et local, </li>\n",
    "<li> objectif 2: reconstruire une matrice de substitution du type Blosum, </li>\n",
    "</ul>\n",
    "<br>\n",
    "<div class=\"alert alert-warning\" role=\"alert\" style=\"margin: 10px\">\n",
    "<p>**Soumission**</p>\n",
    "<ul>\n",
    "<li>Renomer le fichier TME2_subject_st.ipynb pour NomEtudiant1_NomEtudiant2.ipynb </li>\n",
    "<li>Envoyer par email à juliana.silva_bernardes@upmc.fr, l’objet du email sera [SBAS-2018] TME2</li>\n",
    "</ul>\n",
    "</div>\n",
    "<br>"
   ]
  },
  {
   "cell_type": "markdown",
   "metadata": {},
   "source": [
    "<b> Exercice 1 </b>: On va étudier un alignement “difficile” entre la protéine emph50s ribosomal L20 chez A. aeolicus, \n",
    "et la protéine ligase UBR5 chez l’homme (L’alignement structural est montré ci-dessous). \n",
    "<br>\n",
    "\n",
    "<img src=\"bacthum.png\" alt=\"Smiley face\" height=\"210\" width=\"202\"> \n",
    "\n",
    "\n",
    "\n",
    "<br><br>\n",
    "<b>A.</b> Récupérez la séquence de la protéine “E3 ubiquitin ligase UBR5” chez l’homme et de la protéine “50S ribosomal L20” chez A. aeolicus \n",
    "via le site <a href=\"http://www.uniprot.org/\">Uniprot</a>  au format .fasta.\n",
    "\n",
    "<br>\n",
    "<b>B.</b> A l’aide du site <a href=\"https://www.ebi.ac.uk/Tools/psa/\">psa</a>, alignez ces séquences. Commentez les faibles pourcentage d’identité malgré le bon alignement des ces structures.\n"
   ]
  },
  {
   "cell_type": "markdown",
   "metadata": {},
   "source": [
    "Réponse : "
   ]
  },
  {
   "cell_type": "markdown",
   "metadata": {},
   "source": [
    "<b>C.</b> Récupérez la séquence de la protéine “metL Bifunctional aspartokinase/homoserine dehydrogenase 2” et de la protéine “lysC Lysine-sensitive aspartokinase 3” chez E. coli via le site <a href=\"http://www.uniprot.org/\"> Uniprot </a> au format .fasta. Reproduisez, à l’aide du site <a href=\"https://www.ebi.ac.uk/Tools/psa/\"> psa</a>, l’alignement global et local vu en TD. Observez la modification des résultats en changeant la matrice de substitution et/ou les pénalités de gap (“Gap_penalty” et “Extend_penalty”)."
   ]
  },
  {
   "cell_type": "markdown",
   "metadata": {},
   "source": [
    "Reponse:"
   ]
  },
  {
   "cell_type": "markdown",
   "metadata": {},
   "source": [
    "<b>Exercice 2</b>: Score alignement global, local <br>\n",
    "Faire une fonction pour calculer : 1) la pourcentage de identité, 2) la pourcentage de similarité, 3) le score d’un alignement en utilisant la matrix blosum62. Le calcul de la similarité doit prendre en considération les acides amine ayant la même propriété physico chimique. Dans notre cas, tous les acides amine qui ont des valeurs supérieur à zéro dans la matrice BLOSUM62. Le score basé sur la matrice blosum doit aussi prendre en considération les deux pénalités de gaps, ouverture et extension. Teste vos fonctions en utilisant le fichier test.fasta\n"
   ]
  },
  {
   "cell_type": "code",
   "execution_count": null,
   "metadata": {},
   "outputs": [],
   "source": [
    "import numpy as np\n",
    "\n",
    "#variable initiation \n",
    "input_test_f = 'test.fasta'\n",
    "input_blosum_f = 'BLOSUM62.txt'\n",
    "aa = ['A', 'R', 'N', 'D', 'C', 'Q', 'E', 'G', 'H', 'I', 'L', 'K', 'M', 'F', 'P', 'S', 'T', 'W', 'Y', 'V', 'X']\n",
    "\n",
    "#parameters\n",
    "q = 21\n",
    "gap_open = -5\n",
    "gap_ext = 0.5\n",
    "\n"
   ]
  },
  {
   "cell_type": "code",
   "execution_count": null,
   "metadata": {},
   "outputs": [],
   "source": [
    "#Read the test.fasta file\n",
    "def read_fasta (input_f):\n",
    "\tarr_seqs = []\n",
    "\treturn arr_seqs\n",
    "\n",
    "testAln = read_fasta (input_test_f)"
   ]
  },
  {
   "cell_type": "code",
   "execution_count": null,
   "metadata": {},
   "outputs": [],
   "source": [
    "#read Blosum\n",
    "def read_blosum (input_f):\n",
    "\tblosum = np.zeros((q-1,q-1))\n",
    "\treturn blosum\n",
    "matr_62 = read_blosum (input_blosum_f)\n"
   ]
  },
  {
   "cell_type": "code",
   "execution_count": null,
   "metadata": {},
   "outputs": [],
   "source": [
    "#compute identity, similarity and Blosum score\n",
    "def indentite_calcul(seq1, seq2, gap_open, gap_ext, matr_62):\n",
    " \n",
    "\treturn identitee,similarity,score\n",
    "\n",
    "identitee, similarity, score = indentite_calcul(testAln[0], testAln[1], gap_open, gap_ext, matr_62)\n",
    "print (\"identitee= \", identitee , \" similarity= \", similarity, \" score= \", score )"
   ]
  },
  {
   "cell_type": "markdown",
   "metadata": {},
   "source": [
    "<b>Exercice 3</b>: Matrice de substitution <br>\n",
    "Faire une programme (plusieurs fonctions seront nécessaires) pour produire une matrix de substitution comme Blosum. Utiliser l’alignement du fichiers <b>blocks.dat</b>. \n"
   ]
  },
  {
   "cell_type": "code",
   "execution_count": null,
   "metadata": {},
   "outputs": [],
   "source": [
    "from itertools import combinations, combinations_with_replacement\n",
    "from collections import Counter\n",
    "\n",
    "#generate all aa combination\n",
    "aa.sort()\n",
    "pairs_freq_dict = {x:0 for x in combinations_with_replacement(aa,2)}\n",
    "\n",
    "\n",
    "input_block_f = 'block.dat'\n"
   ]
  },
  {
   "cell_type": "code",
   "execution_count": null,
   "metadata": {},
   "outputs": [],
   "source": [
    "#read alignment file\n",
    "\n"
   ]
  },
  {
   "cell_type": "code",
   "execution_count": null,
   "metadata": {},
   "outputs": [],
   "source": [
    "#compute fij frequences\n",
    "\n",
    "\n"
   ]
  },
  {
   "cell_type": "code",
   "execution_count": null,
   "metadata": {},
   "outputs": [],
   "source": [
    "#compute T\n",
    "\n"
   ]
  },
  {
   "cell_type": "code",
   "execution_count": null,
   "metadata": {},
   "outputs": [],
   "source": [
    "#compute pi\n"
   ]
  },
  {
   "cell_type": "code",
   "execution_count": null,
   "metadata": {},
   "outputs": [],
   "source": [
    "#compute Sij\n",
    "\n"
   ]
  },
  {
   "cell_type": "code",
   "execution_count": null,
   "metadata": {},
   "outputs": [],
   "source": [
    "#print Matrix\n"
   ]
  }
 ],
 "metadata": {
  "kernelspec": {
   "display_name": "Python 3",
   "language": "python",
   "name": "python3"
  },
  "language_info": {
   "codemirror_mode": {
    "name": "ipython",
    "version": 3
   },
   "file_extension": ".py",
   "mimetype": "text/x-python",
   "name": "python",
   "nbconvert_exporter": "python",
   "pygments_lexer": "ipython3",
   "version": "3.4.2"
  }
 },
 "nbformat": 4,
 "nbformat_minor": 1
}
