{
 "cells": [
  {
   "cell_type": "markdown",
   "metadata": {},
   "source": [
    "<h1><b>Statistique en Bioinformatique : </b> TME9 </h1><br>\n",
    "\n",
    "L’objectif de ce TME est l'implementation de la méthode Expectation-Maximisation pour la recherche de motifs.\n",
    "\n",
    "<div class=\"alert alert-warning\" role=\"alert\" style=\"margin: 10px\">\n",
    "<p>**Soumission**</p>\n",
    "<ul>\n",
    "    <li>Le fichier doit être renommé selon le format: `NomEtudiant1_NomEtudiant2_TME9.ipynb`</li>\n",
    "    <li>Envoyez-le par email à riccardo.vicedomini@upmc.fr avec l'objet \"[SBAS-2018] TME9\".</li>\n",
    "    <li>La date limite est le 14/05/2018 à 23h59</li>\n",
    "</ul>\n",
    "</div>"
   ]
  },
  {
   "cell_type": "markdown",
   "metadata": {},
   "source": [
    "<H1>Expectation-Maximisation Motif</H1>\n",
    "<br>\n",
    "La méthode EM (Expectation-Maximisation) permet de détecter des motifs dans un ensemble de séquences ADN ou protéiques reliées, non alignées. En particulier, étant donné un groupe de séquences de longueur $L$, dont on sait qu'elles partagent un motif commun de longueur $w$, l’algorithme EM:\n",
    "- infère un modèle $(\\Theta,p_0,Z)$ pour le motif;\n",
    "- localise l’occurrence du motif dans chaque séquence.\n",
    "\n",
    "$\\Theta$ est la matrice des poids-position $p_{c,k}$ du motif (où $c \\in \\{A,C,G,T\\}$ et $k \\in \\{1 \\dots w\\}$), $p_0$ est le vecteur de probabilités du modèle nul ou \"background\". $Ζ$ est la matrice des variables cachées, qui donnent les positions initiales du motif: \n",
    "- $Z_{i,j} = 1$, si le motif commence en position $j$ de la séquence $i$,\n",
    "- $Z_{i,j} = 0$, sinon. \n",
    "\n",
    "L’algorithme affine les paramètres du modèle de manière itérative par espérance-maximisation. Chaque itération $t$ se compose de deux étapes:\n",
    "- (E) Calcul des valeurs attendues $Ζ^{(t)}$ de $Ζ$, étant donnés $\\Theta^{(t-1)}$ et $p^{(t-1)}$\n",
    "- (M) Estimation des paramètres du modèle"
   ]
  },
  {
   "cell_type": "markdown",
   "metadata": {},
   "source": [
    "1\\. Implémentez une fonction `read_training_file` pour lire le fichier d'entré qui contient un ensemble de séquences ADN ou protéiques non alignées. Pour simplifier nous allons utiliser les données vu en cours du fichier `toyEx.txt`."
   ]
  },
  {
   "cell_type": "code",
   "execution_count": 1,
   "metadata": {},
   "outputs": [
    {
     "name": "stdout",
     "output_type": "stream",
     "text": [
      "['GTCAGG', 'GAGAGT', 'ACGGAG', 'CCAGTC']\n"
     ]
    }
   ],
   "source": [
    "import numpy as np\n",
    "import matplotlib.pyplot as plt\n",
    "\n",
    "nts = ['A', 'C', 'G', 'T']\n",
    "\n",
    "w = 3\n",
    "input_f = \"toyEx.txt\"\n",
    "\n",
    "def read_training_file(input_f):\n",
    "    fHandler = open(input_f,'r')\n",
    "    seqs = [x.replace('\\n','') for x in fHandler.readlines()]\n",
    "    fHandler.close()\n",
    "    return seqs\n",
    "\n",
    "seqs = read_training_file(input_f)\n",
    "print (seqs)"
   ]
  },
  {
   "cell_type": "markdown",
   "metadata": {},
   "source": [
    "2\\. Implémentez une fonction `initialiseP` pour initialiser la matrice poids-position $p$. On considère le modèle nul par défaut $p_0 = (0.25, 0.25, 0.25, 0.25)$ et, pour initialiser $p^{(t)}$, on prend généralement un motif au hasard dans une sequence, et on fixe à $0.5$ les poids du nucleotide correspondant et à $\\frac{1-0.5}{3}$ les trois autres. "
   ]
  },
  {
   "cell_type": "code",
   "execution_count": 2,
   "metadata": {},
   "outputs": [
    {
     "name": "stdout",
     "output_type": "stream",
     "text": [
      "[[0.25       0.16666667 0.5        0.16666667]\n",
      " [0.25       0.5        0.16666667 0.16666667]\n",
      " [0.25       0.16666667 0.16666667 0.5       ]\n",
      " [0.25       0.16666667 0.16666667 0.16666667]]\n"
     ]
    }
   ],
   "source": [
    "def initialiseP(seqs, w, alph):\n",
    "    M = len(seqs)\n",
    "    L = len(seqs[0])\n",
    "    q=len(alph)\n",
    "    p0 = 0.25*np.ones((q))\n",
    "    motif = seqs[np.random.randint(M)][np.random.randint(L-w+1):]\n",
    "    P = np.zeros((q,w+1))\n",
    "    P[:,0] = p0.T\n",
    "    for l in range(1,w+1):\n",
    "        P[:,l] = (1-0.5)/(q-1)\n",
    "        P[alph.index(motif[l-1])][l] = 0.5\n",
    "    return P\n",
    "\n",
    "#test\n",
    "p = initialiseP(seqs, w, nts)\n",
    "print (p)"
   ]
  },
  {
   "cell_type": "markdown",
   "metadata": {},
   "source": [
    "3\\. Implémenter une fonction `initialiseZ` pour initialiser la matrice $Z$ à zeros. Rappelez-vous que la dimension de $Z$ est $nbSeq \\times (lenSeq -w +1)$, où $nbSeq$ est le nombre de sequences et $lenSeq$ est la taille/longueur des sequences."
   ]
  },
  {
   "cell_type": "code",
   "execution_count": 3,
   "metadata": {},
   "outputs": [
    {
     "name": "stdout",
     "output_type": "stream",
     "text": [
      "[[1. 1. 1. 1.]\n",
      " [1. 1. 1. 1.]\n",
      " [1. 1. 1. 1.]\n",
      " [1. 1. 1. 1.]]\n"
     ]
    }
   ],
   "source": [
    "def initialiseZ(seqs):\n",
    "    nbSeq = len(seqs)\n",
    "    lenSeq = len(seqs[0])\n",
    "    return np.ones((nbSeq,lenSeq-w+1))\n",
    "\n",
    "z = initialiseZ(seqs)\n",
    "print(z)"
   ]
  },
  {
   "cell_type": "markdown",
   "metadata": {},
   "source": [
    "4\\. Écrivez une fonction `E_step` pour le pas Expectation qui estime $Z$ à partir de $p$. \n",
    "Écrivez aussi une fonction `normaliseZ` pour normaliser $Z$."
   ]
  },
  {
   "cell_type": "code",
   "execution_count": 4,
   "metadata": {},
   "outputs": [
    {
     "name": "stdout",
     "output_type": "stream",
     "text": [
      "[[0.03125    0.03125    0.84375    0.09375   ]\n",
      " [0.45       0.05       0.45       0.05      ]\n",
      " [0.13636364 0.40909091 0.04545455 0.40909091]\n",
      " [0.09375    0.84375    0.03125    0.03125   ]]\n"
     ]
    }
   ],
   "source": [
    "def E_step(seqs,p,z,w,alph):\n",
    "    M = len(seqs)\n",
    "    L = len(seqs[0])\n",
    "    z = initialiseZ(seqs)\n",
    "    for m in range(M):\n",
    "        s = seqs[m]\n",
    "        for k in range(L-w+1):\n",
    "            mot = s[k:k+w]\n",
    "            for l in range(L):\n",
    "                c_indx = int(alph.index(s[l]))\n",
    "                if(l<k or l>=k+w):\n",
    "                    z[m][k] *= p[c_indx][0]\n",
    "                else:\n",
    "                    z[m][k] *= p[c_indx][l-k+1]\n",
    "    return z\n",
    "\n",
    "def normaliseZ(z):\n",
    "    return np.array([row/sum(row) for row in z])\n",
    "\n",
    "z = E_step(seqs,p,z,w,nts)\n",
    "z_norm = normaliseZ(z)\n",
    "print(z_norm)"
   ]
  },
  {
   "cell_type": "markdown",
   "metadata": {},
   "source": [
    "5\\. Implémentez une fonction `M_step` pour le pas Maximisation qui estime $p$ à partir de $Z$. \n",
    "Utilisez les \"pseudocounts\" pour éviter les probabilités ègales à zero."
   ]
  },
  {
   "cell_type": "code",
   "execution_count": 5,
   "metadata": {
    "scrolled": true
   },
   "outputs": [
    {
     "name": "stdout",
     "output_type": "stream",
     "text": [
      "[[0.21384943 0.17017045 0.49957386 0.15255682]\n",
      " [0.21786222 0.39879261 0.15767045 0.1328125 ]\n",
      " [0.32922585 0.30213068 0.20994318 0.57947443]\n",
      " [0.2390625  0.12890625 0.1328125  0.13515625]]\n"
     ]
    }
   ],
   "source": [
    "def totalNumberofCH(seqs,alph):\n",
    "    q = len(alph)\n",
    "    totalN = np.zeros((q))\n",
    "    for i in range(q):\n",
    "        e = alph[i]\n",
    "        for seq in seqs:\n",
    "            for s in seq:\n",
    "                if(s == e):\n",
    "                    totalN[i]+=1\n",
    "    return totalN\n",
    "                    \n",
    "def M_step(seqs,z,w,alph):\n",
    "    M = len(seqs)\n",
    "    L = len(seqs[0])\n",
    "    q = len(alph)\n",
    "    N = np.zeros((q,w+1))\n",
    "    for c in alph:\n",
    "        c_indx = int(alph.index(c))\n",
    "        for k in range(1,w+1):\n",
    "            for i in range(M):\n",
    "                for j in range(L-w+1):\n",
    "                    if(c == seqs[i][j+k-1]):\n",
    "                        N[c_indx][k] += z[i][j]\n",
    "    \n",
    "    totalN = list(totalNumberofCH(seqs,alph))\n",
    "    for c in alph:\n",
    "        c_indx = int(alph.index(c))\n",
    "        N[c_indx][0] = totalN[c_indx] - sum(N[c_indx][1:])\n",
    "    \n",
    "    p = N + 1\n",
    "    p = p / p.sum(axis=0)\n",
    "    \n",
    "    return p\n",
    "\n",
    "p = M_step(seqs,z_norm,w,nts)\n",
    "print(p)"
   ]
  },
  {
   "cell_type": "markdown",
   "metadata": {},
   "source": [
    "6\\. Écrivez une fonction `likelihood` qui calcule la log-vraisemblance de l'ensemble des sequences."
   ]
  },
  {
   "cell_type": "code",
   "execution_count": 6,
   "metadata": {},
   "outputs": [
    {
     "name": "stdout",
     "output_type": "stream",
     "text": [
      "-29.33377347944886\n"
     ]
    }
   ],
   "source": [
    "def likelihood(seqs,z,p,w,alph):\n",
    "    M = len(seqs)\n",
    "    L = len(seqs[0])\n",
    "    lLikelihood = np.log((L-w+1)**-M)\n",
    "    for seq in seqs:\n",
    "        ps = 0\n",
    "        for k in range(L-w+1):\n",
    "            mot = seq[k:k+w]\n",
    "            pro = 1\n",
    "            for l in range(L):\n",
    "                c_indx = int(alph.index(seq[l]))\n",
    "                if(l<k or l>=k+w):\n",
    "                    pro *= p[c_indx][0]\n",
    "                else:\n",
    "                    pro *= p[c_indx][l-k+1]\n",
    "            ps += pro\n",
    "        \n",
    "        lLikelihood += np.log(ps)\n",
    "    return lLikelihood\n",
    "\n",
    "logvraisemblance = likelihood(seqs,z,p,w,nts)\n",
    "print(logvraisemblance)"
   ]
  },
  {
   "cell_type": "markdown",
   "metadata": {},
   "source": [
    "7\\. Implémentez l'algorithme Expectation-Maximisation. Vous calculerez la valeur de la log-vraisemblance totale du modèle à chaque iteration et l'algorithme prendra fin lorsque $\\Delta \\log \\text{Pr}(D | \\Theta, p_0) < \\varepsilon$. Utilisez $\\varepsilon = 1e-4$. Votre implementation devra renvoyer les paramètres du modele ($p$ et la log-likelihood associé), ainsi bien que la liste des meilleures positions du motif dans chaque sequence (matrice $Z$). Faites attention à utiliser $Z$ non-normalisé afin de trouver la log-vraisemblance!"
   ]
  },
  {
   "cell_type": "code",
   "execution_count": 7,
   "metadata": {},
   "outputs": [
    {
     "name": "stdout",
     "output_type": "stream",
     "text": [
      "Les paramètres du modele:\n",
      "p:\n",
      " [[0.15043791 0.3524184  0.15063503 0.44607075]\n",
      " [0.148102   0.26205645 0.43877478 0.12796477]\n",
      " [0.52540362 0.15149863 0.28262542 0.26506871]\n",
      " [0.17605647 0.23402653 0.12796477 0.16089577]]\n",
      "\n",
      "\n",
      "log-vraisemblance associé: -29.466543566726916\n",
      "\n",
      "\n",
      "Z:\n",
      " [[1.03024867e-04 6.64295515e-03 5.08535647e-04 3.61698742e-04]\n",
      " [8.41814311e-05 2.15923771e-03 8.41814311e-05 6.65534426e-04]\n",
      " [1.70214666e-03 2.33448033e-04 2.23590607e-04 7.08169454e-05]\n",
      " [7.02646301e-04 4.04095318e-05 5.20643475e-05 8.18661712e-06]]\n",
      "\n",
      "Les motifs:\n",
      "seq1: 2  TCA\n",
      "seq2: 2  AGA\n",
      "seq3: 1  ACG\n",
      "seq4: 1  CCA\n"
     ]
    },
    {
     "data": {
      "image/png": "[encoded data removed]",
      "text/plain": [
       "<matplotlib.figure.Figure at 0x7f6916f849b0>"
      ]
     },
     "metadata": {},
     "output_type": "display_data"
    }
   ],
   "source": [
    "def ExpectationMaximisation(seqs, w, alph, eps):\n",
    "    p = initialiseP(seqs, w, alph)\n",
    "    z = initialiseZ(seqs)\n",
    "    lLikelihood = []\n",
    "    delta_logPr = 10\n",
    "    while(delta_logPr > eps):\n",
    "        z = E_step(seqs,p,z,w,alph)\n",
    "        z_norm = normaliseZ(z)\n",
    "        p = M_step(seqs,z_norm,w,alph)\n",
    "        lLikelihood.append(likelihood(seqs,z,p,w,alph))\n",
    "        if(len(lLikelihood) > 1):\n",
    "            delta_logPr = lLikelihood[-1]-lLikelihood[-2]\n",
    "    pos_motif = z.argmax(axis=1)\n",
    "    return (p,lLikelihood,z,pos_motif)\n",
    "\n",
    "def analyse_results(results,seqs):\n",
    "    print('Les paramètres du modele:')\n",
    "    print('p:\\n',results[0])\n",
    "    print('\\n')\n",
    "    print('log-vraisemblance associé:',results[1][-1])\n",
    "    print('\\n')\n",
    "    print('Z:\\n',results[2])\n",
    "    print('\\nLes motifs:')\n",
    "    for i in range(len(seqs)):\n",
    "        print('seq'+str(i+1)+': '+ str(results[3][i]+1) + '  ' + seqs[i][results[3][i]:results[3][i]+w])\n",
    "\n",
    "    plt.plot(results[1])\n",
    "    plt.xlabel('Iteration')\n",
    "    plt.ylabel('Log-vraisemblance')\n",
    "    plt.show()\n",
    "\n",
    "eps = 10**-4\n",
    "EMResults = ExpectationMaximisation(seqs, w, nts, eps)\n",
    "analyse_results(EMResults,seqs)"
   ]
  },
  {
   "cell_type": "markdown",
   "metadata": {},
   "source": [
    "8\\. Qu'est-ce que vous observez en exécutant l'algorithme EM plusieurs fois? Justifiez votre réponse."
   ]
  },
  {
   "cell_type": "markdown",
   "metadata": {},
   "source": [
    "Reponse:\n",
    "\n",
    "<font color=\"blue\">\n",
    "On remarque que parfois l'algorithme Expectation-Maximisation converge vers un point stationnaire local (maximum local de log-vraisemblance). Et même parfois la vraisemblance diminue par rapport des itérations (création d'un mauvais modèle).\n",
    "<br>\n",
    "Les valeurs initiales de la matrice des poids-position $p_{c,k}$ sont importantes, parce que certaines des valeurs initiales pourraient mener à un point d'équilibre local au lieu du point d'équilibre global. Donc, a fin de trouver le meilleur modèle il faut exécuter la processus plusieurs fois avec des valeurs initiales différentes. \n",
    "</font>"
   ]
  },
  {
   "cell_type": "markdown",
   "metadata": {},
   "source": [
    "9\\. Pour éviter le problème identifié au point précedent, écrivez une fonction `EM_iteratif` qui exécute l'algorithme `EM` $N$ fois ($N=10$) et qui prend les paramètres associés à la meilleure log-vraisemblance. Trouvez-vous les bons motifs?"
   ]
  },
  {
   "cell_type": "code",
   "execution_count": 8,
   "metadata": {},
   "outputs": [
    {
     "name": "stdout",
     "output_type": "stream",
     "text": [
      "Les paramètres du modele:\n",
      "p:\n",
      " [[0.20284177 0.16116925 0.53265199 0.15049523]\n",
      " [0.23123633 0.37300455 0.15515568 0.13436711]\n",
      " [0.32554549 0.33711541 0.17782522 0.58396839]\n",
      " [0.24037641 0.1287108  0.13436711 0.13116927]]\n",
      "\n",
      "\n",
      "log-vraisemblance associé: -29.156424501085063\n",
      "\n",
      "\n",
      "Z:\n",
      " [[1.30841904e-04 1.03696628e-04 2.95567408e-03 3.02858511e-04]\n",
      " [1.66441270e-03 1.09886405e-04 1.66441270e-03 8.08194735e-05]\n",
      " [3.13936032e-04 5.18840814e-04 1.37763074e-04 1.60111949e-03]\n",
      " [1.57607989e-04 1.49119854e-03 4.64825516e-05 6.60124397e-05]]\n",
      "\n",
      "Les motifs:\n",
      "seq1: 3  CAG\n",
      "seq2: 1  GAG\n",
      "seq3: 4  GAG\n",
      "seq4: 2  CAG\n"
     ]
    },
    {
     "data": {
      "image/png": "[encoded data removed]",
      "text/plain": [
       "<matplotlib.figure.Figure at 0x7f6917273b70>"
      ]
     },
     "metadata": {},
     "output_type": "display_data"
    }
   ],
   "source": [
    "def EM_iteratif(N, seqs, w, alph, eps):\n",
    "    lLikelihood_meilleur = -5000\n",
    "    meilleur_model = 0\n",
    "    for i in range(N):\n",
    "        results = ExpectationMaximisation(seqs, w, alph, eps)\n",
    "        if(results[1][-1] > lLikelihood_meilleur):\n",
    "            meilleur_model = results\n",
    "            lLikelihood_meilleur = results[1][-1]\n",
    "    return meilleur_model\n",
    "eps = 10**-4\n",
    "N=10\n",
    "meilleurEM = EM_iteratif(N, seqs, w, nts, eps)\n",
    "analyse_results(meilleurEM,seqs)"
   ]
  },
  {
   "cell_type": "markdown",
   "metadata": {},
   "source": [
    "10\\. Appliquez votre algorithme `EM` à l'ensemble des séquence du fichier `trainingSequences.txt` en utilisant $w=10$. "
   ]
  },
  {
   "cell_type": "code",
   "execution_count": 9,
   "metadata": {},
   "outputs": [
    {
     "name": "stdout",
     "output_type": "stream",
     "text": [
      "Les paramètres du modele:\n",
      "p:\n",
      " [[0.29575279 0.01361322 0.037231   0.78091561 0.40926216 0.66463609\n",
      "  0.48040731 0.65462014 0.11974985 0.64885829 0.01059397]\n",
      " [0.19543388 0.94353913 0.74789267 0.04424817 0.04157228 0.01979054\n",
      "  0.02926491 0.05068011 0.04323456 0.02584652 0.03318731]\n",
      " [0.18587791 0.0164798  0.01047093 0.04597399 0.04821258 0.01926936\n",
      "  0.01309169 0.06364512 0.03295941 0.30019829 0.87320353]\n",
      " [0.32293541 0.02636785 0.2044054  0.12886223 0.50095298 0.296304\n",
      "  0.47723609 0.23105463 0.80405618 0.0250969  0.0830152 ]]\n",
      "\n",
      "\n",
      "log-vraisemblance associé: -3016.880814994241\n",
      "\n",
      "\n",
      "Z:\n",
      " [[2.02463815e-17 3.01836057e-20 1.90727146e-18 ... 2.12620341e-21\n",
      "  2.69711001e-22 7.14396641e-19]\n",
      " [3.12870414e-21 9.43010935e-20 7.16227616e-23 ... 8.64362007e-20\n",
      "  1.28115794e-23 2.26328962e-21]\n",
      " [2.38143041e-12 3.33786951e-18 2.20019790e-16 ... 1.14225537e-22\n",
      "  1.16404958e-20 3.34585305e-19]\n",
      " ...\n",
      " [1.02458051e-20 3.21111677e-22 4.69757946e-21 ... 4.62587880e-23\n",
      "  2.05243743e-18 9.21371988e-19]\n",
      " [8.09530372e-19 1.51300722e-21 1.51370908e-19 ... 2.10001132e-19\n",
      "  7.98941121e-19 2.73948147e-22]\n",
      " [4.26224203e-21 9.64422107e-21 7.16435725e-18 ... 4.41909445e-21\n",
      "  3.67127721e-19 2.54109279e-21]]\n",
      "\n",
      "Les motifs:\n",
      "seq1: 5  CCATATATAG\n",
      "seq2: 6  CCATATATAG\n",
      "seq3: 1  CCATAAATAG\n",
      "seq4: 15  CCATAAATAG\n",
      "seq5: 13  CCATAAATAG\n",
      "seq6: 15  CCATAAATAG\n",
      "seq7: 3  CCATAAATAG\n",
      "seq8: 17  CCATATATGG\n",
      "seq9: 17  CCATATATGG\n",
      "seq10: 4  CCAAATATAG\n",
      "seq11: 2  CCAAATATAG\n",
      "seq12: 10  CCAAATATAG\n",
      "seq13: 17  CCATAAATGG\n",
      "seq14: 10  CCATAAATGG\n",
      "seq15: 1  CCATAAATGG\n",
      "seq16: 2  CCATAAATGG\n",
      "seq17: 1  CCAAAAATAG\n",
      "seq18: 1  CCAAAAATAG\n",
      "seq19: 1  CCAAAAATAG\n",
      "seq20: 1  CCAAAAATAG\n",
      "seq21: 10  CCAAAAATAG\n",
      "seq22: 4  CCAAATATGG\n",
      "seq23: 8  CCAAAAATGG\n",
      "seq24: 4  CCAAAAATGG\n",
      "seq25: 6  CCATTTATAG\n",
      "seq26: 16  CCATTTATAG\n",
      "seq27: 7  CCATTTATAG\n",
      "seq28: 4  CCATTAATAG\n",
      "seq29: 10  CCATTAATAG\n",
      "seq30: 1  CCATTAATAG\n",
      "seq31: 1  CCAATTATAG\n",
      "seq32: 17  CCATTAATGG\n",
      "seq33: 9  CCAATAATAG\n",
      "seq34: 13  CCAATTATGG\n",
      "seq35: 6  CCAAAATTAG\n",
      "seq36: 9  CCAAAATTAG\n",
      "seq37: 6  CCAAAATTAG\n",
      "seq38: 10  CCACATATAG\n",
      "seq39: 7  CCATTTTTAG\n",
      "seq40: 1  CCATTTTTAG\n",
      "seq41: 1  CCATTTTTAG\n",
      "seq42: 7  CCATAAGTGG\n",
      "seq43: 7  CTATATATAG\n",
      "seq44: 1  CCATACATGG\n",
      "seq45: 10  CTATAAATAG\n",
      "seq46: 13  CTATAAATAG\n",
      "seq47: 5  CCTAATATAG\n",
      "seq48: 15  CCTAATATAG\n",
      "seq49: 10  CCTAATATAG\n",
      "seq50: 8  CCAAAACTAG\n",
      "seq51: 3  CTAAATATAG\n",
      "seq52: 9  CTAAATATAG\n",
      "seq53: 5  CCATAAACAG\n",
      "seq54: 2  CTAAAAATAG\n",
      "seq55: 3  CTAAAAATAG\n",
      "seq56: 17  CCTAAAATGG\n",
      "seq57: 17  CCTAAAATGG\n",
      "seq58: 9  CCAGATTTAG\n",
      "seq59: 9  CCTTTTATAG\n",
      "seq60: 15  CCTTTTATAG\n",
      "seq61: 4  CCAAAAAAAG\n",
      "seq62: 2  CCAAATAAGG\n",
      "seq63: 11  CCAGAATTAG\n",
      "seq64: 17  CCATTTCTGG\n",
      "seq65: 16  CTAAATTTAG\n",
      "seq66: 15  CCCGATATAG\n",
      "seq67: 3  CCAAAAATAC\n",
      "seq68: 1  CCATATTGGG\n",
      "seq69: 15  CCGTTTTTAG\n",
      "seq70: 2  CAATTTATAG\n",
      "seq71: 16  CTAAAAGTAG\n",
      "seq72: 3  CTAAAAGTAG\n",
      "seq73: 1  CCATTTTAAG\n",
      "seq74: 3  CCATTTTAAG\n",
      "seq75: 14  CCATTTATGT\n",
      "seq76: 2  CTGTAAATAG\n",
      "seq77: 15  CCATTTTGGG\n",
      "seq78: 15  CAATAATTAG\n",
      "seq79: 15  CTCAAAATAG\n",
      "seq80: 12  CCAATTTAGG\n",
      "seq81: 12  CCAATTTAGG\n",
      "seq82: 8  CCTAATACGG\n",
      "seq83: 10  CTATATTAAG\n",
      "seq84: 11  CTATAAATGT\n",
      "seq85: 15  CCTTTTATGT\n",
      "seq86: 12  CCTTTTTCGG\n",
      "seq87: 16  CTAAAAGAAG\n",
      "seq88: 17  CTATATTTGT\n",
      "seq89: 12  CTATAATTGT\n",
      "seq90: 15  CTACTTAAAG\n",
      "seq91: 17  CCGAAAAATG\n",
      "seq92: 10  CCTAAAGTGT\n",
      "seq93: 10  CCTTTTCTAC\n",
      "seq94: 7  CCCTCACAAG\n",
      "seq95: 10  TAATTTCTCG\n",
      "seq96: 7  GCACACAGAC\n",
      "seq97: 3  TTAGGATTCG\n"
     ]
    },
    {
     "data": {
      "image/png": "[encoded data removed]",
      "text/plain": [
       "<matplotlib.figure.Figure at 0x7f6914f2dba8>"
      ]
     },
     "metadata": {},
     "output_type": "display_data"
    }
   ],
   "source": [
    "w= 10\n",
    "input_f = \"trainingSequences.txt\"\n",
    "seqs_train = read_training_file(input_f)\n",
    "eps = 10**-4\n",
    "N=10\n",
    "meilleurEM = EM_iteratif(N, seqs_train, w, nts, eps)\n",
    "analyse_results(meilleurEM,seqs_train)"
   ]
  },
  {
   "cell_type": "markdown",
   "metadata": {},
   "source": [
    "11\\. Construire un LOGO pour le motif prédit avec le service <i>WebLogo</i>. Pour cela, identifiez le motif dans chaque séquence, utiliser <i>ClustalOmega</i> pour les aligner et puis <i>WebLogo</i> pour générer le LOGO. Ajouter le LOGO à votre réponse."
   ]
  },
  {
   "cell_type": "code",
   "execution_count": null,
   "metadata": {},
   "outputs": [],
   "source": [
    "fhandler = open('motifs.txt','w')\n",
    "for i in range(len(seqs_train)):\n",
    "    fhandler.write('>motif'+str(i+1)+'\\n')\n",
    "    fhandler.write(seqs_train[i][meilleurEM[3][i]:meilleurEM[3][i]+w])\n",
    "    fhandler.write('\\n')\n",
    "fhandler.close()"
   ]
  },
  {
   "cell_type": "markdown",
   "metadata": {},
   "source": [
    "<img src=\"motifs_logo.png\" alt=\"motifs_logo\" height=\"400\" width=\"800\">"
   ]
  },
  {
   "cell_type": "markdown",
   "metadata": {},
   "source": [
    "12\\. Comparez les motifs trouvés par votre programme avec les motifs du fichier `testingSequences.txt`, où les vrais motifs sont montrés en lettre majuscule. Quelle est la performance de votre programme? "
   ]
  },
  {
   "cell_type": "code",
   "execution_count": null,
   "metadata": {},
   "outputs": [],
   "source": [
    "import re\n",
    "\n",
    "motifs_extracted = []\n",
    "motifs_real = []\n",
    "\n",
    "fhandler = open('motifs.txt','r')\n",
    "lines = fhandler.readlines()\n",
    "fhandler.close()\n",
    "for line in lines:\n",
    "    if '>' in line:\n",
    "        continue\n",
    "    motifs_extracted.append(line.replace('\\n',''))\n",
    "print('Les motifs obtenus:\\n',motifs_extracted)\n",
    "    \n",
    "input_f = \"testingSequences.txt\"\n",
    "seqs_test = read_training_file(input_f)\n",
    "for seq in seqs_test:\n",
    "    motifs_real.append(re.sub('[^A-Z]', '', seq)) #Regex\n",
    "print('Les motifs réel:\\n',motifs_real)\n",
    "\n",
    "lm = len(motifs_extracted)\n",
    "w=10\n",
    "mismatch_error = 0\n",
    "for i in range(lm):\n",
    "    mismatch_error += sum(1 for c1, c2 in zip(motifs_extracted[i], motifs_real[i]) if c1 != c2) #Y a-t-il un moyen plus efficace?\n",
    "print('\\nMismatch errors: ', mismatch_error)\n",
    "acc = 100 - mismatch_error * 100 / (lm*w)\n",
    "print('\\033[1m Accuracy: %0.4f percent \\033[0m' % acc)"
   ]
  },
  {
   "cell_type": "code",
   "execution_count": null,
   "metadata": {},
   "outputs": [],
   "source": []
  }
 ],
 "metadata": {
  "kernelspec": {
   "display_name": "Python 3",
   "language": "python",
   "name": "python3"
  },
  "language_info": {
   "codemirror_mode": {
    "name": "ipython",
    "version": 3
   },
   "file_extension": ".py",
   "mimetype": "text/x-python",
   "name": "python",
   "nbconvert_exporter": "python",
   "pygments_lexer": "ipython3",
   "version": "3.6.4"
  }
 },
 "nbformat": 4,
 "nbformat_minor": 2
}
