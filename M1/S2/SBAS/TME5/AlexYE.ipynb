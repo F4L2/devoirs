{
 "cells": [
  {
   "cell_type": "markdown",
   "metadata": {},
   "source": [
    "<h1><b>Statistique en Bioinformatique : </b> TME5 </h1><br>\n",
    "\n",
    "L’objectif de ce TME est l'implementation de la méthode Expectation-Maximisation pour la recherche de motifs.\n",
    "\n",
    "<div class=\"alert alert-warning\" role=\"alert\" style=\"margin: 10px\">\n",
    "<p>**Soumission**</p>\n",
    "<ul>\n",
    "    <li>Le fichier doit être renommé selon le format: `NomEtudiant1_NomEtudiant2_TME5.ipynb`</li>\n",
    "    <li>Envoyez-le par email à edoardo.sarti@upmc.fr avec l'objet \"[SBAS-2019] TME5\".</li>\n",
    "    <li></li>\n",
    "</ul>\n",
    "</div>"
   ]
  },
  {
   "cell_type": "markdown",
   "metadata": {},
   "source": [
    "Nom etudiant 1 : Alex YE\n",
    "<br>\n",
    "Nom etudiant 2 :\n",
    "<br>"
   ]
  },
  {
   "cell_type": "markdown",
   "metadata": {},
   "source": [
    "<H1>Expectation-Maximisation Motif</H1>\n",
    "<br>\n",
    "La méthode EM (Expectation-Maximisation) permet de détecter des motifs dans un ensemble de séquences ADN ou protéiques reliées, non alignées. En particulier, étant donné un groupe de séquences de longueur $L$, dont on sait qu'elles partagent un motif commun de longueur $w$, l’algorithme EM:\n",
    "- infère un modèle $(\\Theta,Z)$ pour le motif;\n",
    "- localise l’occurrence du motif dans chaque séquence.\n",
    "\n",
    "$\\Theta$ representé la matrice des poids-positions $p_{c,k}$ du motif (où $c \\in \\{A,C,G,T\\}$ ou $c \\in \\{A,C,D,...,W\\}$  et $k \\in \\{0 \\dots w\\}$), $p_{c,0}$  est le vecteur de probabilités du modèle nul ou \"background\".\n",
    "$Ζ$ est la matrice des variables cachées, qui donnent les positions initiales du motif: \n",
    "- $Z_{i,j} = 1$, si le motif commence en position $j$ de la séquence $i$,\n",
    "- $Z_{i,j} = 0$, sinon. \n",
    "\n",
    "L’algorithme affine les paramètres du modèle de manière itérative par espérance-maximisation. Chaque itération $t$ se compose de deux étapes:\n",
    "- (E) Calcul des valeurs attendues $Ζ^{(t)}$ de $Ζ$, étant donnés $\\Theta^{(t-1)}$\n",
    "- (M) Estimation de  $\\Theta^{(t)}$  à partir de  $Ζ^{(t)}$"
   ]
  },
  {
   "cell_type": "markdown",
   "metadata": {},
   "source": [
    "1\\. Implémentez une fonction `read_training_file` pour lire le fichier d'entré qui contient un ensemble de séquences ADN non alignées. Pour simplifier nous allons utiliser les données vu en cours du fichier `toyEx.txt`."
   ]
  },
  {
   "cell_type": "code",
   "execution_count": 1,
   "metadata": {},
   "outputs": [
    {
     "name": "stdout",
     "output_type": "stream",
     "text": [
      "['GTCAGG' 'GAGAGT' 'ACGGAG' 'CCAGTC']\n"
     ]
    }
   ],
   "source": [
    "import numpy as np\n",
    "import matplotlib.pyplot as plt\n",
    "\n",
    "nts = ['A', 'C', 'G', 'T']\n",
    "\n",
    "w = 3\n",
    "input_f = \"toyEx.txt\"\n",
    "\n",
    "def read_training_file(input_f):\n",
    "    seqs = []\n",
    "    with open(input_f, \"r\") as f:\n",
    "        for line in f:\n",
    "            seqs.append(line.strip())\n",
    "    return np.array(seqs)\n",
    "\n",
    "seqs = read_training_file(input_f)\n",
    "print (seqs)"
   ]
  },
  {
   "cell_type": "markdown",
   "metadata": {},
   "source": [
    "2\\. Implémentez une fonction `initialiseP` pour initialiser la matrice poids-position $p_{c,k}$. On considère le modèle nul par défaut $p_0 = (0.25, 0.25, 0.25, 0.25)$. Pour initialiser $p^{(t)}$, on prend généralement un motif au hasard dans une sequence, et on fixe à $0.5$ les poids du nucleotide correspondant et à $\\frac{1-0.5}{3}$ les trois autres. "
   ]
  },
  {
   "cell_type": "code",
   "execution_count": 2,
   "metadata": {},
   "outputs": [
    {
     "name": "stdout",
     "output_type": "stream",
     "text": [
      "[[0.25       0.16666667 0.16666667 0.5       ]\n",
      " [0.25       0.16666667 0.5        0.16666667]\n",
      " [0.25       0.16666667 0.16666667 0.16666667]\n",
      " [0.25       0.5        0.16666667 0.16666667]]\n"
     ]
    }
   ],
   "source": [
    "#initialiseP\n",
    "\n",
    "p0 = np.array([0.25,0.25,0.25,0.25])\n",
    "\n",
    "ind = np.random.randint(len(seqs[0])-w+1)\n",
    "motif = [seqs[0][ind+it] for it in range(w)]\n",
    "\n",
    "def initialiseP(null, w, seq, motif):\n",
    "    weight = np.zeros( (4,w) ) \n",
    "    for j in range(w):\n",
    "        c = motif[j]\n",
    "        sel = nts.index(c)\n",
    "        for i in range(4):\n",
    "            if(i==sel):\n",
    "                weight[i][j] = 0.5\n",
    "            else:\n",
    "                weight[i][j] = 0.5/3\n",
    "    weight = np.array(weight)\n",
    "    return np.vstack((null,weight.T)).T\n",
    "\n",
    "\n",
    "p = initialiseP(p0, w, seqs[0], motif)\n",
    "print( p )"
   ]
  },
  {
   "cell_type": "markdown",
   "metadata": {},
   "source": [
    "3\\. Implémenter une fonction `initialiseZ` pour initialiser la matrice $Z$ à uns. Rappelez-vous que la dimension de $Z$ est $nbSeq \\times (lenSeq -w +1)$, où $nbSeq$ est le nombre de sequences et $lenSeq$ est la taille/longueur des sequences."
   ]
  },
  {
   "cell_type": "code",
   "execution_count": 3,
   "metadata": {},
   "outputs": [
    {
     "name": "stdout",
     "output_type": "stream",
     "text": [
      "[[1. 1. 1. 1.]\n",
      " [1. 1. 1. 1.]\n",
      " [1. 1. 1. 1.]\n",
      " [1. 1. 1. 1.]]\n"
     ]
    }
   ],
   "source": [
    "#initialiseZ\n",
    "\n",
    "def initialiseZ(seqs,w):\n",
    "    z = np.ones( (len(seqs), len(seqs[0])-w+1) )    \n",
    "    return z\n",
    "\n",
    "Z = initialiseZ(seqs, w)\n",
    "print( Z )"
   ]
  },
  {
   "cell_type": "markdown",
   "metadata": {},
   "source": [
    "4\\. Écrivez une fonction `E_step` pour le pas Expectation qui estime $Z$ à partir de  $p_{c,k}$. \n",
    "Écrivez aussi une fonction `normaliseZ` pour normaliser $Z$."
   ]
  },
  {
   "cell_type": "code",
   "execution_count": 12,
   "metadata": {},
   "outputs": [
    {
     "name": "stdout",
     "output_type": "stream",
     "text": [
      "[[0.2495298  0.25141059 0.2495298  0.2495298 ]\n",
      " [0.24996383 0.25010851 0.24996383 0.24996383]\n",
      " [0.25007234 0.24992766 0.25007234 0.24992766]\n",
      " [0.25043403 0.24985532 0.24985532 0.24985532]]\n"
     ]
    }
   ],
   "source": [
    "#E_step\n",
    "def E_step(seqs,p,Z):\n",
    "    zt = Z.copy()\n",
    "    for i in range(len(zt)):\n",
    "        for j in range(len(zt[i])):\n",
    "            if(zt[i][j] == 1): # <== Z(maj) position possibles du motif, z(min) proba\n",
    "                val = 1\n",
    "                for k in range(len(seqs[i])):\n",
    "                    c = nts.index(seqs[i][k])\n",
    "                    if(k < j):\n",
    "                        #hors motif\n",
    "                        val *= p[c][0]\n",
    "                    elif(k < j+w): \n",
    "                        #motif\n",
    "                        val *= p[c][k-j+1]\n",
    "                    else:\n",
    "                        #hors motif\n",
    "                        val *= p[c][0]\n",
    "                zt[i][j] = val \n",
    "    return zt\n",
    "\n",
    "\n",
    "\n",
    "#normaliseZ on rows\n",
    "def normaliseZ(z):\n",
    "    z2 = z.copy()\n",
    "    for zi in z2:\n",
    "        if(zi.sum() < 1):\n",
    "            toDistr = 1 - zi.sum()\n",
    "            for i in range(len(zi)):\n",
    "                zi[i] += toDistr / len(zi)\n",
    "        if(zi.sum() > 1):\n",
    "            toDistr = abs(1 - zi.sum())\n",
    "            for i in range(len(zi)):\n",
    "                zi[i] -= toDistr / len(zi)\n",
    "    return z2\n",
    "\n",
    "\n",
    "z= E_step(seqs,p,Z) \n",
    "z= normaliseZ(z)\n",
    "\n",
    "print(z)"
   ]
  },
  {
   "cell_type": "markdown",
   "metadata": {},
   "source": [
    "5\\. Implémentez une fonction `M_step` pour le pas Maximisation qui estime $p_{c,k}$ à partir de $Z$. \n",
    "Utilisez les \"pseudocounts\" pour éviter les probabilités ègales à zero."
   ]
  },
  {
   "cell_type": "code",
   "execution_count": 13,
   "metadata": {
    "scrolled": true
   },
   "outputs": [
    {
     "name": "stdout",
     "output_type": "stream",
     "text": [
      "[[0.18740054 0.28119123 0.28115506 0.25025318]\n",
      " [0.21861889 0.24996835 0.21898962 0.18742314]\n",
      " [0.50030744 0.3124141  0.31243218 0.37484628]\n",
      " [0.09367314 0.15642632 0.18742314 0.18747739]]\n"
     ]
    }
   ],
   "source": [
    "#normaliseP on columns\n",
    "def normaliseP(p):\n",
    "    p = p.copy()\n",
    "    for j in range(np.size(p,1)):\n",
    "        if(sum(p[:,j]) < 1):\n",
    "            toDistr = 1 - sum(p[:,j])\n",
    "            for i in range(len(p[:,j])):\n",
    "                p[i,j] += toDistr / len(p[:,j])\n",
    "        if(sum(p[:,j]) > 1):\n",
    "            toDistr = abs(1 - sum(p[:,j]))\n",
    "            for i in range(len(p[:,j])):\n",
    "                p[i,j] -= toDistr / len(p[:,j])\n",
    "    return p\n",
    "\n",
    "\n",
    "\n",
    "def z_at_pos(seqs, char, z, pos):\n",
    "    res = 0\n",
    "    c = nts[char]\n",
    "    for i in range(len(seqs)):\n",
    "        for j in range(len(z[i])):\n",
    "            ind = j+pos-1\n",
    "            if(seqs[i][ind] == c):\n",
    "                res+= z[i][j]\n",
    "    return res\n",
    "\n",
    "def count_at_pos(seqs, char, z, pos):\n",
    "    res = 0\n",
    "    c = nts[char]\n",
    "    for i in range(len(seqs)):\n",
    "        for j in range(1,len(z[i])):\n",
    "            ind = j+pos-1\n",
    "            if(seqs[i][ind] == c):\n",
    "                res+= 1\n",
    "    return res\n",
    "   \n",
    "    \n",
    "\n",
    "#M_step\n",
    "def M_step(seqs,p,z):\n",
    "    pt = p.copy()\n",
    "    all_occ = []\n",
    "    for i in range(len(nts)):\n",
    "        occ = 0\n",
    "        for seq in seqs:\n",
    "            occ += seq.count(nts[i])\n",
    "        all_occ.append( occ )\n",
    "        \n",
    "    for c in range(len(pt)):\n",
    "        for k in range(len(pt[c])):\n",
    "            if(k>0):\n",
    "                nck = z_at_pos(seqs,c, z, k)\n",
    "            else:\n",
    "                #probleme: nc < sum_j(n,j) --> proba < 0\n",
    "                nck = all_occ[c] - sum([z_at_pos(seqs,c, z, pos) for pos in range(1,w+1)]) \n",
    "            pt[c][k] = (nck+1) / sum([zi.sum()+1 for zi in z])\n",
    "    return pt\n",
    "\n",
    "p= M_step(seqs,p,z)\n",
    "p = normaliseP(p)\n",
    "print(p)"
   ]
  },
  {
   "cell_type": "markdown",
   "metadata": {},
   "source": [
    "6\\. Écrivez une fonction `likelihood` qui calcule la log-vraisemblance de l'ensemble des sequences."
   ]
  },
  {
   "cell_type": "code",
   "execution_count": 14,
   "metadata": {},
   "outputs": [
    {
     "data": {
      "text/plain": [
       "-36.19906637763249"
      ]
     },
     "execution_count": 14,
     "metadata": {},
     "output_type": "execute_result"
    }
   ],
   "source": [
    "#likelihood\n",
    "\n",
    "def prob_seq(seq, p, j):\n",
    "    val = 1\n",
    "    for k in range(len(seq)):\n",
    "        c = nts.index(seq[k])\n",
    "        if(k < j):\n",
    "            #hors motif\n",
    "            val *= p[c][0]\n",
    "        elif(k < j+w-1): \n",
    "            #motif\n",
    "            val *= p[c][k-j+1]\n",
    "        else:\n",
    "            #hors motif\n",
    "            val *= p[c][0]\n",
    "    return val\n",
    "\n",
    "def likelihood(seqs, p, z, Z):\n",
    "    prob = 1\n",
    "    for i in range(len(seqs)):\n",
    "        sum_z = 0\n",
    "        for j in range(len(Z[i])):\n",
    "            if(Z[i][j]):\n",
    "                prob_z = z[i][j] / z[i].sum()\n",
    "                sum_z = prob_seq(seqs[i], p, j) * prob_z     \n",
    "        prob += np.log(sum_z)\n",
    "    return prob\n",
    "\n",
    "likelihood(seqs, p,z, Z)"
   ]
  },
  {
   "cell_type": "markdown",
   "metadata": {},
   "source": [
    "7\\. Implémentez l'algorithme Expectation-Maximisation. Vous calculerez la valeur de la log-vraisemblance totale du modèle à chaque iteration et l'algorithme prendra fin lorsque $\\Delta \\log \\text{Pr}(D | \\Theta) < \\varepsilon$. Utilisez $\\varepsilon = 1e-4$. Votre implementation devra renvoyer les paramètres du modele ($p$ et la log-likelihood associé), ainsi bien que la liste des meilleures positions du motif dans chaque sequence (matrice $Z$). Faites attention à utiliser $Z$ non-normalisé afin de trouver la log-vraisemblance!"
   ]
  },
  {
   "cell_type": "code",
   "execution_count": 15,
   "metadata": {},
   "outputs": [
    {
     "data": {
      "text/plain": [
       "(array([[0.18745238, 0.28131084, 0.28119945, 0.25003733],\n",
       "        [0.21869051, 0.2499747 , 0.21885404, 0.18748075],\n",
       "        [0.50018558, 0.31241006, 0.31246576, 0.3749386 ],\n",
       "        [0.09367153, 0.1563044 , 0.18748075, 0.18754332]]),\n",
       " -36.64222849438559,\n",
       " array([[0.24987982, 0.25043518, 0.24998248, 0.24970252],\n",
       "        [0.2498226 , 0.25004838, 0.2498226 , 0.25030643],\n",
       "        [0.25038928, 0.24982143, 0.24980719, 0.2499821 ],\n",
       "        [0.25000789, 0.2499858 , 0.25004014, 0.24996617]]))"
      ]
     },
     "execution_count": 15,
     "metadata": {},
     "output_type": "execute_result"
    }
   ],
   "source": [
    "#ExpectationMaximisation\n",
    "\n",
    "eps = 1e-4\n",
    "def ExpectationMaximisation(seqs,p,Z,eps):\n",
    "    z= E_step(seqs,p,Z)\n",
    "    l= likelihood(seqs,p,z,Z)\n",
    "    z= normaliseZ(z)\n",
    "    p= M_step(seqs,p,z)\n",
    "    p= normaliseP(p)\n",
    "    return p,l,z\n",
    "    \n",
    "p = initialiseP(p0, w, seqs[0], motif)\n",
    "p,l,z= ExpectationMaximisation(seqs,p,Z,eps)\n",
    "p,l,z= ExpectationMaximisation(seqs,p,Z,eps)\n",
    "p,l,z= ExpectationMaximisation(seqs,p,Z,eps)\n",
    "p,l,z= ExpectationMaximisation(seqs,p,Z,eps)\n",
    "p,l,z= ExpectationMaximisation(seqs,p,Z,eps)\n",
    "\n",
    "ExpectationMaximisation(seqs,p,Z,eps)"
   ]
  },
  {
   "cell_type": "markdown",
   "metadata": {},
   "source": [
    "8\\. Qu'est-ce que vous observez en exécutant l'algorithme EM plusieurs fois? Justifiez votre réponse."
   ]
  },
  {
   "cell_type": "markdown",
   "metadata": {},
   "source": [
    "<b>Reponse:</b> \n",
    "\n",
    "<font color=\"blue\">\n",
    "\n",
    "</font> Le score se stabilise après 2 itérations"
   ]
  },
  {
   "cell_type": "markdown",
   "metadata": {},
   "source": [
    "9\\. Pour éviter le problème identifié au point précedent, écrivez une fonction `EM_iteratif` qui exécute l'algorithme `EM` $N$ fois ($N=10$) et qui prend les paramètres associés à la meilleure log-vraisemblance. Trouvez-vous les bons motifs?"
   ]
  },
  {
   "cell_type": "code",
   "execution_count": 16,
   "metadata": {},
   "outputs": [
    {
     "data": {
      "text/plain": [
       "(array([[0.18745238, 0.28131084, 0.28119945, 0.25003733],\n",
       "        [0.21869051, 0.2499747 , 0.21885404, 0.18748075],\n",
       "        [0.50018558, 0.31241006, 0.31246576, 0.3749386 ],\n",
       "        [0.09367153, 0.1563044 , 0.18748075, 0.18754332]]),\n",
       " -36.19386687778549,\n",
       " array([[0.24987982, 0.25043518, 0.24998248, 0.24970252],\n",
       "        [0.2498226 , 0.25004838, 0.2498226 , 0.25030643],\n",
       "        [0.25038928, 0.24982143, 0.24980719, 0.2499821 ],\n",
       "        [0.25000789, 0.2499858 , 0.25004014, 0.24996617]]))"
      ]
     },
     "execution_count": 16,
     "metadata": {},
     "output_type": "execute_result"
    }
   ],
   "source": [
    "#EM_iteratif\n",
    "def EM_iteratif(seqs,p, Z, max_iter,eps):\n",
    "    z= E_step(seqs,p,Z)\n",
    "    l= abs(likelihood(seqs,p,z,Z))\n",
    "    diff= 888\n",
    "    for it in range(max_iter):\n",
    "        if(diff < eps): #différence entre 2 log\n",
    "            return p, likelihood(seqs,p,z,Z), normaliseZ(z)\n",
    "        \n",
    "        p,l,z = ExpectationMaximisation(seqs,p,Z,eps)\n",
    "        lt = abs(l)\n",
    "        diff = l-lt\n",
    "        l = lt\n",
    "    return p, likelihood(seqs,p,z,Z), normaliseZ(z)\n",
    "\n",
    "    l_trace = np.zeros(max_iter)\n",
    "    for it in range(max_iter):\n",
    "        p,l,z = ExpectationMaximisation(seqs,p,Z,eps)\n",
    "        l_trace[it] = l\n",
    "        #z= E_step(seqs,p,Z)\n",
    "        #l_trace[it] = likelihood(seqs,p,z,Z)\n",
    "        #z= normaliseZ(z)\n",
    "        #p= M_step(seqs,p,z)\n",
    "    return p, l.max(), normaliseZ(z)\n",
    "\n",
    "EM_iteratif(seqs,p,Z, 10, eps)"
   ]
  },
  {
   "cell_type": "markdown",
   "metadata": {},
   "source": [
    "10\\. Appliquez votre algorithme `EM` à l'ensemble des séquence du fichier `trainingSequences.txt` en utilisant $w=10$. "
   ]
  },
  {
   "cell_type": "code",
   "execution_count": 51,
   "metadata": {
    "scrolled": true
   },
   "outputs": [
    {
     "name": "stderr",
     "output_type": "stream",
     "text": [
      "/home/alex/.local/lib/python3.6/site-packages/ipykernel_launcher.py:26: RuntimeWarning: invalid value encountered in log\n"
     ]
    }
   ],
   "source": [
    "w= 10\n",
    "input_f = \"trainingSequences.txt\"\n",
    "seqs_train = read_training_file(input_f)\n",
    "eps = 10**-4\n",
    "N=10\n",
    "        \n",
    "        \n",
    "seqs = read_training_file(input_f)\n",
    "p0 = np.array([0.25,0.25,0.25,0.25])\n",
    "ind = np.random.randint(len(seqs[0])-w+1)\n",
    "motif = [seqs[0][ind+it] for it in range(w)]\n",
    "P = initialiseP(p0, w, seqs[0], motif)\n",
    "Z = initialiseZ(seqs, w)\n",
    "\n",
    "p,l,z = EM_iteratif(seqs,p,Z,N,eps)        "
   ]
  },
  {
   "cell_type": "markdown",
   "metadata": {},
   "source": [
    "11\\. Construire un LOGO pour le motif prédit avec le service <i>WebLogo</i>. Pour cela, identifiez le motif dans chaque séquence, utiliser <i>ClustalOmega</i> pour les aligner et puis <i>WebLogo</i> pour générer le LOGO. Ajouter le LOGO à votre réponse."
   ]
  },
  {
   "cell_type": "code",
   "execution_count": 17,
   "metadata": {},
   "outputs": [
    {
     "data": {
      "image/png": "[encoded data removed]",
      "text/plain": [
       "<IPython.core.display.Image object>"
      ]
     },
     "execution_count": 17,
     "metadata": {},
     "output_type": "execute_result"
    }
   ],
   "source": [
    "def best_dem(Zi):\n",
    "    return np.argmax(Zi)\n",
    "\n",
    "def best_char(p,c):\n",
    "    return np.argmax(p.T[c])\n",
    "\n",
    "def get_motifs(seqs,z,p,w):\n",
    "    motifs=[]\n",
    "    with open('motifs.fasta','w') as f:\n",
    "        for i in range(len(seqs)):\n",
    "            dem = best_dem(z[i])\n",
    "            motif = seqs[i][dem:dem+w]\n",
    "            motifs.append(motif)\n",
    "            f.write(\">motif{}\\n\".format(i))\n",
    "            f.write(motif+'\\n\\n')\n",
    "    return np.array(motifs)\n",
    "\n",
    "my_motifs = get_motifs(seqs,z,p,w)\n",
    "\n",
    "from IPython.display import Image\n",
    "Image(filename='file1400mm.png') "
   ]
  },
  {
   "cell_type": "markdown",
   "metadata": {},
   "source": [
    "12\\. Comparez les motifs trouvés par votre programme avec les motifs du fichier `testingSequences.txt`, où les vrais motifs sont montrés en lettre majuscule. Quelle est la performance de votre programme? "
   ]
  },
  {
   "cell_type": "code",
   "execution_count": 18,
   "metadata": {},
   "outputs": [
    {
     "ename": "ValueError",
     "evalue": "shape mismatch: objects cannot be broadcast to a single shape",
     "output_type": "error",
     "traceback": [
      "\u001b[0;31m---------------------------------------------------------------------------\u001b[0m",
      "\u001b[0;31mValueError\u001b[0m                                Traceback (most recent call last)",
      "\u001b[0;32m<ipython-input-18-aa044a641fc2>\u001b[0m in \u001b[0;36m<module>\u001b[0;34m\u001b[0m\n\u001b[1;32m      6\u001b[0m \u001b[0;34m\u001b[0m\u001b[0m\n\u001b[1;32m      7\u001b[0m \u001b[0mtrue_motifs\u001b[0m \u001b[0;34m=\u001b[0m \u001b[0mnp\u001b[0m\u001b[0;34m.\u001b[0m\u001b[0marray\u001b[0m\u001b[0;34m(\u001b[0m\u001b[0mtrue_motifs\u001b[0m\u001b[0;34m)\u001b[0m\u001b[0;34m\u001b[0m\u001b[0;34m\u001b[0m\u001b[0m\n\u001b[0;32m----> 8\u001b[0;31m \u001b[0mcorrects\u001b[0m \u001b[0;34m=\u001b[0m \u001b[0mnp\u001b[0m\u001b[0;34m.\u001b[0m\u001b[0mwhere\u001b[0m\u001b[0;34m(\u001b[0m\u001b[0mmy_motifs\u001b[0m\u001b[0;34m==\u001b[0m\u001b[0mtrue_motifs\u001b[0m\u001b[0;34m,\u001b[0m\u001b[0;36m1\u001b[0m\u001b[0;34m,\u001b[0m\u001b[0;36m0\u001b[0m\u001b[0;34m)\u001b[0m\u001b[0;34m.\u001b[0m\u001b[0msum\u001b[0m\u001b[0;34m(\u001b[0m\u001b[0;34m)\u001b[0m\u001b[0;34m\u001b[0m\u001b[0;34m\u001b[0m\u001b[0m\n\u001b[0m\u001b[1;32m      9\u001b[0m \u001b[0mprint\u001b[0m\u001b[0;34m(\u001b[0m\u001b[0;34m\"Précision de l'algorithme: {}%\"\u001b[0m\u001b[0;34m.\u001b[0m\u001b[0mformat\u001b[0m\u001b[0;34m(\u001b[0m\u001b[0;36m100\u001b[0m\u001b[0;34m*\u001b[0m\u001b[0mcorrects\u001b[0m\u001b[0;34m/\u001b[0m\u001b[0mtrue_motifs\u001b[0m\u001b[0;34m.\u001b[0m\u001b[0msize\u001b[0m\u001b[0;34m)\u001b[0m \u001b[0;34m)\u001b[0m\u001b[0;34m\u001b[0m\u001b[0;34m\u001b[0m\u001b[0m\n",
      "\u001b[0;31mValueError\u001b[0m: shape mismatch: objects cannot be broadcast to a single shape"
     ]
    }
   ],
   "source": [
    "true_motifs = []\n",
    "with open(\"testingSequences.txt\",'r') as f:\n",
    "    for motif in f:\n",
    "        motif = \"\".join(filter(lambda c: c < \"a\", motif)).strip()\n",
    "        true_motifs.append(motif)\n",
    "        \n",
    "true_motifs = np.array(true_motifs)\n",
    "corrects = np.where(my_motifs==true_motifs,1,0).sum()\n",
    "print(\"Précision de l'algorithme: {}%\".format(100*corrects/true_motifs.size) )"
   ]
  },
  {
   "cell_type": "code",
   "execution_count": null,
   "metadata": {},
   "outputs": [],
   "source": []
  },
  {
   "cell_type": "code",
   "execution_count": null,
   "metadata": {},
   "outputs": [],
   "source": []
  }
 ],
 "metadata": {
  "kernelspec": {
   "display_name": "Python 3",
   "language": "python",
   "name": "python3"
  },
  "language_info": {
   "codemirror_mode": {
    "name": "ipython",
    "version": 3
   },
   "file_extension": ".py",
   "mimetype": "text/x-python",
   "name": "python",
   "nbconvert_exporter": "python",
   "pygments_lexer": "ipython3",
   "version": "3.6.7"
  }
 },
 "nbformat": 4,
 "nbformat_minor": 2
}
