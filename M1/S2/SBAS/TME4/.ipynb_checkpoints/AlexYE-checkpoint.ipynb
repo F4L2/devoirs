{
 "cells": [
  {
   "cell_type": "markdown",
   "metadata": {},
   "source": [
    "<h1><b>Statistique en Bioinformatique : </b> TME4 </h1>\n",
    "<br>\n",
    "L’objectif de ce TME sont: \n",
    "<br>\n",
    "<ul>\n",
    "<li> objectif 1 : Utiliser les chaines de Markov pour comprendre les états phénotypiques de cellules cancéreuses.   </li> \n",
    "<li> objectif 2 : étudier la dynamique des proportions phénotypiques dans les lignées cellulaires du cancer du sein humain: SUM159 et SUM149</li>\n",
    "</ul>\n",
    "<br>\n",
    "<div class=\"alert alert-warning\" role=\"alert\" style=\"margin: 10px\">\n",
    "<p>**Soumission**</p>\n",
    "<ul>\n",
    "<li>Renomer le fichier TME4_subject_st.ipynb pour NomEtudiant1_NomEtudiant3.ipynb </li>\n",
    "<li>Envoyer par email à nikaabdollahi@gmail.com, l’objet du email sera [SBAS-2019] TME4</li>\n",
    "</ul>\n",
    "</div>\n"
   ]
  },
  {
   "cell_type": "markdown",
   "metadata": {},
   "source": [
    "Nom etudiant 1 : Alex YE\n",
    "<br>\n",
    "Nom etudiant 2 :\n",
    "<br>"
   ]
  },
  {
   "cell_type": "markdown",
   "metadata": {},
   "source": [
    "<h3>Introduction</h3>\n",
    "<ul>\n",
    "<li> Les cellules cancéreuses au sein des tumeurs existent souvent dans des états phénotypiques distincts.</li>\n",
    "<li> Les sous-populations de cellules purifiées pour un état phénotypique reviennent vers des proportions d'équilibre dans le temps.</li>\n",
    "<li> Cet équilibre peut s'expliquer par un modèle de Markov dans lequel les cellules passent de manière stochastique entre les états.  </li>\n",
    "</ul>\n",
    "\n",
    "<img src=\"img/CellStateTransition.png\" />"
   ]
  },
  {
   "cell_type": "markdown",
   "metadata": {},
   "source": [
    "<b>Exercice 1</b>:\n",
    "Traduire les graphes de transition de la figure D en matrices de transition, \n",
    "$P_{149}$ et $P_{159}$. Verifier bien que les matrices et les vecteur  $\\pi_{0}$ soitent normalisés.\n"
   ]
  },
  {
   "cell_type": "code",
   "execution_count": 1,
   "metadata": {},
   "outputs": [
    {
     "name": "stdout",
     "output_type": "stream",
     "text": [
      "1.0\n",
      "1.0\n"
     ]
    }
   ],
   "source": [
    "import matplotlib.pyplot as plt\n",
    "import numpy as np\n",
    "import scipy as sp\n",
    "from matplotlib.legend_handler import HandlerLine2D\n",
    "import random \n",
    "import math as mt\n",
    "\n",
    "#distribuition inicialle vecteur pi_0 S, L, B\n",
    "pi0_149 = np.array([0.039, 0.033, 0.9280])\n",
    "pi0_159 = np.array([0.019, 0.973, 0.0062])\n",
    "\n",
    "\n",
    "\n",
    "#matrices \n",
    "p_149 = np.array([[0.61, 0.30, 0.09], [0.01, 0.99, 0.00], [0.01, 0.08, 0.90]])\n",
    "p_159 = np.array([[0.58, 0.07, 0.35], [0.04, 0.47, 0.49], [0.01, 0.00, 0.99]])\n",
    "\n",
    "\n",
    "#Normaliser les vecteurs π0.\n",
    "def normalize_vec(vec):\n",
    "    if (vec.sum() != 1):\n",
    "        to_distrib = (1 - vec.sum())/len(vec)\n",
    "        vec += to_distrib\n",
    "    return vec\n",
    "\n",
    "pi0_149 = normalize_vec(pi0_149)\n",
    "pi0_159 = normalize_vec(pi0_159)\n",
    "print(pi0_159.sum())\n",
    "\n",
    "#Normaliser matrice\n",
    "def normalize_mat(mat):\n",
    "    for i in range(len(mat)):\n",
    "        mat[i] = normalize_vec(mat[i])\n",
    "    return mat\n",
    "\n",
    "p_149 = normalize_mat(p_149)\n",
    "print(p_149[2].sum())"
   ]
  },
  {
   "cell_type": "markdown",
   "metadata": {},
   "source": [
    "<b>Exercice 2</b>: Déterminer les états stationnaires \n",
    "$\\pi^\\star_{149}$ et $\\pi^\\star_{159}$ \n",
    "Est-ce que les valeurs que vous trouvez sont consistentes avec les \n",
    "valeurs experimentales en Fig. 1?"
   ]
  },
  {
   "cell_type": "code",
   "execution_count": 2,
   "metadata": {},
   "outputs": [
    {
     "name": "stdout",
     "output_type": "stream",
     "text": [
      "[0.02519548 0.95134666 0.02345786]\n",
      "[0.0234721  0.00310009 0.97342781]\n"
     ]
    }
   ],
   "source": [
    "def get_pi_stat(pi, mat):\n",
    "    pi_stat = pi.copy().dot(mat)\n",
    "    \n",
    "    while(not np.array_equal(pi,pi_stat)):\n",
    "        pi_stat = pi\n",
    "        pi = pi.dot(mat)\n",
    "    \n",
    "    return pi_stat\n",
    "\n",
    "#print(pi0_149)\n",
    "#print(p_149)\n",
    "pi_stat_149 = get_pi_stat(pi0_149, p_149)\n",
    "print(pi_stat_149)\n",
    "pi_stat_159 = get_pi_stat(pi0_159, p_159)\n",
    "print(pi_stat_159)"
   ]
  },
  {
   "cell_type": "markdown",
   "metadata": {},
   "source": [
    "<b>Exercice 3</b>: Déterminer les matrices de transition $P_{149,159}^n$ pour $n$ \n",
    "iterations avec $n=2,4,8,16,32,64$, imprimer toutes les matrices. Computer les vectors $\\pi^{(n)}$ et les comparer avec\n",
    "$\\pi^\\star_{149,159}$. Utilisez le $\\pi^0$ du papier de Gupta, page 2, ci-dessous."
   ]
  },
  {
   "cell_type": "code",
   "execution_count": 71,
   "metadata": {},
   "outputs": [
    {
     "name": "stdout",
     "output_type": "stream",
     "text": [
      "2\n",
      "\n",
      "[[0.236234   0.606865   0.156901  ]\n",
      " [0.019603   0.978144   0.002253  ]\n",
      " [0.0253307  0.23456426 0.74010504]]\n",
      "[[0.207544 0.058534 0.733922]\n",
      " [0.043444 0.108422 0.848134]\n",
      " [0.01897  0.001428 0.979602]]\n",
      "\n",
      "pi0149: [[0.03021707 0.93666797 0.03311497]] | pi_stat: [0.02519548 0.95134666 0.02345786]\n",
      "pi0159: [[0.02207818 0.00346454 0.97265728]] | pi_stat: [0.0234721  0.00310009 0.97342781]\n",
      "--------------------\n",
      "4\n",
      "\n",
      "[[0.10190136 0.73715615 0.16094249]\n",
      " [0.02307425 0.97153431 0.00539143]\n",
      " [0.0288354  0.36268139 0.60848321]]\n",
      "[[0.08539315 0.02886229 0.88574457]\n",
      " [0.03328895 0.02804083 0.93867022]\n",
      " [0.02194774 0.00239946 0.9756528 ]]\n",
      "\n",
      "pi0149: [[0.02705315 0.94092636 0.03202048]] | pi_stat: [0.02519548 0.95134666 0.02345786]\n",
      "pi0159: [[0.0229994  0.00307862 0.97212198]] | pi_stat: [0.0234721  0.00310009 0.97342781]\n",
      "--------------------\n",
      "8\n",
      "\n",
      "[[0.03601577 0.83660714 0.12737709]\n",
      " [0.02481215 0.96411874 0.01106911]\n",
      " [0.02911986 0.55660644 0.4142737 ]]\n",
      "[[0.03067598 0.00691905 0.96240497]\n",
      " [0.02497209 0.00479008 0.97023783]\n",
      " [0.02329362 0.00300262 0.97370376]]\n",
      "\n",
      "pi0149: [[0.02548838 0.94504639 0.02946522]] | pi_stat: [0.02519548 0.95134666 0.02345786]\n",
      "pi0159: [[0.02338257 0.00307645 0.97174098]] | pi_stat: [0.0234721  0.00310009 0.97342781]\n",
      "--------------------\n",
      "16\n",
      "\n",
      "[[0.02587856 0.90295392 0.07116751]\n",
      " [0.02513034 0.95698441 0.01788525]\n",
      " [0.02710376 0.77468182 0.19821443]]\n",
      "[[0.02357352 0.00315954 0.97326695]\n",
      " [0.02349569 0.0031155  0.97338881]\n",
      " [0.02346958 0.00309861 0.97343182]]\n",
      "\n",
      "pi0149: [[0.02522899 0.94859737 0.02617363]] | pi_stat: [0.02519548 0.95134666 0.02345786]\n",
      "pi0159: [[0.0234292  0.00309414 0.97167665]] | pi_stat: [0.0234721  0.00310009 0.97342781]\n",
      "--------------------\n",
      "32\n",
      "\n",
      "[[0.02530017 0.941688   0.03301183]\n",
      " [0.02518327 0.95247394 0.0223428 ]\n",
      " [0.02557842 0.91600329 0.05841829]]\n",
      "[[0.02347212 0.0031001  0.97342778]\n",
      " [0.0234721  0.00310009 0.9734278 ]\n",
      " [0.0234721  0.00310009 0.97342781]]\n",
      "\n",
      "pi0149: [[0.02520144 0.95079718 0.02400139]] | pi_stat: [0.02519548 0.95134666 0.02345786]\n",
      "pi0159: [[0.02342985 0.00309451 0.97167564]] | pi_stat: [0.0234721  0.00310009 0.97342781]\n",
      "--------------------\n",
      "64\n",
      "\n",
      "[[0.02519967 0.9509601  0.02384023]\n",
      " [0.02519499 0.95139177 0.02341324]\n",
      " [0.02521081 0.94993215 0.02485704]]\n",
      "[[0.0234721  0.00310009 0.97342781]\n",
      " [0.0234721  0.00310009 0.97342781]\n",
      " [0.0234721  0.00310009 0.97342781]]\n",
      "\n",
      "pi0149: [[0.02519572 0.95132466 0.02347962]] | pi_stat: [0.02519548 0.95134666 0.02345786]\n",
      "pi0159: [[0.02342985 0.00309451 0.97167564]] | pi_stat: [0.0234721  0.00310009 0.97342781]\n"
     ]
    }
   ],
   "source": [
    "pi_zero_149 = np.array([[0.039, 0.928, 0.033]])\n",
    "pi_zero_159 = np.array([[0.019, 0.0062, 0.973]])\n",
    "\n",
    "\n",
    "#matrice P**n\n",
    "def mat_pow(mat,n):\n",
    "    mat_p = mat.copy()\n",
    "    for i in range(n):\n",
    "        mat_p = mat_p.dot(mat)\n",
    "    return mat_p\n",
    "\n",
    "def pi_pow(pi, mat, n):\n",
    "    pi_p = pi.copy()\n",
    "    for i in range(n):\n",
    "        pi_p = pi_p.dot(mat)\n",
    "    return pi_p\n",
    "\n",
    "\n",
    "#matrice P**n where n = 2,4,8,16,32,64\n",
    "\n",
    "\n",
    "n = 2\n",
    "p_149_n = mat_pow(p_149, n)\n",
    "p_159_n = mat_pow(p_159, n)\n",
    "print(n)\n",
    "print()\n",
    "print(p_149_n)\n",
    "print(p_159_n)\n",
    "print()\n",
    "pi0_149_n = pi_pow(pi_zero_149, p_149, n)\n",
    "pi0_159_n = pi_pow(pi_zero_159, p_159, n)\n",
    "print(\"pi0149: {} | pi_stat: {}\".format(pi0_149_n, pi_stat_149) )\n",
    "print(\"pi0159: {} | pi_stat: {}\".format(pi0_159_n, pi_stat_159) )\n",
    "\n",
    "\n",
    "n = 4\n",
    "p_149_n = mat_pow(p_149, n)\n",
    "p_159_n = mat_pow(p_159, n)\n",
    "print(\"--------------------\")\n",
    "print(n)\n",
    "print()\n",
    "print(p_149_n)\n",
    "print(p_159_n)\n",
    "print()\n",
    "pi0_149_n = pi_pow(pi_zero_149, p_149, n)\n",
    "pi0_159_n = pi_pow(pi_zero_159, p_159, n)\n",
    "print(\"pi0149: {} | pi_stat: {}\".format(pi0_149_n, pi_stat_149) )\n",
    "print(\"pi0159: {} | pi_stat: {}\".format(pi0_159_n, pi_stat_159) )\n",
    "\n",
    "n = 8\n",
    "p_149_n = mat_pow(p_149, n)\n",
    "p_159_n = mat_pow(p_159, n)\n",
    "print(\"--------------------\")\n",
    "print(n)\n",
    "print()\n",
    "print(p_149_n)\n",
    "print(p_159_n)\n",
    "print()\n",
    "pi0_149_n = pi_pow(pi_zero_149, p_149, n)\n",
    "pi0_159_n = pi_pow(pi_zero_159, p_159, n)\n",
    "print(\"pi0149: {} | pi_stat: {}\".format(pi0_149_n, pi_stat_149) )\n",
    "print(\"pi0159: {} | pi_stat: {}\".format(pi0_159_n, pi_stat_159) )\n",
    "\n",
    "n = 16\n",
    "p_149_n = mat_pow(p_149, n)\n",
    "p_159_n = mat_pow(p_159, n)\n",
    "print(\"--------------------\")\n",
    "print(n)\n",
    "print()\n",
    "print(p_149_n)\n",
    "print(p_159_n)\n",
    "print()\n",
    "pi0_149_n = pi_pow(pi_zero_149, p_149, n)\n",
    "pi0_159_n = pi_pow(pi_zero_159, p_159, n)\n",
    "print(\"pi0149: {} | pi_stat: {}\".format(pi0_149_n, pi_stat_149) )\n",
    "print(\"pi0159: {} | pi_stat: {}\".format(pi0_159_n, pi_stat_159) )\n",
    "\n",
    "n = 32\n",
    "p_149_n = mat_pow(p_149, n)\n",
    "p_159_n = mat_pow(p_159, n)\n",
    "print(\"--------------------\")\n",
    "print(n)\n",
    "print()\n",
    "print(p_149_n)\n",
    "print(p_159_n)\n",
    "print()\n",
    "pi0_149_n = pi_pow(pi_zero_149, p_149, n)\n",
    "pi0_159_n = pi_pow(pi_zero_159, p_159, n)\n",
    "print(\"pi0149: {} | pi_stat: {}\".format(pi0_149_n, pi_stat_149) )\n",
    "print(\"pi0159: {} | pi_stat: {}\".format(pi0_159_n, pi_stat_159) )\n",
    "\n",
    "n = 64\n",
    "p_149_n = mat_pow(p_149, n)\n",
    "p_159_n = mat_pow(p_159, n)\n",
    "print(\"--------------------\")\n",
    "print(n)\n",
    "print()\n",
    "print(p_149_n)\n",
    "print(p_159_n)\n",
    "print()\n",
    "pi0_149_n = pi_pow(pi_zero_149, p_149, n)\n",
    "pi0_159_n = pi_pow(pi_zero_159, p_159, n)\n",
    "print(\"pi0149: {} | pi_stat: {}\".format(pi0_149_n, pi_stat_149) )\n",
    "print(\"pi0159: {} | pi_stat: {}\".format(pi0_159_n, pi_stat_159) )\n",
    "\n"
   ]
  },
  {
   "cell_type": "markdown",
   "metadata": {},
   "source": [
    "<b> Exercice 4 </b>:\n",
    " Ecrire une fonction pour déterminer les\n",
    "$(\\pi^{(t)})_{t=1:n}$ d'une chaine de Markov à trois états. Appliquer\n",
    "pour $P_{149}$ et $P_{159}$, pour les conditions initiales \n",
    "$\\pi^{(0)}\\in\\{ (0.998,0.001,0.001), (0.001,0.998,0.001), \n",
    "(0.001,0.001,0.998) \\}$ et pour $n=20$ itérations de la chaine \n",
    "de Markov. Visualiser graphiquement les résultats.\n"
   ]
  },
  {
   "cell_type": "code",
   "execution_count": 96,
   "metadata": {},
   "outputs": [],
   "source": [
    "#Déterminer la probabilité (π(t))t=0:n\n",
    "\n",
    "n=20\n",
    "pi_zero = np.array([0.998,0.001,0.001])\n",
    "pi_t_149_SL = pi_pow(pi_zero, p_149, n)\n",
    "pi_t_159_SL = pi_pow(pi_zero, p_159, n)\n",
    "\n",
    "pi_zero = np.array([0.001,0.998,0.001])\n",
    "pi_t_149_B = pi_pow(pi_zero, p_149, n)\n",
    "pi_t_159_B = pi_pow(pi_zero, p_159, n)\n",
    "\n",
    "pi_zero = np.array([0.001,0.001,0.998])\n",
    "pi_t_149_L = pi_pow(pi_zero, p_149, n)\n",
    "pi_t_159_L = pi_pow(pi_zero, p_159, n)  "
   ]
  },
  {
   "cell_type": "code",
   "execution_count": 97,
   "metadata": {},
   "outputs": [
    {
     "data": {
      "image/png": "[encoded data removed]",
      "text/plain": [
       "<Figure size 432x288 with 1 Axes>"
      ]
     },
     "metadata": {
      "needs_background": "light"
     },
     "output_type": "display_data"
    },
    {
     "data": {
      "image/png": "[encoded data removed]",
      "text/plain": [
       "<Figure size 432x288 with 1 Axes>"
      ]
     },
     "metadata": {
      "needs_background": "light"
     },
     "output_type": "display_data"
    },
    {
     "data": {
      "image/png": "[encoded data removed]",
      "text/plain": [
       "<Figure size 432x288 with 1 Axes>"
      ]
     },
     "metadata": {
      "needs_background": "light"
     },
     "output_type": "display_data"
    },
    {
     "data": {
      "image/png": "[encoded data removed]",
      "text/plain": [
       "<Figure size 432x288 with 1 Axes>"
      ]
     },
     "metadata": {
      "needs_background": "light"
     },
     "output_type": "display_data"
    },
    {
     "data": {
      "image/png": "[encoded data removed]",
      "text/plain": [
       "<Figure size 432x288 with 1 Axes>"
      ]
     },
     "metadata": {
      "needs_background": "light"
     },
     "output_type": "display_data"
    },
    {
     "data": {
      "image/png": "[encoded data removed]",
      "text/plain": [
       "<Figure size 432x288 with 1 Axes>"
      ]
     },
     "metadata": {
      "needs_background": "light"
     },
     "output_type": "display_data"
    },
    {
     "data": {
      "text/plain": [
       "'\\ndef pi_pow_t(pi,mat,n):\\n    #trace of all iterations\\n    t = []\\n    for i in range(n):\\n        pi = pi.dot(mat)\\n        t.append(pi)\\n    return t\\n\\npi_zero = np.array([0.998,0.001,0.001])\\npi_t_149_SL = pi_pow_t(pi_zero, p_149, n)\\npi_t_159_SL = pi_pow_t(pi_zero, p_159, n)\\n\\npi_zero = np.array([0.001,0.998,0.001])\\npi_t_149_B = pi_pow_t(pi_zero, p_149, n)\\npi_t_159_B = pi_pow_t(pi_zero, p_159, n)\\n\\npi_zero = np.array([0.001,0.001,0.998])\\npi_t_149_L = pi_pow_t(pi_zero, p_149, n)\\npi_t_159_L = pi_pow_t(pi_zero, p_159, n)            \\n\\n\\nplt.figure()\\nplt.plot(pi_t_149_SL)\\nplt.show()\\n\\nplt.plot(pi_t_149_B)\\nplt.show()\\n\\nplt.plot(pi_t_149_L)\\nplt.show()\\n\\n\\nplt.plot(pi_t_159_SL)\\nplt.show()\\n\\nplt.plot(pi_t_159_B)\\nplt.show()\\n\\nplt.plot(pi_t_159_L)\\nplt.show()\\n'"
      ]
     },
     "execution_count": 97,
     "metadata": {},
     "output_type": "execute_result"
    }
   ],
   "source": [
    "#Visualiser graphiquement les résultats.\n",
    "\n",
    "labels = [\"SL\",\"B\",\"L\"]\n",
    "\n",
    "plt.figure()\n",
    "plt.bar(range(len(pi_t_149_SL)), pi_t_149_SL, tick_label= labels)\n",
    "plt.show()\n",
    "\n",
    "plt.bar(range(len(pi_t_149_B)),pi_t_149_B, tick_label= labels)\n",
    "plt.show()\n",
    "\n",
    "plt.bar(range(len(pi_t_149_L)),pi_t_149_L, tick_label= labels)\n",
    "plt.show()\n",
    "\n",
    "\n",
    "plt.bar(range(len(pi_t_159_SL)), pi_t_159_SL, tick_label= labels)\n",
    "plt.show()\n",
    "\n",
    "plt.bar(range(len(pi_t_159_B)),pi_t_159_B, tick_label= labels)\n",
    "plt.show()\n",
    "\n",
    "plt.bar(range(len(pi_t_159_L)),pi_t_159_L, tick_label= labels)\n",
    "plt.show()\n",
    "\n",
    "\n",
    "\n",
    "'''\n",
    "def pi_pow_t(pi,mat,n):\n",
    "    #trace of all iterations\n",
    "    t = []\n",
    "    for i in range(n):\n",
    "        pi = pi.dot(mat)\n",
    "        t.append(pi)\n",
    "    return t\n",
    "\n",
    "pi_zero = np.array([0.998,0.001,0.001])\n",
    "pi_t_149_SL = pi_pow_t(pi_zero, p_149, n)\n",
    "pi_t_159_SL = pi_pow_t(pi_zero, p_159, n)\n",
    "\n",
    "pi_zero = np.array([0.001,0.998,0.001])\n",
    "pi_t_149_B = pi_pow_t(pi_zero, p_149, n)\n",
    "pi_t_159_B = pi_pow_t(pi_zero, p_159, n)\n",
    "\n",
    "pi_zero = np.array([0.001,0.001,0.998])\n",
    "pi_t_149_L = pi_pow_t(pi_zero, p_149, n)\n",
    "pi_t_159_L = pi_pow_t(pi_zero, p_159, n)            \n",
    "\n",
    "\n",
    "plt.figure()\n",
    "plt.plot(pi_t_149_SL)\n",
    "plt.show()\n",
    "\n",
    "plt.plot(pi_t_149_B)\n",
    "plt.show()\n",
    "\n",
    "plt.plot(pi_t_149_L)\n",
    "plt.show()\n",
    "\n",
    "\n",
    "plt.plot(pi_t_159_SL)\n",
    "plt.show()\n",
    "\n",
    "plt.plot(pi_t_159_B)\n",
    "plt.show()\n",
    "\n",
    "plt.plot(pi_t_159_L)\n",
    "plt.show()\n",
    "'''\n"
   ]
  },
  {
   "cell_type": "code",
   "execution_count": null,
   "metadata": {},
   "outputs": [],
   "source": []
  },
  {
   "cell_type": "markdown",
   "metadata": {},
   "source": [
    "<b> Exercice 5 </b>:\n",
    "Ecrire une fonction pour simuler la trajectoire stochastique\n",
    "$(x_t)_{t=0:n}$ d'une seule réalisation de la chaiine de Markov. \n",
    "Créer des population de $N=10,100,1000,10000$ trajectoires. Estimer \n",
    "la trajectoire moyenne de chaque population.\n"
   ]
  },
  {
   "cell_type": "code",
   "execution_count": 62,
   "metadata": {},
   "outputs": [
    {
     "data": {
      "image/png": "[encoded data removed]",
      "text/plain": [
       "<Figure size 432x288 with 1 Axes>"
      ]
     },
     "metadata": {
      "needs_background": "light"
     },
     "output_type": "display_data"
    }
   ],
   "source": [
    "N = 10000 #nombre de trajectoires\n",
    "n = 25 #taille des trajectoires\n",
    "\n",
    "#Trajectoire\n",
    "def rand_move(pi):\n",
    "    val=random.uniform(0,1)\n",
    "    for i in range(len(pi)):\n",
    "        if(val - pi[i] <= 0):\n",
    "            return i\n",
    "        val -= pi[i]\n",
    "        \n",
    "def traject(n, pi, mat):\n",
    "    traj = []\n",
    "    x = rand_move(pi)\n",
    "    traj.append(x)\n",
    "    for i in range(n):\n",
    "        x = rand_move(mat[x])\n",
    "        traj.append(x)\n",
    "    traj = np.array(traj)\n",
    "    return traj\n",
    "\n",
    "\n",
    "#Déterminer une trajectoire pour N population.\n",
    "def N_traj(N, n, pi, mat):\n",
    "    N_traj = []\n",
    "    for i in range(N):\n",
    "        traj = traject(n, pi, mat)\n",
    "        N_traj.append(traj)\n",
    "    N_traj = np.array(N_traj)\n",
    "    return N_traj\n",
    "\n",
    "traj_N = N_traj(N, n, pi0_149, p_149)\n",
    "\n",
    "#Estimer la trajectoire moyenne d'une chaine de markov pou N\n",
    "def mean_traj(traj, N, n, pi):\n",
    "    nb_state = len(pi)\n",
    "    mean_traj = []\n",
    "    for i in range(n):\n",
    "        mean = np.zeros(nb_state)\n",
    "        for t in traj:\n",
    "            mean[t[i]] += 1\n",
    "        for j in range(nb_state):\n",
    "            mean[j] /= N\n",
    "        mean_traj.append(mean)\n",
    "        \n",
    "    mean_traj = np.array(mean_traj)\n",
    "    return mean_traj\n",
    "\n",
    "m_traj = mean_traj(traj_N, N, n, pi0_149)\n",
    "#Visualiser graphique des trajectoires.\n",
    "\n",
    "plt.figure()\n",
    "plt.plot(m_traj)\n",
    "plt.show()"
   ]
  },
  {
   "cell_type": "code",
   "execution_count": null,
   "metadata": {},
   "outputs": [],
   "source": []
  },
  {
   "cell_type": "markdown",
   "metadata": {},
   "source": [
    "<b> Exercice 6 </b>: \n",
    "Ecrire une fonction pour calculer la probabilité d'une trajectoire\n",
    "$(x_t)_{t=0:n}$. Pour y facilite vous devez applique le log et utlise la some au\n",
    "lieu du product.  Ensuite vouz devez comparer les probabilités de \n",
    "deux chaiines de Markov $P_{149}$ et $P_{159}$. Visualiser les histogrammes pour les deux populations de taille $N=10000$ (géenérées avec $P_{149}$ et $P_{159}$). Est-ce que vous observez des différences entre les deux modèles? Comment est-ce que vous expliquer cettes différences?"
   ]
  },
  {
   "cell_type": "code",
   "execution_count": 104,
   "metadata": {},
   "outputs": [
    {
     "data": {
      "image/png": "[encoded data removed]",
      "text/plain": [
       "<Figure size 432x288 with 1 Axes>"
      ]
     },
     "metadata": {
      "needs_background": "light"
     },
     "output_type": "display_data"
    },
    {
     "name": "stdout",
     "output_type": "stream",
     "text": [
      "[-2.75058658 -4.21639966 -3.11703985 ... -3.30026648 -3.75833307\n",
      " -3.66671976]\n",
      "[-3.91095    -0.93106101 -0.93106101 ... -1.67603325 -1.67603325\n",
      " -2.4210055 ]\n"
     ]
    }
   ],
   "source": [
    "#Calculer la probabilité d’une trajectoire (xt)t=0:n\n",
    "def log_prob_traj(traj, pi, mat):\n",
    "    log_prob = np.log(pi[traj[0]])\n",
    "    for i in range(1,len(traj)):\n",
    "        log_prob += np.log( mat[traj[i-1]][traj[i]] )\n",
    "    return log_prob\n",
    "\n",
    "N = 10000\n",
    "\n",
    "traj_N = N_traj(N, n, pi0_149, p_149)\n",
    "hist_149 = []\n",
    "for traj in traj_N:\n",
    "    prob = log_prob_traj(traj, pi0_149, p_149)\n",
    "    hist_149.append(prob)\n",
    "hist_149 = np.array(hist_149)\n",
    "\n",
    "traj_N = N_traj(N, n, pi0_159, p_159)\n",
    "hist_159 = []\n",
    "for traj in traj_N:\n",
    "    prob = log_prob_traj(traj, pi0_159, p_159)\n",
    "    hist_159.append(prob)\n",
    "hist_159 = np.array(hist_159)\n",
    "\n",
    "#montrer le histogramme\n",
    "#bleu: 149\n",
    "#orange: 159\n",
    "plt.figure()\n",
    "plt.hist(hist_149)\n",
    "plt.hist(hist_159)\n",
    "plt.show()\n",
    "\n",
    "\n",
    "'''\n",
    "\n",
    "159 a une plus grande probabilité comparé à 149. 159 doit être plus commune dans la nature que 149. \n",
    "\n",
    "'''"
   ]
  },
  {
   "cell_type": "code",
   "execution_count": null,
   "metadata": {},
   "outputs": [],
   "source": []
  }
 ],
 "metadata": {
  "kernelspec": {
   "display_name": "Python 3",
   "language": "python",
   "name": "python3"
  },
  "language_info": {
   "codemirror_mode": {
    "name": "ipython",
    "version": 3
   },
   "file_extension": ".py",
   "mimetype": "text/x-python",
   "name": "python",
   "nbconvert_exporter": "python",
   "pygments_lexer": "ipython3",
   "version": "3.6.7"
  }
 },
 "nbformat": 4,
 "nbformat_minor": 1
}
