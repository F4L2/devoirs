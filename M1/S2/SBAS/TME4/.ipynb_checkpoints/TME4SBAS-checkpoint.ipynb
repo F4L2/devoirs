{
 "cells": [
  {
   "cell_type": "markdown",
   "metadata": {},
   "source": [
    "<h1><b>Statistique en Bioinformatique : </b> TME4 </h1>\n",
    "<br>\n",
    "L’objectif de ce TME sont: \n",
    "<br>\n",
    "<ul>\n",
    "<li> objectif 1 : Utiliser les chaines de Markov pour comprendre les états phénotypiques de cellules cancéreuses.   </li> \n",
    "<li> objectif 2 : étudier la dynamique des proportions phénotypiques dans les lignées cellulaires du cancer du sein humain: SUM159 et SUM149</li>\n",
    "</ul>\n",
    "<br>\n",
    "<div class=\"alert alert-warning\" role=\"alert\" style=\"margin: 10px\">\n",
    "<p>**Soumission**</p>\n",
    "<ul>\n",
    "<li>Renomer le fichier TME4_subject_st.ipynb pour NomEtudiant1_NomEtudiant3.ipynb </li>\n",
    "<li>Envoyer par email à nikaabdollahi@gmail.com, l’objet du email sera [SBAS-2019] TME4 (deadline 04/03/2018 23:59)</li>\n",
    "</ul>\n",
    "</div>\n"
   ]
  },
  {
   "cell_type": "markdown",
   "metadata": {},
   "source": [
    "Nom etudiant 1 :\n",
    "<br>\n",
    "Nom etudiant 2 :\n",
    "<br>"
   ]
  },
  {
   "cell_type": "markdown",
   "metadata": {},
   "source": [
    "<h3>Introduction</h3>\n",
    "<ul>\n",
    "<li> Les cellules cancéreuses au sein des tumeurs existent souvent dans des états phénotypiques distincts.</li>\n",
    "<li> Les sous-populations de cellules purifiées pour un état phénotypique reviennent vers des proportions d'équilibre dans le temps.</li>\n",
    "<li> Cet équilibre peut s'expliquer par un modèle de Markov dans lequel les cellules passent de manière stochastique entre les états.  </li>\n",
    "</ul>\n",
    "\n",
    "<img src=\"img/CellStateTransition.png\" />"
   ]
  },
  {
   "cell_type": "markdown",
   "metadata": {},
   "source": [
    "<b>Exercice 1</b>:\n",
    "Traduire les graphes de transition de la figure D en matrices de transition, \n",
    "$P_{149}$ et $P_{159}$. Verifier bien que les matrices et les vecteur  $\\pi_{0}$ soitent normalisés.\n"
   ]
  },
  {
   "cell_type": "code",
   "execution_count": 12,
   "metadata": {},
   "outputs": [
    {
     "name": "stdout",
     "output_type": "stream",
     "text": [
      "[[0.61       0.3        0.09      ]\n",
      " [0.01       0.99       0.        ]\n",
      " [0.01010101 0.08080808 0.90909091]]\n",
      "[[0.58 0.07 0.35]\n",
      " [0.04 0.47 0.49]\n",
      " [0.01 0.   0.99]]\n"
     ]
    }
   ],
   "source": [
    "import matplotlib.pyplot as plt\n",
    "import numpy as np\n",
    "import scipy as sp\n",
    "from matplotlib.legend_handler import HandlerLine2D\n",
    "import random\n",
    "import math as mt\n",
    "\n",
    "#distribuition inicialle vecteur pi_0 S, L, B\n",
    "pi0_149 = np.array([0.039, 0.033, 0.9280])\n",
    "pi0_159 = np.array([0.019, 0.973, 0.0062])\n",
    "\n",
    "\n",
    "\n",
    "#matrices \n",
    "#p_149 = np.array([[0.61,0.09,0.3],[0.01,0.9,0.08],[0.01,0,0.99]])\n",
    "p_149 = np.array([[0.61, 0.30, 0.09], [0.01, 0.99, 0.00], [0.01, 0.08, 0.90]])\n",
    "\n",
    "\n",
    "#p_159 = np.array([[0.58,0.35,0.07],[0.01,0.99,0],[0.04,0.49,0.47]])\n",
    "p_159 = np.array([[0.58, 0.07, 0.35], [0.04, 0.47, 0.49], [0.01, 0.00, 0.99]])\n",
    "\n",
    "#Normaliser les vecteurs π0.\n",
    "pi0_149 = pi0_149 / sum(pi0_149)\n",
    "pi0_159 = pi0_159 / sum(pi0_159)\n",
    "\n",
    "\n",
    "#Normaliser matrice\n",
    "def normalise(m):\n",
    "\tm /= m.sum(axis=1)[:,np.newaxis]  \n",
    "\treturn m\n",
    "print (normalise(p_149))\n",
    "print (normalise(p_159))"
   ]
  },
  {
   "cell_type": "markdown",
   "metadata": {},
   "source": [
    "<b>Exercice 2</b>: Déterminer les états stationnaires \n",
    "$\\pi^\\star_{149}$ et $\\pi^\\star_{159}$ \n",
    "Est-ce que les valeurs que vous trouvez sont consistentes avec les \n",
    "valeurs experimentales en Fig. 1?"
   ]
  },
  {
   "cell_type": "code",
   "execution_count": 13,
   "metadata": {},
   "outputs": [
    {
     "name": "stdout",
     "output_type": "stream",
     "text": [
      "[0.59997059 1.         0.90912032]\n",
      "[[-7.93741374e-01  2.62977651e-02  2.31020909e-04]\n",
      " [ 5.62644550e-01  9.99315074e-01 -7.07222263e-01]\n",
      " [ 2.31096824e-01  2.60347875e-02  7.06991242e-01]]\n",
      "Pi star 149  [0.02500625 0.95023756 0.02475619]\n",
      "Pi star 159  [0.0234721  0.00310009 0.97342781]\n"
     ]
    }
   ],
   "source": [
    "eigenvalues149, eigenvectors149 = np.linalg.eig(np.transpose(p_149))\n",
    "eigenvalues159, eigenvectors159 = np.linalg.eig(np.transpose(p_159))\n",
    "\n",
    "print (eigenvalues149)\n",
    "print (eigenvectors149)\n",
    "\n",
    "tolerance = 1e-4           \n",
    "index149 = 1\n",
    "index159 = 0\n",
    "\n",
    "pi_stat_149 = np.linalg.eig(np.transpose(p_149))\n",
    "pi_stat_149 = np.absolute(pi_stat_149[1][:,index149])\n",
    "\n",
    "pi_stat_159 = np.linalg.eig(np.transpose(p_159))\n",
    "pi_stat_159 = np.absolute(pi_stat_159[1][:,index159])\n",
    "\n",
    "\n",
    "pi_stat_149 /=  pi_stat_149.sum()[np.newaxis]\n",
    "pi_stat_159 /=  pi_stat_159.sum()[np.newaxis]\n",
    "\n",
    "print (\"Pi star 149 \" , pi_stat_149)\n",
    "print (\"Pi star 159 \" , pi_stat_159)\n"
   ]
  },
  {
   "cell_type": "markdown",
   "metadata": {},
   "source": [
    "<b>Exercice 3</b>: Déterminer les matrices de transition $P_{149,159}^n$ pour $n$ \n",
    "iterations avec $n=2,4,8,16,32,64$, imprimer toutes les matrices. Computer les vectors $\\pi^{(n)}$ et les comparer avec\n",
    "$\\pi^\\star_{149,159}$. Utilisez le $\\pi^0$ du papier de Gupta, page 2, ci-dessous."
   ]
  },
  {
   "cell_type": "code",
   "execution_count": 14,
   "metadata": {},
   "outputs": [
    {
     "name": "stdout",
     "output_type": "stream",
     "text": [
      "149^2:\n",
      "[[3.76009091e-01 4.87272727e-01 1.36718182e-01]\n",
      " [1.60000000e-02 9.83100000e-01 9.00000000e-04]\n",
      " [1.61524334e-02 1.56492195e-01 8.27355372e-01]]\n",
      "pi(2)\n",
      "[[0.03004538 0.93648468 0.03346994]]\n",
      "149^4:\n",
      "[[0.15138753 0.68365212 0.16496035]\n",
      " [0.02176028 0.97442282 0.0038169 ]\n",
      " [0.02194114 0.29119277 0.68686609]]\n",
      "pi(4)\n",
      "[[0.02682171 0.94053617 0.03264212]]\n",
      "149^8:\n",
      "[[0.04141407 0.81769789 0.14088804]\n",
      " [0.0245817  0.96548774 0.00993056]\n",
      " [0.02472868 0.49875543 0.47651589]]\n",
      "pi(8)\n",
      "[[0.02524301 0.94432177 0.03043522]]\n",
      "149^16:\n",
      "[[0.0252995  0.89361016 0.08109033]\n",
      " [0.02499693 0.9572199  0.01778317]\n",
      " [0.02506798 0.73942773 0.23550429]]\n",
      "pi(16)\n",
      "[[0.02501107 0.94755198 0.02743695]]\n",
      "149^32:\n",
      "[[0.02501034 0.93794977 0.03703989]\n",
      " [0.02500575 0.95175682 0.02323742]\n",
      " [0.02502124 0.90433435 0.07064441]]\n",
      "pi(32)\n",
      "[[0.02500644 0.94965341 0.02534015]]\n",
      "149^64:\n",
      "[[0.02500644 0.94965498 0.02533858]\n",
      " [0.02500623 0.95030959 0.02468418]\n",
      " [0.02500696 0.94806122 0.02693182]]\n",
      "pi(64)\n",
      "[[0.02500626 0.95020986 0.02478388]]\n",
      "None\n",
      "159^2:\n",
      "[[3.76009091e-01 4.87272727e-01 1.36718182e-01]\n",
      " [1.60000000e-02 9.83100000e-01 9.00000000e-04]\n",
      " [1.61524334e-02 1.56492195e-01 8.27355372e-01]]\n",
      "pi(2)\n",
      "[[0.02295969 0.16762031 0.80762   ]]\n",
      "159^4:\n",
      "[[0.15138753 0.68365212 0.16496035]\n",
      " [0.02176028 0.97442282 0.0038169 ]\n",
      " [0.02194114 0.29119277 0.68686609]]\n",
      "pi(4)\n",
      "[[0.02436001 0.30236138 0.67147861]]\n",
      "159^8:\n",
      "[[0.04141407 0.81769789 0.14088804]\n",
      " [0.0245817  0.96548774 0.00993056]\n",
      " [0.02472868 0.49875543 0.47651589]]\n",
      "pi(8)\n",
      "[[0.02500028 0.50681132 0.4663884 ]]\n",
      "159^16:\n",
      "[[0.0252995  0.89361016 0.08109033]\n",
      " [0.02499693 0.9572199  0.01778317]\n",
      " [0.02506798 0.73942773 0.23550429]]\n",
      "pi(16)\n",
      "[[0.02502681 0.74237654 0.23079665]]\n",
      "159^32:\n",
      "[[0.02501034 0.93794977 0.03703989]\n",
      " [0.02500575 0.95175682 0.02323742]\n",
      " [0.02502124 0.90433435 0.07064441]]\n",
      "pi(32)\n",
      "[[0.0249759  0.90363926 0.06958484]]\n",
      "159^64:\n",
      "[[0.02500644 0.94965498 0.02533858]\n",
      " [0.02500623 0.95030959 0.02468418]\n",
      " [0.02500696 0.94806122 0.02693182]]\n",
      "pi(64)\n",
      "[[0.02496194 0.94639893 0.02683913]]\n",
      "None\n"
     ]
    }
   ],
   "source": [
    "pi_zero_149 = np.array([[0.039, 0.928, 0.033]])\n",
    "pi_zero_159 = np.array([[0.019, 0.0062, 0.973]])\n",
    "\n",
    "\n",
    "#matrice P**n\n",
    "def matTransN(M, n):\n",
    "\ttemp_p = np.linalg.matrix_power(p_149, n)\n",
    "\treturn temp_p\n",
    "\n",
    "#matrice P**n where n = 2,4,8,16,32,64\n",
    "def printMat(M, n, pi_0, M_name):\n",
    "\tfor n in (2**x for x in range(1,7)):\n",
    "\t\tprint(M_name+'^'+str(n)+':')\n",
    "\t\ttemp_p = matTransN(M, n)\n",
    "\t\tprint(temp_p)\n",
    "\t\tprint('pi('+str(n)+')')\n",
    "\t\tprint(pi_0.dot(temp_p))\n",
    "\n",
    "print (printMat(p_149, 2, pi_zero_149, '149'))\n",
    "print (printMat(p_159, 2, pi_zero_159, '159'))"
   ]
  },
  {
   "cell_type": "markdown",
   "metadata": {},
   "source": [
    "<b> Exercice 4 </b>:\n",
    " Ecrire une fonction pour déterminer les\n",
    "$(\\pi^{(t)})_{t=1:n}$ d'une chaine de Markov à trois états. Appliquer\n",
    "pour $P_{149}$ et $P_{159}$, pour les conditions initiales \n",
    "$\\pi^{(0)}\\in\\{ (0.998,0.001,0.001), (0.001,0.998,0.001), \n",
    "(0.001,0.001,0.998) \\}$ et pour $n=20$ itérations de la chaine \n",
    "de Markov. Visualiser graphiquement les résultats.\n"
   ]
  },
  {
   "cell_type": "code",
   "execution_count": 9,
   "metadata": {},
   "outputs": [],
   "source": [
    "#Déterminer la probabilité (π(t))t=0:n\n",
    "def M_trans(pi_0, M, n):\n",
    "    TransP = matTransN(M, n)\n",
    "    Pi_n = pi_0.dot(TransP)\n",
    "    return Pi_n \n"
   ]
  },
  {
   "cell_type": "code",
   "execution_count": 9,
   "metadata": {},
   "outputs": [],
   "source": [
    "#Déterminer la probabilité (π(t))t=0:n\n",
    "\n",
    "def Pi_n(pi0,M):\n",
    "\tn=20\n",
    "\tliste_M_trans=[]\n",
    "\tfor i in range(n):\n",
    "\t\tliste_M_trans.append(M_trans(pi0,M,i) )\n",
    "\treturn np.array(liste_M_trans)\n"
   ]
  },
  {
   "cell_type": "code",
   "execution_count": 10,
   "metadata": {},
   "outputs": [],
   "source": [
    "def graph(PI):\n",
    "\tSL,=plt.plot(range(20), PI[:,0] , 'c^',linewidth=2, label='SL')\n",
    "\tplt.plot(range(20), PI[:,0] , ':c',linewidth=1.5)\n",
    "\tplt.legend(handler_map={SL: HandlerLine2D(numpoints=1)},loc=3)\n",
    "\tplt.legend(bbox_to_anchor=(1.05, 1), loc=2, borderaxespad=0.)\n",
    "\n",
    "\tB,=plt.plot(range(20),PI[:,1], 'ro',linewidth=2, label='Basal')\n",
    "\tplt.plot(range(20), PI[:,1], ':r',linewidth=1.5)\n",
    "\tplt.legend(handler_map={B: HandlerLine2D(numpoints=1)},loc=2)\n",
    "\tplt.legend(bbox_to_anchor=(1.05, 1), loc=2, borderaxespad=0.)\n",
    "\n",
    "\tL,=plt.plot(range(20), PI[:,2] ,'ms',  linewidth=2, label='Luminal')\n",
    "\tplt.plot(range(20),PI[:,2] , ':m',linewidth=1.5)\n",
    "\tplt.legend(handler_map={L: HandlerLine2D(numpoints=2)},loc=1)\n",
    "\tplt.legend(bbox_to_anchor=(1.05, 1), loc=2, borderaxespad=0.)\n",
    "\t\n",
    "\tplt.show()\n"
   ]
  },
  {
   "cell_type": "code",
   "execution_count": 11,
   "metadata": {},
   "outputs": [
    {
     "ename": "TypeError",
     "evalue": "'numpy.ndarray' object is not callable",
     "output_type": "error",
     "traceback": [
      "\u001b[0;31m---------------------------------------------------------------------------\u001b[0m",
      "\u001b[0;31mTypeError\u001b[0m                                 Traceback (most recent call last)",
      "\u001b[0;32m<ipython-input-11-9ab7b0477b58>\u001b[0m in \u001b[0;36m<module>\u001b[0;34m()\u001b[0m\n\u001b[1;32m      1\u001b[0m \u001b[0mpi1\u001b[0m \u001b[0;34m=\u001b[0m \u001b[0mnp\u001b[0m\u001b[0;34m.\u001b[0m\u001b[0marray\u001b[0m\u001b[0;34m(\u001b[0m\u001b[0;34m[\u001b[0m\u001b[0;36m0.998\u001b[0m\u001b[0;34m,\u001b[0m\u001b[0;36m0.001\u001b[0m\u001b[0;34m,\u001b[0m\u001b[0;36m0.001\u001b[0m\u001b[0;34m]\u001b[0m\u001b[0;34m)\u001b[0m\u001b[0;34m\u001b[0m\u001b[0m\n\u001b[0;32m----> 2\u001b[0;31m \u001b[0mgraph\u001b[0m\u001b[0;34m(\u001b[0m\u001b[0mPi_n\u001b[0m\u001b[0;34m(\u001b[0m\u001b[0mpi1\u001b[0m\u001b[0;34m,\u001b[0m\u001b[0mp_149\u001b[0m\u001b[0;34m)\u001b[0m\u001b[0;34m)\u001b[0m\u001b[0;34m\u001b[0m\u001b[0m\n\u001b[0m",
      "\u001b[0;32m<ipython-input-9-d1833678b8ec>\u001b[0m in \u001b[0;36mPi_n\u001b[0;34m(pi0, M)\u001b[0m\n\u001b[1;32m      5\u001b[0m         \u001b[0mliste_M_trans\u001b[0m\u001b[0;34m=\u001b[0m\u001b[0;34m[\u001b[0m\u001b[0;34m]\u001b[0m\u001b[0;34m\u001b[0m\u001b[0m\n\u001b[1;32m      6\u001b[0m         \u001b[0;32mfor\u001b[0m \u001b[0mi\u001b[0m \u001b[0;32min\u001b[0m \u001b[0mrange\u001b[0m\u001b[0;34m(\u001b[0m\u001b[0mn\u001b[0m\u001b[0;34m)\u001b[0m\u001b[0;34m:\u001b[0m\u001b[0;34m\u001b[0m\u001b[0m\n\u001b[0;32m----> 7\u001b[0;31m                 \u001b[0mliste_M_trans\u001b[0m\u001b[0;34m.\u001b[0m\u001b[0mappend\u001b[0m\u001b[0;34m(\u001b[0m\u001b[0mM\u001b[0m\u001b[0;34m(\u001b[0m\u001b[0mpi0\u001b[0m\u001b[0;34m,\u001b[0m\u001b[0mM\u001b[0m\u001b[0;34m,\u001b[0m\u001b[0mi\u001b[0m\u001b[0;34m)\u001b[0m \u001b[0;34m)\u001b[0m\u001b[0;34m\u001b[0m\u001b[0m\n\u001b[0m\u001b[1;32m      8\u001b[0m         \u001b[0;32mreturn\u001b[0m \u001b[0mnp\u001b[0m\u001b[0;34m.\u001b[0m\u001b[0marray\u001b[0m\u001b[0;34m(\u001b[0m\u001b[0mliste_M_trans\u001b[0m\u001b[0;34m)\u001b[0m\u001b[0;34m\u001b[0m\u001b[0m\n",
      "\u001b[0;31mTypeError\u001b[0m: 'numpy.ndarray' object is not callable"
     ]
    }
   ],
   "source": [
    "pi1 = np.array([0.998,0.001,0.001])\n",
    "graph(Pi_n(pi1,p_149))"
   ]
  },
  {
   "cell_type": "markdown",
   "metadata": {},
   "source": [
    "<b> Exercice 5 </b>:\n",
    "Ecrire une fonction pour simuler la trajectoire stochastique\n",
    "$(x_t)_{t=0:n}$ d'une seule réalisation de la chaiine de Markov. \n",
    "Créer des population de $N=10,100,1000,10000$ trajectoires. Estimer \n",
    "la trajectoire moyenne de chaque population.\n"
   ]
  },
  {
   "cell_type": "code",
   "execution_count": null,
   "metadata": {},
   "outputs": [],
   "source": [
    "def Trajectoire (n, Pi_0, P):\n",
    "\tTraj = []    \n",
    "\tProba = Pi_0\n",
    "\tfor i in range (n) :\n",
    "\t\tnb = random.random() \n",
    "\t\tif nb < Proba[0]:\n",
    "\t\t\tTraj.append(\"S\")\n",
    "\t\t\tProba = P[0]\n",
    "\t\tif nb < (Proba[0] + Proba[1]) and nb >= Proba[0]:\n",
    "\t\t\tTraj.append(\"B\")\n",
    "\t\t\tProba = P[1]\n",
    "\t\tif nb >= (Proba[0] + Proba[1]):\n",
    "\t\t\tTraj.append(\"L\")\n",
    "\t\t\tProba = P[2]\n",
    "\treturn Traj\n",
    "\n",
    "#Déterminer une trajectoire pour N population.\n",
    "def Trajectoire_P(n, Pi_0, P, N):\n",
    "\tTrajP=[]\n",
    "\tfor i in range (N):\n",
    "\t\tTrajP.append(Trajectoire(n, Pi_0, P))\n",
    "\treturn TrajP\n",
    "    \n",
    "\n",
    "#Estimer la trajectoire moyenne d'une chaine de markov pou N\n",
    "def Trajectoire_moy(n, Pi_0, P, N):\n",
    "\tPb = Trajectoire_P(n, Pi_0, P, N)\n",
    "\tTrajMoy = np.zeros((3,n))\n",
    "\tfor i in range (n):\n",
    "\t\tfor j in Pb :\n",
    "\t\t\tif j[i] == \"S\":\n",
    "\t\t\t\tTrajMoy[0][i] += 1\n",
    "\t\t\tif j[i] == \"B\" :\n",
    "\t\t\t\tTrajMoy[1][i] += 1\n",
    "\t\t\tif  j[i] == \"L\" :\n",
    "\t\t\t\tTrajMoy[2][i] += 1\n",
    "\tTrajMoy = TrajMoy/ float(N)\n",
    "\treturn TrajMoy\n",
    "\n",
    "#Visualiser graphique des trajectoires.\n",
    "def graph2(t):\n",
    "\t\n",
    "\tSL,=plt.plot(range(20), t[0,:] , 'c^',linewidth=2, label='SL')\n",
    "\tplt.plot(range(20), t[0,:] , ':c',linewidth=1.5)\n",
    "\tplt.legend(handler_map={SL: HandlerLine2D(numpoints=1)},loc=3)\n",
    "\tplt.legend(bbox_to_anchor=(1.05, 1), loc=2, borderaxespad=0.)\n",
    "\n",
    "\tB,=plt.plot(range(20),t[1,:], 'ro',linewidth=2, label='Basal')\n",
    "\tplt.plot(range(20), t[1,:], ':r',linewidth=1.5)\n",
    "\tplt.legend(handler_map={B: HandlerLine2D(numpoints=1)},loc=2)\n",
    "\tplt.legend(bbox_to_anchor=(1.05, 1), loc=2, borderaxespad=0.)\n",
    "\n",
    "\tL,=plt.plot(range(20), t[2,:] ,'ms',  linewidth=2, label='Luminal')\n",
    "\tplt.plot(range(20),t[2,:] , ':m',linewidth=1.5)\n",
    "\tplt.legend(handler_map={L: HandlerLine2D(numpoints=2)},loc=1)\n",
    "\tplt.legend(bbox_to_anchor=(1.05, 1), loc=2, borderaxespad=0.)\n",
    "\n",
    "\tplt.show()"
   ]
  },
  {
   "cell_type": "code",
   "execution_count": null,
   "metadata": {},
   "outputs": [],
   "source": [
    "graph2(Trajectoire_moy(20, pi1, p_149, 10))"
   ]
  },
  {
   "cell_type": "markdown",
   "metadata": {},
   "source": [
    "<b> Exercice 6 </b>: \n",
    "Ecrire une fonction pour calculer la probabilité d'une trajectoire\n",
    "$(x_t)_{t=0:n}$. Pour y facilite vous devez applique le log et utlise la some au\n",
    "lieu du product.  Ensuite vouz devez comparer les probabilités de \n",
    "deux chaiines de Markov $P_{149}$ et $P_{159}$. Visualiser les histogrammes pour les deux populations de taille $N=10000$ (géenérées avec $P_{149}$ et $P_{159}$). Est-ce que vous observez des différences entre les deux modèles? Comment est-ce que vous expliquer cettes différences?"
   ]
  },
  {
   "cell_type": "code",
   "execution_count": null,
   "metadata": {},
   "outputs": [],
   "source": [
    "def Trajectoire_Index(Traj): \n",
    "\tind = []\n",
    "\tfor i in range(len(Traj)) :\n",
    "\t\tif Traj[i] == \"S\":\n",
    "\t\t\tind.append(0)\n",
    "\t\tif Traj[i] == \"B\" :\n",
    "\t\t\tind.append(1)\n",
    "\t\tif  Traj[i] == \"L\" :\n",
    "\t\t\tind.append(2)\n",
    "\treturn ind\n",
    "\n",
    "#Calculer la probabilité d’une trajectoire (xt)t=0:n\n",
    "def Pb_Trajectoire(Traj, Pi_0, P): \n",
    "\ttraj = Trajectoire_Index(Traj)\n",
    "\tif Pi_0[traj[0]] == 0:\n",
    "\t\tPi_0[traj[0]] = 10**(-100)\n",
    "\tProba = mt.log(Pi_0[traj[0]],2)\n",
    "\tfor i in range(1, len(Traj)):\n",
    "\t\tif P[traj[i-1], traj[i]] == 0:\n",
    "\t\t\tP[traj[i-1], traj[i]] = 10**(-100)\n",
    "\t\tProba += mt.log(P[traj[i-1], traj[i]],2)\n",
    "\treturn Proba\n",
    "\n",
    "\n",
    "def Histo (Traj, Pi_0, P):\n",
    "\tpop = []\n",
    "\tfor i in Traj :\n",
    "\t\tpop.append(Pb_Trajectoire(i, Pi_0, P))\n",
    "\treturn pop\n",
    "\n",
    "def graph3(Histo149,Histo159):\n",
    "\tplt.hist(Histo149, bins = 35, color = \"blue\")\n",
    "\tplt.show()\n",
    "\tplt.hist(Histo159, bins = 35, color = \"red\")\n",
    "\tplt.show()\n",
    "\n",
    "#-------------------------------------------------------------\n",
    "graph3(Histo(Trajectoire_P(20, pi0_149, p_149, 10000),pi0_149, p_149), Histo(Trajectoire_P(20, pi0_159, p_159, 10000),pi0_159, p_159))\n"
   ]
  },
  {
   "cell_type": "markdown",
   "metadata": {},
   "source": []
  }
 ],
 "metadata": {
  "kernelspec": {
   "display_name": "Python 3",
   "language": "python",
   "name": "python3"
  },
  "language_info": {
   "codemirror_mode": {
    "name": "ipython",
    "version": 3
   },
   "file_extension": ".py",
   "mimetype": "text/x-python",
   "name": "python",
   "nbconvert_exporter": "python",
   "pygments_lexer": "ipython3",
   "version": "3.6.4"
  }
 },
 "nbformat": 4,
 "nbformat_minor": 1
}
