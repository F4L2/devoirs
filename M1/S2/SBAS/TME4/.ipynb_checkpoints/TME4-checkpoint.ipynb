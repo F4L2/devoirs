{
 "cells": [
  {
   "cell_type": "markdown",
   "metadata": {},
   "source": [
    "<h1><b>Statistique en Bioinformatique : </b> TME4 </h1>\n",
    "<br>\n",
    "L’objectif de ce TME sont: \n",
    "<br>\n",
    "<ul>\n",
    "<li> objectif 1 : Utiliser les chaines de Markov pour comprendre les états phénotypiques de cellules cancéreuses.   </li> \n",
    "<li> objectif 2 : étudier la dynamique des proportions phénotypiques dans les lignées cellulaires du cancer du sein humain: SUM159 et SUM149</li>\n",
    "</ul>\n",
    "<br>\n",
    "<div class=\"alert alert-warning\" role=\"alert\" style=\"margin: 10px\">\n",
    "<p>**Soumission**</p>\n",
    "<ul>\n",
    "<li>Renomer le fichier TME4_subject_st.ipynb pour NomEtudiant1_NomEtudiant3.ipynb </li>\n",
    "<li>Envoyer par email à nikaabdollahi@gmail.com, l’objet du email sera [SBAS-2019] TME4 (deadline 04/03/2018 23:59)</li>\n",
    "</ul>\n",
    "</div>\n"
   ]
  },
  {
   "cell_type": "markdown",
   "metadata": {},
   "source": [
    "Nom etudiant 1 :\n",
    "<br>\n",
    "Nom etudiant 2 :\n",
    "<br>"
   ]
  },
  {
   "cell_type": "markdown",
   "metadata": {},
   "source": [
    "<h3>Introduction</h3>\n",
    "<ul>\n",
    "<li> Les cellules cancéreuses au sein des tumeurs existent souvent dans des états phénotypiques distincts.</li>\n",
    "<li> Les sous-populations de cellules purifiées pour un état phénotypique reviennent vers des proportions d'équilibre dans le temps.</li>\n",
    "<li> Cet équilibre peut s'expliquer par un modèle de Markov dans lequel les cellules passent de manière stochastique entre les états.  </li>\n",
    "</ul>\n",
    "\n",
    "<img src=\"img/CellStateTransition.png\" />"
   ]
  },
  {
   "cell_type": "markdown",
   "metadata": {},
   "source": [
    "<b>Exercice 1</b>:\n",
    "Traduire les graphes de transition de la figure D en matrices de transition, \n",
    "$P_{149}$ et $P_{159}$. Verifier bien que les matrices et les vecteur  $\\pi_{0}$ soitent normalisés.\n"
   ]
  },
  {
   "cell_type": "code",
   "execution_count": null,
   "metadata": {},
   "outputs": [],
   "source": [
    "import matplotlib.pyplot as plt\n",
    "import numpy as np\n",
    "import scipy as sp\n",
    "from matplotlib.legend_handler import HandlerLine2D\n",
    "import random\n",
    "import math as mt\n",
    "\n",
    "#distribuition inicialle vecteur pi_0 S, L, B\n",
    "pi0_149 = np.array([0.039, 0.033, 0.9280])\n",
    "pi0_159 = np.array([0.019, 0.973, 0.0062])\n",
    "\n",
    "\n",
    "\n",
    "#matrices \n",
    "p_149 = np.array([[0.61, 0.30, 0.09], [0.01, 0.99, 0.00], [0.01, 0.08, 0.90]])\n",
    "\n",
    "\n",
    "p_159 = np.array([[0.58, 0.07, 0.35], [0.04, 0.47, 0.49], [0.01, 0.00, 0.99]])\n",
    "\n",
    "#Normaliser les vecteurs π0.\n",
    "\n",
    "\n",
    "#Normaliser matrice\n"
   ]
  },
  {
   "cell_type": "markdown",
   "metadata": {},
   "source": [
    "<b>Exercice 2</b>: Déterminer les états stationnaires \n",
    "$\\pi^\\star_{149}$ et $\\pi^\\star_{159}$ \n",
    "Est-ce que les valeurs que vous trouvez sont consistentes avec les \n",
    "valeurs experimentales en Fig. 1?"
   ]
  },
  {
   "cell_type": "code",
   "execution_count": null,
   "metadata": {},
   "outputs": [],
   "source": []
  },
  {
   "cell_type": "markdown",
   "metadata": {},
   "source": [
    "<b>Exercice 3</b>: Déterminer les matrices de transition $P_{149,159}^n$ pour $n$ \n",
    "iterations avec $n=2,4,8,16,32,64$, imprimer toutes les matrices. Computer les vectors $\\pi^{(n)}$ et les comparer avec\n",
    "$\\pi^\\star_{149,159}$. Utilisez le $\\pi^0$ du papier de Gupta, page 2, ci-dessous."
   ]
  },
  {
   "cell_type": "code",
   "execution_count": null,
   "metadata": {},
   "outputs": [],
   "source": [
    "pi_zero_149 = np.array([[0.039, 0.928, 0.033]])\n",
    "pi_zero_159 = np.array([[0.019, 0.0062, 0.973]])\n",
    "\n",
    "\n",
    "#matrice P**n\n",
    "\n",
    "#matrice P**n where n = 2,4,8,16,32,64\n"
   ]
  },
  {
   "cell_type": "markdown",
   "metadata": {},
   "source": [
    "<b> Exercice 4 </b>:\n",
    " Ecrire une fonction pour déterminer les\n",
    "$(\\pi^{(t)})_{t=1:n}$ d'une chaine de Markov à trois états. Appliquer\n",
    "pour $P_{149}$ et $P_{159}$, pour les conditions initiales \n",
    "$\\pi^{(0)}\\in\\{ (0.998,0.001,0.001), (0.001,0.998,0.001), \n",
    "(0.001,0.001,0.998) \\}$ et pour $n=20$ itérations de la chaine \n",
    "de Markov. Visualiser graphiquement les résultats.\n"
   ]
  },
  {
   "cell_type": "code",
   "execution_count": null,
   "metadata": {},
   "outputs": [],
   "source": [
    "#Déterminer la probabilité (π(t))t=0:n\n",
    "\n"
   ]
  },
  {
   "cell_type": "code",
   "execution_count": null,
   "metadata": {},
   "outputs": [],
   "source": [
    "#Visualiser graphiquement les résultats."
   ]
  },
  {
   "cell_type": "code",
   "execution_count": null,
   "metadata": {},
   "outputs": [],
   "source": []
  },
  {
   "cell_type": "markdown",
   "metadata": {},
   "source": [
    "<b> Exercice 5 </b>:\n",
    "Ecrire une fonction pour simuler la trajectoire stochastique\n",
    "$(x_t)_{t=0:n}$ d'une seule réalisation de la chaiine de Markov. \n",
    "Créer des population de $N=10,100,1000,10000$ trajectoires. Estimer \n",
    "la trajectoire moyenne de chaque population.\n"
   ]
  },
  {
   "cell_type": "code",
   "execution_count": null,
   "metadata": {},
   "outputs": [],
   "source": [
    "#Trajectoire\n",
    "\n",
    "\n",
    "\n",
    "\n",
    "#Déterminer une trajectoire pour N population.\n",
    "\n",
    "\n",
    "\n",
    "#Estimer la trajectoire moyenne d'une chaine de markov pou N\n",
    "\n",
    "\n",
    "\n",
    "#Visualiser graphique des trajectoires.\n",
    "\n"
   ]
  },
  {
   "cell_type": "code",
   "execution_count": null,
   "metadata": {},
   "outputs": [],
   "source": []
  },
  {
   "cell_type": "markdown",
   "metadata": {},
   "source": [
    "<b> Exercice 6 </b>: \n",
    "Ecrire une fonction pour calculer la probabilité d'une trajectoire\n",
    "$(x_t)_{t=0:n}$. Pour y facilite vous devez applique le log et utlise la some au\n",
    "lieu du product.  Ensuite vouz devez comparer les probabilités de \n",
    "deux chaiines de Markov $P_{149}$ et $P_{159}$. Visualiser les histogrammes pour les deux populations de taille $N=10000$ (géenérées avec $P_{149}$ et $P_{159}$). Est-ce que vous observez des différences entre les deux modèles? Comment est-ce que vous expliquer cettes différences?"
   ]
  },
  {
   "cell_type": "code",
   "execution_count": null,
   "metadata": {},
   "outputs": [],
   "source": [
    "#Calculer la probabilité d’une trajectoire (xt)t=0:n\n",
    "\n",
    "\n",
    "#montrer le histogramme"
   ]
  }
 ],
 "metadata": {
  "kernelspec": {
   "display_name": "Python 3",
   "language": "python",
   "name": "python3"
  },
  "language_info": {
   "codemirror_mode": {
    "name": "ipython",
    "version": 3
   },
   "file_extension": ".py",
   "mimetype": "text/x-python",
   "name": "python",
   "nbconvert_exporter": "python",
   "pygments_lexer": "ipython3",
   "version": "3.6.4"
  }
 },
 "nbformat": 4,
 "nbformat_minor": 1
}
