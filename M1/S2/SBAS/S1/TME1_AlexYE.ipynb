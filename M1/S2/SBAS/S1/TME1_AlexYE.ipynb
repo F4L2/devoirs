{
 "cells": [
  {
   "cell_type": "markdown",
   "metadata": {},
   "source": [
    "\n",
    "<h1><b>Statistique en Bioinformatique : </b> TME1 </h1>\n",
    "<br>\n",
    "L’objectif de ce TME est l’analyse statistique d’une famille de protéines à travers son alignement de séquences:\n",
    "<br>\n",
    "<ul>\n",
    "<li> objectif 1: détection des positions conservées, </li>\n",
    "<li> objectif 2: détection de séquences qui appartiennent à la même famille, </li>\n",
    "</ul>\n",
    "<vr>\n",
    "<div class=\"alert alert-warning\" role=\"alert\" style=\"margin: 10px\">\n",
    "<p>**Soumission**</p>\n",
    "<ul>\n",
    "<li>Renomer le fichier TME1.ipynb pour NomEtudiant1_NomEtudiant2.ipynb </li>\n",
    "<li>Envoyer par email à nikaabdollahi@gmail.com, l’objet du email sera [SBAS-2019] TME1</li>\n",
    "</ul>\n",
    "</div>"
   ]
  },
  {
   "cell_type": "markdown",
   "metadata": {},
   "source": [
    "Nom etudiant 1 :\n",
    "<br>\n",
    "Nom etudiant 2 :\n",
    "<br>"
   ]
  },
  {
   "cell_type": "markdown",
   "metadata": {},
   "source": [
    "<b>DONNÉES</b> <br>\n",
    "Il y a 2 fichiers avec les données telecharché à (<a href=\"http://www.lcqb.upmc.fr/julianab/teaching/SBAS/TME1.tar.gz\"> TME1 </a> ): <br>\n",
    "<ul>\n",
    "<li> Dtrain.txt: C’est un alignement de M = 5643 protéines d’une seule famille en format FASTA,\n",
    "<br>\n",
    "    Lignes qui commencent avec “>” contiennent des commentaires (nome de la protéine etc.). Elles n’ont aucune importance pour notre projet. Les autres lignes contiennent les séquences, que l’on va utiliser dans le projet. Les séquences sont alignées, elles ont toutes la même longueur (L = 48 positions dans notre fichier). Chaque position i = 0, ..., L − 1 d'une séquence contient ou une acide aminé (A,C,...,Y, il y en a 20) ou un trou (–), que l'on considère comme 21ème lettre. Ensemble elles forment l'alphabet: \n",
    "    A =  {A, C, D, E, F, G, H, I, K, L, M, N, P, Q, R, S, T, V, W, Y, -}, avec q = 21 lettres différentes.\n",
    "</li>\n",
    "    <br>\n",
    "<li> testseq.txt:  testseq.txt: Même format de Dtrain.txt, mais avec une seule séquence b = (b0 , ..., bN −1 ) plus longue (longueur N = 114 > L). On va scanner cette séquence pour trouver une sous-séquence qui appartient à la famille definie par Dtrain.txt. </li>\n",
    "</ul>"
   ]
  },
  {
   "cell_type": "markdown",
   "metadata": {},
   "source": [
    "Exercise 1: Pour chaque position du alignement i = 0, ..., L − 1 et chaque acide aminée a ∈ A (le trou compris), calculer le nombre d’occurence ni(a) et le poid ωi(a), òu : <br>\n",
    "\\begin{equation*}\n",
    "\\label{eq1}\n",
    "n_{i}(a) = \\textrm{nombre d’occurences d’acide aminée a en position (colonne) i}.\n",
    "\\end{equation*}\n",
    "\n",
    "<br>\n",
    "\\begin{equation*}\n",
    "\\omega_i(a) = \\frac{n_i(a)+1}{M+q}\\ .\n",
    "\\end{equation*}"
   ]
  },
  {
   "cell_type": "code",
   "execution_count": 2,
   "metadata": {},
   "outputs": [],
   "source": [
    "import sys\n",
    "import numpy as np\n",
    "from Bio import AlignIO\n",
    "aa = ['A', 'C', 'D', 'E', 'F', 'G', 'H', 'I', 'K', 'L', 'M', 'N', 'P', 'Q', 'R', 'S', 'T', 'V', 'W', 'Y', '-']\n",
    "q = 21\n",
    "#aa = ['A', 'B', 'C', '-']\n",
    "#q = 4\n",
    "#aa = ['A', 'G', 'C', 'T', '-']\n",
    "#q = 5"
   ]
  },
  {
   "cell_type": "code",
   "execution_count": 3,
   "metadata": {},
   "outputs": [],
   "source": [
    "#load path Files\n",
    "input_dataset_f = 'Dtrain.txt'\n",
    "input_sequence_f = 'test_seq.txt'\n",
    "#input_dataset_f = 'DtrainToy.txt'\n",
    "#input_sequence_f = 'test_seqToy.txt'\n",
    "#input_dataset_f = 'DtrainToyTD.txt'"
   ]
  },
  {
   "cell_type": "code",
   "execution_count": 4,
   "metadata": {},
   "outputs": [],
   "source": [
    "#load DTrain File\n",
    "alignment = AlignIO.read(open(input_dataset_f), \"fasta\")\n",
    "\n",
    "sequences = []\n",
    "for record in alignment :\n",
    "    sequences.append(record.seq)\n"
   ]
  },
  {
   "cell_type": "code",
   "execution_count": 5,
   "metadata": {},
   "outputs": [
    {
     "name": "stdout",
     "output_type": "stream",
     "text": [
      "[[1.76553672e-04 7.25282486e-01 1.02401130e-02 ... 3.42514124e-02\n",
      "  1.76553672e-04 2.38170904e-01]\n",
      " [1.76553672e-04 1.76553672e-04 1.94209040e-03 ... 7.59180791e-03\n",
      "  1.76553672e-04 1.69491525e-02]\n",
      " [1.76553672e-04 1.76553672e-04 3.53107345e-04 ... 1.76553672e-04\n",
      "  1.76553672e-04 1.76553672e-04]\n",
      " ...\n",
      " [1.76553672e-04 1.76553672e-04 1.76553672e-04 ... 1.76553672e-04\n",
      "  1.76553672e-04 1.76553672e-04]\n",
      " [1.76553672e-04 1.76553672e-04 1.76553672e-04 ... 1.78319209e-02\n",
      "  1.76553672e-04 1.76553672e-04]\n",
      " [3.13206215e-01 1.55367232e-01 8.20974576e-02 ... 5.66737288e-02\n",
      "  6.77966102e-02 3.53460452e-01]]\n"
     ]
    }
   ],
   "source": [
    "#Computing wi(a)\n",
    "M = 5643\n",
    "size = len(sequences[0])\n",
    "occ = np.zeros((q,size))\n",
    "w = np.zeros((q, size))\n",
    "\n",
    "for i in range(size):\n",
    "    for a in aa:\n",
    "        id_a = aa.index(a)\n",
    "        for seq in sequences:\n",
    "            if(seq[i] == a):\n",
    "                occ[id_a][i] = occ[id_a][i] + 1\n",
    "        w[id_a][i] = (occ[id_a][i] + 1) / (M + q)\n",
    "  \n",
    "print(w)\n",
    "            "
   ]
  },
  {
   "cell_type": "markdown",
   "metadata": {},
   "source": [
    "Exercise 2: Trouvez les positions les plus conservées en utilisant l’entropie relative.\n",
    "<br>\n",
    "2.1) Pour chaque position i = 0, ..., L − 1, determiner l’entropie relative Si<br>\n",
    "\\begin{equation*}\n",
    "\\label{eq:entropie}\n",
    "S_i = \\log_2(q) + \\sum_{a\\in {\\cal A}} \\omega_i(a)\\cdot \\log_2\\left[\\omega_i(a) \\right]\\ .\n",
    "\\end{equation*}\n",
    "<br>\n"
   ]
  },
  {
   "cell_type": "code",
   "execution_count": 6,
   "metadata": {},
   "outputs": [
    {
     "name": "stdout",
     "output_type": "stream",
     "text": [
      "[-191.33248876 -216.8725622  -151.97298133 -149.54111566 -151.29791523\n",
      " -192.41507424 -110.50634306 -154.29398832 -111.73147314 -106.84847872\n",
      " -127.6899307  -126.0267491  -160.37741566 -188.03246251 -134.04568162\n",
      " -189.531317   -111.72509739 -132.49121449 -183.00924115 -163.31067199\n",
      " -116.45054826 -193.47158488 -110.07543985 -158.810449   -130.1815875\n",
      " -125.48076997 -106.00411669 -104.51699147 -117.24536107 -119.13605641\n",
      " -139.903666   -222.08280471 -151.69474973 -110.81195403 -188.86561726\n",
      " -117.52836109 -107.26863265 -101.02409965 -119.3074337  -150.46869826\n",
      " -141.35318671 -110.2449532  -111.46182282 -202.00764379 -136.2212026\n",
      " -181.51637126 -234.48158954 -187.6583978 ]\n"
     ]
    }
   ],
   "source": [
    "#Computing Si\n",
    "s = np.zeros((size))\n",
    "sub_term = 0\n",
    "             \n",
    "for i in range(size):\n",
    "    sub_term = 0\n",
    "    for a in aa:\n",
    "        id_a = aa.index(a)\n",
    "        sub_term += w[id_a][i] + np.log2(w[id_a][i])\n",
    "    s[i] = np.log2(q) + sub_term\n",
    "\n",
    "print(s)\n"
   ]
  },
  {
   "cell_type": "markdown",
   "metadata": {},
   "source": [
    "2.2) Indiquez les acides aminees (ai*) des trois positions les plus conservées : \n",
    "\\begin{equation}\n",
    "\\label{eq:conserved}\n",
    "a_i^\\star = {\\rm argmax}_{a\\in {\\cal A}} \\omega_i(a)\\ .\n",
    "\\end{equation}"
   ]
  },
  {
   "cell_type": "code",
   "execution_count": 7,
   "metadata": {},
   "outputs": [
    {
     "name": "stdout",
     "output_type": "stream",
     "text": [
      "- - -\n"
     ]
    }
   ],
   "source": [
    "#computing ai*\n",
    "\n",
    "ai = np.zeros(size)\n",
    "w = w.T\n",
    "\n",
    "for i in range(size):\n",
    "    ai[i] = w[i].argmax()\n",
    "\n",
    "ai.sort()\n",
    "ai = ai[::-1]\n",
    "\n",
    "\n",
    "print(aa[np.asscalar(ai[0].astype(int))], aa[np.asscalar(ai[1].astype(int))], aa[np.asscalar(ai[2].astype(int))])\n",
    "\n",
    "w = w.T\n"
   ]
  },
  {
   "cell_type": "markdown",
   "metadata": {},
   "source": [
    "2.3) Tracer l’entropie rélative en fonction de chaque position i."
   ]
  },
  {
   "cell_type": "code",
   "execution_count": 8,
   "metadata": {},
   "outputs": [],
   "source": [
    "import matplotlib.pyplot as plt\n"
   ]
  },
  {
   "cell_type": "code",
   "execution_count": 9,
   "metadata": {},
   "outputs": [
    {
     "data": {
      "text/plain": [
       "[<matplotlib.lines.Line2D at 0x7fa0e5e821d0>]"
      ]
     },
     "execution_count": 9,
     "metadata": {},
     "output_type": "execute_result"
    },
    {
     "data": {
      "image/png": "[encoded data removed]",
      "text/plain": [
       "<Figure size 432x288 with 1 Axes>"
      ]
     },
     "metadata": {
      "needs_background": "light"
     },
     "output_type": "display_data"
    }
   ],
   "source": [
    "#plot entropy\n",
    "\n",
    "points = range(size)\n",
    "\n",
    "plt.plot(points, s)"
   ]
  },
  {
   "cell_type": "markdown",
   "metadata": {},
   "source": [
    "Exercise 3: Déterminer les paramètres f(0)(b) du modèle nul, où\n",
    "\\begin{equation}\n",
    "f^{(0)}(b) = \\frac 1L \\sum_{i=0}^{L-1} \\omega_i(b)\\ ,\n",
    "\\end{equation}"
   ]
  },
  {
   "cell_type": "code",
   "execution_count": 10,
   "metadata": {},
   "outputs": [
    {
     "name": "stdout",
     "output_type": "stream",
     "text": [
      "[0.03793329213747646, 0.07586658427495284, 0.13467366996233512, 0.19348075564971753, 0.25228784133709986, 0.29022113347457645, 0.32453139712806056, 0.3624646892655367, 0.4136027248116758, 0.49851768479284303, 0.5364509769303191, 0.5815126235875694, 0.6200675317796598, 0.671205567325799, 0.7300126530131816, 0.8044631297080973, 0.8430180379001874, 0.9231071975047076, 0.9650497292843688, 1.0238568149717515, 1.114336893832392, 1.1486471574858759, 1.1970853931261778, 1.2558924788135604, 1.346372557674201, 1.4312875176553683, 1.5057379943502838, 1.554176229990586, 1.6286267066855016, 1.7191067855461428, 1.770244821092282, 1.8503339806968022, 1.9352489406779696, 1.9857396127589488, 2.036230284839928, 2.1106807615348435, 2.1698409545668595, 2.2105660016478397, 2.244876265301324, 2.2960143008474634, 2.3809292608286308, 2.416574711629008, 2.452220162429385, 2.5427002412900266, 2.5792983462806123, 2.615896451271198, 2.6903469279661127, 2.749154013653492, 2.7975922492937912, 2.842653895951042, 2.9171043726459556, 2.9971935322504724, 3.0483315677966094, 3.0967698034369087, 3.1555768891242884, 3.2040151247645876, 3.2944952036252246, 3.331093308615802, 3.389900394303181, 3.427833686440653, 3.476271922080952, 3.5350790077683314, 3.573633915960419, 3.6480843926553326, 3.7329993526364955, 3.8179143126176585]\n"
     ]
    }
   ],
   "source": [
    "#computing f0\n",
    "\n",
    "b_sequences = []\n",
    "with open(input_sequence_f, \"r\") as f:\n",
    "    next(f)\n",
    "    for line in f:\n",
    "        b_sequences = line.strip()\n",
    "\n",
    "f0 = []\n",
    "sum_w = 0\n",
    "L = size\n",
    "N = len(b_sequences)\n",
    "\n",
    "for b in range(N):\n",
    "    id_b = aa.index(b_sequences[b])\n",
    "    if(b+L == N):\n",
    "        break\n",
    "    for i in range(L):\n",
    "        sum_w += w[id_b][i]\n",
    "    f0.append( sum_w / L )\n",
    "\n",
    "print(f0)\n"
   ]
  },
  {
   "cell_type": "markdown",
   "metadata": {},
   "source": [
    "Exercise 4: (à appliquer à testseq.txt): Déterminer l(bi,...,bi+L−1)  pour chaque sous-séquence de longueur L. \n",
    "Déterminer si il y a des sous-séquences de la famille definie par Dtrain. \n",
    "Tracer la log-vraisemblance en fonction de sa première position i = 0, ..., N − L.\n",
    "\\begin{equation}\n",
    "\\label{eq:ll}\n",
    "\\ell(b_0,...,b_{L-1}) = \\log_2 \\frac {P(b_0,...,b_{L-1} | \\omega )\n",
    "}{P^{(0)}(b_0,...,b_{L-1})}\n",
    "= \\sum_{i=0}^{L-1} \\log_2 \\frac {\\omega_i(b_i)}{f^{(0)}(b_i)}\\ .\n",
    "\\end{equation}"
   ]
  },
  {
   "cell_type": "markdown",
   "metadata": {},
   "source": [
    "4.1: Faites une fonction pour calculer la log-vraisemblance, d'une sequence de taille L."
   ]
  },
  {
   "cell_type": "code",
   "execution_count": 11,
   "metadata": {},
   "outputs": [],
   "source": [
    "#computing loglikehood\n",
    "\n",
    "def loglikellyhood(seq, w, f0):\n",
    "    somme = 0\n",
    "    for i in range(len(seq)):\n",
    "        id_b = aa.index(seq[i])\n",
    "        somme += np.log2( w[id_b][i] / f0[i])\n",
    "    return somme"
   ]
  },
  {
   "cell_type": "markdown",
   "metadata": {},
   "source": [
    "4.2: Faites une fonction qui etant donner une sequence de taille superieur à L generer toutes les sous-séquences de taille L  "
   ]
  },
  {
   "cell_type": "code",
   "execution_count": 12,
   "metadata": {},
   "outputs": [],
   "source": [
    "#computing sliding_window \n",
    "\n",
    "def sliding_windows(seq, L):\n",
    "    sequences = []\n",
    "    if(len(seq) <= L):\n",
    "        sequences.append(seq)\n",
    "        return sequences\n",
    "    for i in range(len(seq)):\n",
    "        if(i+L == len(seq)):\n",
    "            return sequences\n",
    "        subset = \"\"\n",
    "        for c in range(i, i+L):\n",
    "            subset += seq[c]\n",
    "        sequences.append(subset)\n",
    "    return sequences"
   ]
  },
  {
   "cell_type": "markdown",
   "metadata": {},
   "source": [
    "4.3: Calculer la log-vraisemblance pour toutes les sous-sequences trouvé à 4.2 et tracer un graphique de log-vraisemblance x position initialle de la sous-sequence."
   ]
  },
  {
   "cell_type": "code",
   "execution_count": 13,
   "metadata": {},
   "outputs": [
    {
     "name": "stdout",
     "output_type": "stream",
     "text": [
      "[-316.40115079 -317.22272541 -298.78122315 -319.20597668 -361.10172981\n",
      " -329.37524688 -316.74283167 -353.32829415 -367.45133168 -340.29503599\n",
      " -353.62798104 -294.23059349 -317.4265042  -124.77099284 -336.72409552\n",
      " -328.49105142 -350.24798129 -360.30461085 -344.42816305 -341.92638247\n",
      " -338.95560302 -346.92410421 -322.80675449 -314.70865657 -350.71214359\n",
      " -329.75249695 -304.83108013 -360.13941271 -345.61124483 -336.36416601\n",
      " -345.99515854 -340.42778514 -326.91548865 -329.88352808 -358.01685513\n",
      " -335.970497   -332.75613264 -349.62052793 -331.0097845  -329.90201851\n",
      " -366.12320057 -321.5635796  -333.07759566 -347.53557625 -288.30087686\n",
      " -325.7972881  -307.42510456 -309.88272965 -335.89565192 -345.85235169\n",
      " -345.78590279 -314.03182027 -343.50393245 -337.32345738 -349.34574139\n",
      " -337.18482808 -368.04013222 -323.89147086 -335.9447745  -356.09173048\n",
      " -329.40218965 -335.81346265 -353.49772239 -366.98558373 -333.26652402\n",
      " -343.27136654]\n"
     ]
    }
   ],
   "source": [
    "#computing log-vraisemblance\n",
    "\n",
    "seqs = sliding_windows( b_sequences, L)\n",
    "logs = np.zeros(len(seqs))\n",
    "i = 0\n",
    "for seq in seqs:\n",
    "    logs[i] = loglikellyhood(seq, w, f0)\n",
    "    i+=1\n",
    "\n",
    "print(logs)"
   ]
  },
  {
   "cell_type": "code",
   "execution_count": 14,
   "metadata": {},
   "outputs": [
    {
     "data": {
      "text/plain": [
       "[<matplotlib.lines.Line2D at 0x7fa0e5e20be0>]"
      ]
     },
     "execution_count": 14,
     "metadata": {},
     "output_type": "execute_result"
    },
    {
     "data": {
      "image/png": "[encoded data removed]",
      "text/plain": [
       "<Figure size 432x288 with 1 Axes>"
      ]
     },
     "metadata": {
      "needs_background": "light"
     },
     "output_type": "display_data"
    }
   ],
   "source": [
    "#ploting  log-vraisemblance x position initialle\n",
    "\n",
    "pos_ini = range(len(logs))\n",
    "plt.plot(pos_ini, logs)"
   ]
  },
  {
   "cell_type": "code",
   "execution_count": null,
   "metadata": {},
   "outputs": [],
   "source": []
  },
  {
   "cell_type": "code",
   "execution_count": null,
   "metadata": {},
   "outputs": [],
   "source": []
  }
 ],
 "metadata": {
  "celltoolbar": "Raw Cell Format",
  "kernelspec": {
   "display_name": "Python 3",
   "language": "python",
   "name": "python3"
  },
  "language_info": {
   "codemirror_mode": {
    "name": "ipython",
    "version": 3
   },
   "file_extension": ".py",
   "mimetype": "text/x-python",
   "name": "python",
   "nbconvert_exporter": "python",
   "pygments_lexer": "ipython3",
   "version": "3.6.7"
  }
 },
 "nbformat": 4,
 "nbformat_minor": 2
}
