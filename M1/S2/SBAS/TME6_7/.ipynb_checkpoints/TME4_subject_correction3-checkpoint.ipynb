{
 "cells": [
  {
   "cell_type": "markdown",
   "metadata": {},
   "source": [
    "<h1><b>Statistique en Bioinformatique : </b> TME5 </h1>\n",
    "<br>\n",
    "L’objectif de ce TME est: \n",
    "<br>\n",
    "<ul>\n",
    "<li> implémenter l'algorithme de Viterbi et l'estimation des paramèetres (en utilisant le Viterbi training)\n",
    "pour l'exemple du occasionally dishonest casino.   </li> \n",
    "</ul>\n",
    "<br>\n",
    "<div class=\"alert alert-warning\" role=\"alert\" style=\"margin: 10px\">\n",
    "<p>**Soumission**</p>\n",
    "<ul>\n",
    "<li>Renomer le fichier TME5_subject_st.ipynb pour NomEtudiant1_NomEtudiant3.ipynb </li>\n",
    "<li>Envoyer par email à juliana.silva_bernardes@upmc.fr, l’objet du email sera [SBAS-2018] TME5 (deadline 19/03/2018 23:59)</li>\n",
    "</ul>\n",
    "</div>\n",
    "<br>"
   ]
  },
  {
   "cell_type": "markdown",
   "metadata": {},
   "source": [
    "<h3>Introduction</h3>\n",
    "Un casino parfois malhonnête (occasionally dishonest casino) utilise 2 types de pieces : fair et unfair. <br>\n",
    "La matrice de transition entre les états cachés est:<br>\n",
    "${\\cal S}=\\{F,U\\}$ (fair, unfair):\n",
    "$$\n",
    "p = \\left(\n",
    "\\begin{array}{cc}\n",
    "0.99 & 0.01\\\\\n",
    "0.05 & 0.95\n",
    "\\end{array}\n",
    "\\right)\\ ,\n",
    "$$\n",
    "\n",
    "les probabilités d'éemission des symboles \n",
    "${\\cal O} = \\{H,T\\}$ (head, tail):\n",
    "\\begin{eqnarray}\n",
    "e_F(H) =  0.5 &\\ \\ \\ \\ &\n",
    "e_F(T) = 0.5 \\nonumber\\\\\n",
    "e_U(H) = 0.9 &\\ \\ \\ \\ &\n",
    "e_U(T) = 0.1 \\nonumber\n",
    "\\end{eqnarray}\n",
    "\n",
    "<br> Et la condition initiale $\\pi^{(0)} = (1,0)$ (le jeux commence toujours avec le pieces juste (fair)."
   ]
  },
  {
   "cell_type": "markdown",
   "metadata": {},
   "source": [
    "<b>Exercice 1</b>:\n",
    "<u>Simulation</u>: Ecrire une fonction qui simule $T$ jets de pieces. \n",
    "La fonction renverra un tableau à deux colonnes correspondant \n",
    "aux valeurs simulées pour les états cachés $X_t$ \n",
    "(type de dés utilisée, “F” ou “U”) et aux symboles observées $Y_t$ \n",
    "(résultat du jet de dés, “H” ou “T”). On simulera une séquence\n",
    "de longueur 2000 qu'on gardera pour les applications ultérieures.\n"
   ]
  },
  {
   "cell_type": "code",
   "execution_count": 1,
   "metadata": {},
   "outputs": [],
   "source": [
    "import numpy as np\n",
    "import matplotlib.pyplot as plt\n",
    "\n",
    "\n",
    "S = { 0:'F',1 :'U'}\n",
    "Pij = np.array([[0.99,0.01], [0.05,0.95]])\n",
    "\n",
    "O = {0:'H', 1: 'T'}\n",
    "Eij = np.array([[0.5,0.5], [0.9,0.1]])\n",
    "\n",
    "# Condition initiale\n",
    "pi0=np.array([0.5,0.5])\n",
    "\n",
    "T = 2000\n",
    "#to test\n",
    "#T = 20\n",
    "\n"
   ]
  },
  {
   "cell_type": "code",
   "execution_count": 2,
   "metadata": {},
   "outputs": [],
   "source": [
    "# Fonction qui simule T jets de pieces\n",
    "def jets(T, pi0, Eij, Pij):\n",
    "\t# Creation du tableau\n",
    "\tresultat = np.zeros((T,len(pi0)),dtype=int)\n",
    "\t#Etat initial\n",
    "\tresultat[0,0] = 0\n",
    "\tjet = np.random.rand()\n",
    "\tif jet < pi0[0]:\n",
    "\t\tresultat[0,1] = 0\n",
    "\telse : \n",
    "\t\tresultat[0,1] = 1\t\n",
    "\t# Boucle sur le reste des jets\n",
    "\tfor i in range(1,T):\n",
    "\t\tpreviousstate = resultat[i-1,0]\n",
    "\t\t# transition\n",
    "\t\tjet = np.random.rand()\n",
    "\t\tif jet <  Pij[int(previousstate),0]:\n",
    "\t\t\tresultat[i,0] = 0 \n",
    "\t\telse :\n",
    "\t\t\tresultat[i,0] = 1\n",
    "\t\t\n",
    "\t\t# Observation\n",
    "\t\tjet = np.random.rand()\n",
    "\t\tif jet <  Eij[int(resultat[i,0]),0]:\n",
    "\t\t\tresultat[i,1] = 0 \n",
    "\t\telse :\n",
    "\t\t\tresultat[i,1] = 1\n",
    "\treturn resultat\n",
    "\n",
    "def imprimerResultats(resultat):\n",
    "\tfor i in resultat : \n",
    "\t\tprint (S[i[0]], O[i[1]])\n",
    "\n",
    "jettest = jets(T, pi0, Eij, Pij)\n",
    "#imprimerResultats(jettest)"
   ]
  },
  {
   "cell_type": "markdown",
   "metadata": {},
   "source": [
    "<b>Exercice 2</b>: <u>Algorithme de Viterbi </u>: Ecrire une fonction qui permet\n",
    "de déterminer la séquence $(i^\\star_t)_{t=0:T}$ d'états cachés\n",
    "plus probable, ansi que sa probabilité. Pour tester votre fonction utiliser le résultat de la \n",
    "simulation (2éme colonne) de la question 1. Comparer $(i^\\star_t)_{t=0:T}$ avec\n",
    "les vrais états cachés (1ère colonne de la simulation). \n"
   ]
  },
  {
   "cell_type": "code",
   "execution_count": 3,
   "metadata": {},
   "outputs": [
    {
     "name": "stdout",
     "output_type": "stream",
     "text": [
      "Pourcentage de vraissemblance %:  93.85  Qte. egale:  1877.0  Taille :  2000\n"
     ]
    },
    {
     "data": {
      "image/png": "[encoded data removed]",
      "text/plain": [
       "<matplotlib.figure.Figure at 0x7f695c0315c0>"
      ]
     },
     "metadata": {},
     "output_type": "display_data"
    }
   ],
   "source": [
    "def viterbi(obsjets, T, pi0, Eij, Pij):\n",
    "\tdelta = np.zeros((T,len(pi0)))\n",
    "\tpath = np.zeros((T,len(pi0)), dtype=int)\n",
    "\t# Initialisation\n",
    "\tfor i in range(len(pi0)):\n",
    "\t\tdelta[0,i] = np.log(pi0[i])  + np.log(Eij[i,int(obsjets[0])])\n",
    "\t\tpath[0,i] = -1\n",
    "\t# Recursion\n",
    "\tfor t in range(1,T):\n",
    "\t\tfor i in range(len(pi0)):\n",
    "\t\t\tlisteSum = []\n",
    "\t\t\tfor j in range(len(pi0)):\n",
    "\t\t\t\tsum1 = (delta[t-1,j] + np.log(Pij[j,i]))\n",
    "\t\t\t\tlisteSum.append(sum1)\n",
    "\t\t\tdelta[t,i] = np.log(Eij[i, int(obsjets[t])]) + max(listeSum)\n",
    "\t\t\tarMax = np.argmax(listeSum)\n",
    "\t\t\tpath[t,i] = arMax\n",
    "\t# Backtracking\n",
    "\tpathEtats = np.zeros((len(obsjets),1),dtype=int)\n",
    "\tmaximEtat = np.argmax(delta[T-1])\n",
    "\tprobabilite = max(delta[T-1]) \n",
    "\tpathEtats[T-1] = maximEtat\n",
    "\tfor t in range (1,len(path)):\n",
    "\t\tmaximEtat = path[T-t, maximEtat] \n",
    "\t\tpathEtats[T-1-t] = maximEtat\n",
    "\treturn pathEtats, probabilite\n",
    "\n",
    "paths, probabilite = viterbi(jettest[:,1], T, pi0, Eij, Pij)\n",
    "#print (paths, probabilite)\n",
    "\n",
    "def imprimerPathViterbi(resultat):\n",
    "\tfor i in range(len(resultat)):  \n",
    "\t\tprint (S[paths[i][0]])\n",
    "\n",
    "\n",
    "def designer(jets, paths):\n",
    "\tplt.plot(jets, 'blue')\n",
    "\tplt.plot(paths, 'red')\n",
    "\tplt.axis([0, T, 0, 1.5])\n",
    "\tplt.xlabel(\"B = Viterbi, R = Vrai\")\n",
    "\tplt.show()\n",
    "\n",
    "def imprimerResultatsViterbi(resultat, paths):\n",
    "\tcomptage = 0.\n",
    "\tfor i in range(len(resultat)): \n",
    "\t\t#print ('Vrai : ', S[resultat[i]], ' Obtenu Viterbi: ', S[paths[i][0]])\n",
    "\t\tif S[resultat[i]] == S[paths[i][0]]:\n",
    "\t\t\tcomptage = comptage + 1\n",
    "\tpourcentage = (comptage / len(resultat))*100\n",
    "\tprint ('Pourcentage de vraissemblance %: ', pourcentage, ' Qte. egale: ', comptage, ' Taille : ', T)\n",
    "\tdesigner(jettest[:,0], paths)\n",
    "\n",
    "imprimerResultatsViterbi(jettest[:,0], paths)"
   ]
  },
  {
   "cell_type": "markdown",
   "metadata": {},
   "source": [
    "<b>Exercice 3</b>: <u>Estimation des paramètres</u>\n",
    "<br>\n",
    "3.1) Ecrire une fonction qui utilise tous les résultats de la simulation\n",
    "(états et symboles) pour compter les nombres d'occurrence $N_{ij}$ est $M_{iO}$ définis\n",
    "en cours. Estimer $p_{ij}$ est $e_i(O)$, voir slides  37-39 dans la presentation. Attention, pour eviter les probabilites à zero nous alons utiliser les pseudo-count."
   ]
  },
  {
   "cell_type": "code",
   "execution_count": 4,
   "metadata": {},
   "outputs": [
    {
     "name": "stdout",
     "output_type": "stream",
     "text": [
      "===Ini Estimation paramètres===\n",
      "Pij\n",
      "[[0.99134667 0.00865333]\n",
      " [0.10457516 0.89542484]]\n",
      "Eia\n",
      "[[0.51919957 0.48080043]\n",
      " [0.90196078 0.09803922]]\n",
      "pi0\n",
      "[0.99 0.01]\n",
      "===Fin Estimation paramètres===\n"
     ]
    }
   ],
   "source": [
    "def normalisation(matrix):\n",
    "\tfor line in range(len(matrix)):\n",
    "\t\tsommeLine = np.sum(matrix[line])\n",
    "\t\tif sommeLine != 0:\n",
    "\t\t\tfor element in range(len(matrix[line])):\n",
    "\t\t\t\tif (matrix[line,element] ==0): print (line, element)             \n",
    "\t\t\t\tmatrix[line,element] = matrix[line,element]/sommeLine\n",
    "\treturn matrix\n",
    "\n",
    "def estimationParametres(jets, s, o):\n",
    "\tPij = np.ones((s,s))\n",
    "\tEia = np.ones((s,o))\n",
    "\tpi0 = np.zeros(s)\n",
    "\n",
    "\tif jets[0][0] == 0:\n",
    "\t\tpi0[0] = 0.99;pi0[1] = 0.01;\n",
    "\telse:\n",
    "\t\tpi0[1] = 0.99;pi0[0] = 0.01;\n",
    "\tfor i in range(1, len(jets)-1):\n",
    "\t\tetat1 = jets[i][0]  \n",
    "\t\tetat2 = jets[i+1][0]\n",
    "\t\tPij[etat1][etat2] = Pij[etat1][etat2] + 1\n",
    "\t\ta = jets[i][1]\n",
    "\t\tEia[etat1][a] = Eia[etat1][a] +1\n",
    "\treturn  normalisation(Pij), normalisation(Eia), pi0\n",
    "\n",
    "def imprimerParametres(jettest, s, o):\n",
    "\tPij, Eia, pi0 = estimationParametres(jettest, 2, 2)\n",
    "\tprint (\"===Ini Estimation paramètres===\")\n",
    "\tprint (\"Pij\")\n",
    "\tprint (Pij)\n",
    "\tprint (\"Eia\")\n",
    "\tprint (Eia)\n",
    "\tprint (\"pi0\")\n",
    "\tprint (pi0)\n",
    "\tprint (\"===Fin Estimation paramètres===\")\n",
    "    \n",
    "#3.1\n",
    "imprimerParametres(jettest, 2, 2)"
   ]
  },
  {
   "cell_type": "markdown",
   "metadata": {},
   "source": [
    "3.2) <u> Viterbi training </u>: Ecrire une fonction qui utilise \n",
    "seulement la séquence $(O_t)_{t=0:T}$ (2emme colone de la simulation) pour estimer les \n",
    "paramètres $p_{ij}$ est $e_i(O)$. On s'arretera quand les diferences entre les logVraissamblance est inferieur à 1e-04. Comparer les résultats de 3.1 et de 3.2 (3.2 avec plusieurs restarts,\n",
    "et avec initialisation des paramètres alèatoire).\n"
   ]
  },
  {
   "cell_type": "code",
   "execution_count": 31,
   "metadata": {},
   "outputs": [
    {
     "name": "stdout",
     "output_type": "stream",
     "text": [
      "===Ini Paramètres Viterbi Training===\n",
      "Pij\n",
      "[[  5.00000000e-01   5.00000000e-01]\n",
      " [  5.00000000e-04   9.99500000e-01]]\n",
      "Eia\n",
      "[[ 0.5    0.5  ]\n",
      " [ 0.576  0.424]]\n",
      "pi0\n",
      "[ 0.01  0.99]\n",
      "LogV\n",
      "-1363.79393856\n",
      "===Fin Paramètres Viterbi Training===\n"
     ]
    }
   ],
   "source": [
    "#initialisation aleatoire de Pij, Eij, pi0\n",
    "def initialisation(s, o):\n",
    "\tPij = np.zeros((s,s))\n",
    "\tEia = np.zeros((s,o))\n",
    "\tpi0 = np.zeros(s)\n",
    "\tp = np.random.rand()\n",
    "\tpi0[0] = p\n",
    "\tpi0[1] = 1-p\n",
    "\t\n",
    "\tfor i in range (len(Pij)):\n",
    "\t\tp = np.random.rand()\n",
    "\t\tPij[i,0] = p\n",
    "\t\tPij[i,1] = 1-p\n",
    "\t\tp = np.random.rand()\n",
    "\t\tEia[i,0] = p\n",
    "\t\tEia[i,1] = 1-p\n",
    "\treturn Pij, Eia, pi0\n",
    "\n",
    "Pija, Eia, pi0a = initialisation(2, 2)\n",
    "#print (\"Pija\", Pija)\n",
    "#print (\"Eia\", Eia)\n",
    "#print (\"pi0a\", pi0a)\n",
    "\n",
    "def creationArrayIetA(etats, obs, T, s):\n",
    "\tresultat = np.zeros((T,s),dtype=int)\n",
    "\tfor i in range(T):\n",
    "\t\tresultat[i,0] = etats[i]\n",
    "\t\tresultat[i,1] = obs[i]\n",
    "\treturn resultat\n",
    "\t\n",
    "\n",
    "def calculeVraissamblance(i,a,pi0, T, p, e):\n",
    "\t#print (i,a,pi0, T, p, e)\n",
    "\tlV = np.log(e[i[0],int(a[0])])\n",
    "\tfor t in range (1,T):\n",
    "\t\tlV += np.log(p[i[t-1], i[t]]) + np.log(e[i[t],int(a[t])])\n",
    "\treturn lV\n",
    "\n",
    "def viterbiTraining(obs, T, s, o):\n",
    "\t# Initialisation\n",
    "\tPij, Eia, pi0 = initialisation(s,o)\n",
    "\tcritere = 1e-4\n",
    "\tlogV = -10000\n",
    "\tflag = 1\n",
    "\n",
    "\twhile(flag==1):\n",
    "\t\tpath, probabilite = viterbi(obs, T, pi0, Eia, Pij)\n",
    "\t\tjeuEtatsObs = creationArrayIetA(path,obs, T, s )\n",
    "\t\tPij, Eia, pi0 = estimationParametres(jeuEtatsObs, s, o)\n",
    "\n",
    "\t\t#print (\"Pij \", Pij)\n",
    "\t\t#print (\"Eia\",  Eia)\n",
    "\t\t#print (\"pi0\",  pi0)\n",
    "        \n",
    "\t\tlogAux = calculeVraissamblance(jeuEtatsObs[:,0],jeuEtatsObs[:,1],pi0, T, Pij, Eia)\n",
    "\t\t#print (\"Log Vrai: \", logAux, \"Log Vrai Posterieur : \", logV)\n",
    "\t\tif abs(logAux-logV) < critere:\n",
    "\t\t\tflag = 0\n",
    "\t\tlogV = logAux\n",
    "\treturn Pij, Eia, pi0, logV\n",
    "\n",
    "def imprimerParametresViterbiTraining(jettest, T, s, o):\n",
    "    Pij, Eia, pi0, logV = viterbiTraining(jettest, T, 2, 2)\n",
    "    print (\"===Ini Paramètres Viterbi Training===\")\n",
    "    print (\"Pij\")\n",
    "    print (Pij)\n",
    "    print (\"Eia\")\n",
    "    print (Eia)\n",
    "    print (\"pi0\")\n",
    "    print (pi0)\n",
    "    print (\"LogV\")\n",
    "    print (logV)\n",
    "    print (\"===Fin Paramètres Viterbi Training===\")\n",
    "\n",
    "\n",
    "imprimerParametresViterbiTraining(jettest[:,1], T, 2, 2)\n"
   ]
  },
  {
   "cell_type": "code",
   "execution_count": 21,
   "metadata": {},
   "outputs": [],
   "source": [
    "#Visualiser graphiquement les résultats.\n",
    "\n"
   ]
  },
  {
   "cell_type": "markdown",
   "metadata": {},
   "source": [
    "3.3) <u>Viterbi training deuxiemme version </u> Ecrivez une version de 3.3 qui:\n",
    "- part plusieurs fois (100x) d'une initialisation aléatoire des \n",
    "paramètres de l'HMM,\n",
    "- utilise Viterbi training pour estimer les paramètres,\n",
    "- calcule la log-vraisemblance pour les paramètres estimés,\n",
    "- sauvegarde seulement l'estimation avec la valeur maximale de la\n",
    "log-vraisemblance.\n",
    "Qu'est-ce que vous observez?\n",
    "\n"
   ]
  },
  {
   "cell_type": "code",
   "execution_count": 5,
   "metadata": {},
   "outputs": [
    {
     "name": "stdout",
     "output_type": "stream",
     "text": [
      "Pij [[0.99 0.01]\n",
      " [0.05 0.95]]\n",
      "Eij [[0.5 0.5]\n",
      " [0.9 0.1]]\n"
     ]
    },
    {
     "ename": "NameError",
     "evalue": "name 'viterbiTraining' is not defined",
     "output_type": "error",
     "traceback": [
      "\u001b[0;31m---------------------------------------------------------------------------\u001b[0m",
      "\u001b[0;31mNameError\u001b[0m                                 Traceback (most recent call last)",
      "\u001b[0;32m<ipython-input-5-2cc3ae17fa93>\u001b[0m in \u001b[0;36m<module>\u001b[0;34m()\u001b[0m\n\u001b[1;32m     24\u001b[0m \u001b[0;34m\u001b[0m\u001b[0m\n\u001b[1;32m     25\u001b[0m \u001b[0;34m\u001b[0m\u001b[0m\n\u001b[0;32m---> 26\u001b[0;31m \u001b[0mimprimerParametresViterbiTrainingOptionnel\u001b[0m\u001b[0;34m(\u001b[0m\u001b[0mjettest\u001b[0m\u001b[0;34m[\u001b[0m\u001b[0;34m:\u001b[0m\u001b[0;34m,\u001b[0m\u001b[0;36m1\u001b[0m\u001b[0;34m]\u001b[0m\u001b[0;34m,\u001b[0m \u001b[0mT\u001b[0m\u001b[0;34m,\u001b[0m \u001b[0;36m2\u001b[0m\u001b[0;34m,\u001b[0m \u001b[0;36m2\u001b[0m\u001b[0;34m,\u001b[0m \u001b[0;36m100\u001b[0m\u001b[0;34m)\u001b[0m\u001b[0;34m\u001b[0m\u001b[0m\n\u001b[0m",
      "\u001b[0;32m<ipython-input-5-2cc3ae17fa93>\u001b[0m in \u001b[0;36mimprimerParametresViterbiTrainingOptionnel\u001b[0;34m(jettest, T, s, o, iterations)\u001b[0m\n\u001b[1;32m     11\u001b[0m \u001b[0;34m\u001b[0m\u001b[0m\n\u001b[1;32m     12\u001b[0m \u001b[0;32mdef\u001b[0m \u001b[0mimprimerParametresViterbiTrainingOptionnel\u001b[0m\u001b[0;34m(\u001b[0m\u001b[0mjettest\u001b[0m\u001b[0;34m,\u001b[0m \u001b[0mT\u001b[0m\u001b[0;34m,\u001b[0m \u001b[0ms\u001b[0m\u001b[0;34m,\u001b[0m \u001b[0mo\u001b[0m\u001b[0;34m,\u001b[0m \u001b[0miterations\u001b[0m\u001b[0;34m)\u001b[0m\u001b[0;34m:\u001b[0m\u001b[0;34m\u001b[0m\u001b[0m\n\u001b[0;32m---> 13\u001b[0;31m         \u001b[0mresultat\u001b[0m \u001b[0;34m=\u001b[0m \u001b[0mviterbiTrainingOptionnel\u001b[0m\u001b[0;34m(\u001b[0m\u001b[0mjettest\u001b[0m\u001b[0;34m,\u001b[0m \u001b[0mT\u001b[0m\u001b[0;34m,\u001b[0m \u001b[0;36m2\u001b[0m\u001b[0;34m,\u001b[0m \u001b[0;36m2\u001b[0m\u001b[0;34m,\u001b[0m \u001b[0miterations\u001b[0m\u001b[0;34m)\u001b[0m\u001b[0;34m\u001b[0m\u001b[0m\n\u001b[0m\u001b[1;32m     14\u001b[0m         \u001b[0mprint\u001b[0m \u001b[0;34m(\u001b[0m\u001b[0;34m\"===Ini Paramètres Viterbi Training Optionnel===\"\u001b[0m\u001b[0;34m)\u001b[0m\u001b[0;34m\u001b[0m\u001b[0m\n\u001b[1;32m     15\u001b[0m         \u001b[0mprint\u001b[0m \u001b[0;34m(\u001b[0m\u001b[0;34m\"Pij\"\u001b[0m\u001b[0;34m)\u001b[0m\u001b[0;34m\u001b[0m\u001b[0m\n",
      "\u001b[0;32m<ipython-input-5-2cc3ae17fa93>\u001b[0m in \u001b[0;36mviterbiTrainingOptionnel\u001b[0;34m(obs, T, s, o, iterations)\u001b[0m\n\u001b[1;32m      2\u001b[0m         \u001b[0mresultat\u001b[0m \u001b[0;34m=\u001b[0m \u001b[0;34m[\u001b[0m\u001b[0;36m0\u001b[0m\u001b[0;34m,\u001b[0m\u001b[0;36m0\u001b[0m\u001b[0;34m,\u001b[0m\u001b[0;36m0\u001b[0m\u001b[0;34m,\u001b[0m\u001b[0;34m-\u001b[0m\u001b[0;36m10000\u001b[0m\u001b[0;34m]\u001b[0m\u001b[0;34m\u001b[0m\u001b[0m\n\u001b[1;32m      3\u001b[0m         \u001b[0;32mfor\u001b[0m \u001b[0mi\u001b[0m \u001b[0;32min\u001b[0m \u001b[0mrange\u001b[0m \u001b[0;34m(\u001b[0m\u001b[0miterations\u001b[0m\u001b[0;34m)\u001b[0m\u001b[0;34m:\u001b[0m\u001b[0;34m\u001b[0m\u001b[0m\n\u001b[0;32m----> 4\u001b[0;31m                 \u001b[0mPij\u001b[0m\u001b[0;34m,\u001b[0m \u001b[0mEia\u001b[0m\u001b[0;34m,\u001b[0m \u001b[0mpi0\u001b[0m\u001b[0;34m,\u001b[0m \u001b[0mlogV\u001b[0m \u001b[0;34m=\u001b[0m \u001b[0mviterbiTraining\u001b[0m\u001b[0;34m(\u001b[0m\u001b[0mobs\u001b[0m\u001b[0;34m,\u001b[0m \u001b[0mT\u001b[0m\u001b[0;34m,\u001b[0m \u001b[0ms\u001b[0m\u001b[0;34m,\u001b[0m \u001b[0mo\u001b[0m\u001b[0;34m)\u001b[0m\u001b[0;34m\u001b[0m\u001b[0m\n\u001b[0m\u001b[1;32m      5\u001b[0m                 \u001b[0;32mif\u001b[0m \u001b[0mlogV\u001b[0m \u001b[0;34m>\u001b[0m \u001b[0mresultat\u001b[0m\u001b[0;34m[\u001b[0m\u001b[0;36m3\u001b[0m\u001b[0;34m]\u001b[0m \u001b[0;34m:\u001b[0m\u001b[0;34m\u001b[0m\u001b[0m\n\u001b[1;32m      6\u001b[0m                         \u001b[0mresultat\u001b[0m \u001b[0;34m=\u001b[0m \u001b[0;34m[\u001b[0m\u001b[0mPij\u001b[0m\u001b[0;34m,\u001b[0m \u001b[0mEia\u001b[0m\u001b[0;34m,\u001b[0m \u001b[0mpi0\u001b[0m\u001b[0;34m,\u001b[0m \u001b[0mlogV\u001b[0m\u001b[0;34m]\u001b[0m\u001b[0;34m\u001b[0m\u001b[0m\n",
      "\u001b[0;31mNameError\u001b[0m: name 'viterbiTraining' is not defined"
     ]
    }
   ],
   "source": [
    "def viterbiTrainingOptionnel(obs, T, s, o, iterations):\n",
    "\tresultat = [0,0,0,-10000]\n",
    "\tfor i in range (iterations):\n",
    "\t\tPij, Eia, pi0, logV = viterbiTraining(obs, T, s, o)\n",
    "\t\tif logV > resultat[3] :\n",
    "\t\t\tresultat = [Pij, Eia, pi0, logV]\n",
    "\treturn resultat\n",
    "\n",
    "print (\"Pij\", Pij)\n",
    "print (\"Eij\", Eij)\n",
    "\n",
    "def imprimerParametresViterbiTrainingOptionnel(jettest, T, s, o, iterations):\n",
    "\tresultat = viterbiTrainingOptionnel(jettest, T, 2, 2, iterations)\n",
    "\tprint (\"===Ini Paramètres Viterbi Training Optionnel===\")\n",
    "\tprint (\"Pij\")\n",
    "\tprint (resultat[0])\n",
    "\tprint (\"Eia\")\n",
    "\tprint (resultat[1])\n",
    "\tprint (\"pi0\")\n",
    "\tprint (resultat[2])\n",
    "\tprint (\"LogV\")\n",
    "\tprint (resultat[3])\n",
    "\tprint (\"===Fin Paramètres Viterbi Training Optionnel===\")\n",
    "\n",
    "\n",
    "imprimerParametresViterbiTrainingOptionnel(jettest[:,1], T, 2, 2, 100)\n"
   ]
  },
  {
   "cell_type": "markdown",
   "metadata": {},
   "source": []
  }
 ],
 "metadata": {
  "kernelspec": {
   "display_name": "Python 3",
   "language": "python",
   "name": "python3"
  },
  "language_info": {
   "codemirror_mode": {
    "name": "ipython",
    "version": 3
   },
   "file_extension": ".py",
   "mimetype": "text/x-python",
   "name": "python",
   "nbconvert_exporter": "python",
   "pygments_lexer": "ipython3",
   "version": "3.6.4"
  }
 },
 "nbformat": 4,
 "nbformat_minor": 2
}
