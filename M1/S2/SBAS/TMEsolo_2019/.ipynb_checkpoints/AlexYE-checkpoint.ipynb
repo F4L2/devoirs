{
 "cells": [
  {
   "cell_type": "markdown",
   "metadata": {},
   "source": [
    "<h1><b>Statistique en Bioinformatique : </b> TME solo </h1><br>\n",
    "<div class=\"alert alert-warning\" role=\"alert\" style=\"margin: 10px\">\n",
    "<p>**Soumission**</p>\n",
    "<ul>\n",
    "<li>Renommer le fichier TMEsolo_2019.ipynb pour NomEtudiant_TMEsolo.ipynb </li>\n",
    "<li>Envoyer par email à edoardo.sarti@upmc.fr ET nikaabdollahi@gmail.com l’objet de l'email sera [SBAS-2019] TMEsolo</li>\n",
    "</ul>\n",
    "</div>\n",
    "<div class=\"alert alert-warning\" role=\"alert\" style=\"margin: 10px\">\n",
    "<p>**Format des réponses et fonctions de test**</p>\n",
    "Pour chaque exercice, vous allez trouver des instruction rigoureuses sur le format de vos réponses. Veuillez bien contrôler si vos réponses se conforment aux standards en exécutant les fonctions de test que vous allez trouver dans le texte. <b> On ne pourra pas tenir compte de réponses utilisant des formats différents. </b>\n",
    "</div>"
   ]
  },
  {
   "cell_type": "markdown",
   "metadata": {},
   "source": [
    "<h2> 1. Modèles d'évolution de l'ADN </h2><br>\n",
    "\n",
    "La description phénoménologique de l'évolution d'une chaîne d'ADN est importante pour étudier la complexité des mécanismes évolutifs. Ces modèles sont fréquemment utilisés dans les analyses phylogénétiques moléculaires. En particulier, ils sont utilisés lors du calcul de la probabilité d'un arbre et pour estimer la distance évolutive entre les séquences à partir des différences observées entre les séquences.\n",
    "Le modèle qu'on va étudier est celui de <b>Jukes-Cantor</b>, souvent utilisé pour analyser l'évolution d'un locus en faisant l'hypothèse simplificatrice que différents sites évoluent indépendamment et sont distribués de manière identique. Cette hypothèse peut être justifiée si l’on peut supposer que les sites évoluent de manière neutre."
   ]
  },
  {
   "cell_type": "code",
   "execution_count": 1,
   "metadata": {},
   "outputs": [],
   "source": [
    "# Configuration\n",
    "\n",
    "import numpy as np\n",
    "alphabet = ['A', 'C', 'D', 'E', 'F', 'G', 'H', 'I', 'K', 'L', 'M', 'N', 'P', 'Q', 'R', 'S', 'T', 'V', 'W', 'Y']"
   ]
  },
  {
   "cell_type": "markdown",
   "metadata": {},
   "source": [
    "<b>1\\.1 Génération d'une séquence aléatoire </b>:\n",
    "Écrivez une fonction qui génère une séquence d'acides aminés de taille N de manière aléatoire."
   ]
  },
  {
   "cell_type": "code",
   "execution_count": 12,
   "metadata": {},
   "outputs": [
    {
     "name": "stdout",
     "output_type": "stream",
     "text": [
      "['R', 'V', 'K', 'W', 'G', 'C', 'C', 'F', 'F', 'I', 'M', 'W', 'G', 'D', 'M', 'M', 'N', 'Y', 'P', 'A']\n"
     ]
    }
   ],
   "source": [
    "# Fonction génératrice\n",
    "\n",
    "def generate_sequence(N):\n",
    "    # FORMAT:\n",
    "    #  input: N -> entier (nombre d' acides aminés)\n",
    "    #  output: generated_sequence -> chaîne de N caractères\n",
    "    \n",
    "    generated_sequence = []\n",
    "    for i in range(N):\n",
    "        aa = np.random.choice(alphabet)\n",
    "        generated_sequence.append(aa)\n",
    "    return generated_sequence\n",
    "\n",
    "print(generate_sequence(20))"
   ]
  },
  {
   "cell_type": "markdown",
   "metadata": {},
   "source": [
    "<b>1\\.2 Fonction de mutation par substitution </b>:\n",
    "Écrivez une deuxième fonction qui génère n mutation de type substitution sur une séquence d'acides aminés. Les n mutations seront introduites dans de positions aléatoire dans la sequence wildtype."
   ]
  },
  {
   "cell_type": "code",
   "execution_count": 11,
   "metadata": {},
   "outputs": [],
   "source": [
    "# Fonction de mutation (substitution)\n",
    "\n",
    "def mutation_substitution(wild_type_sequence, N):\n",
    "    # FORMAT:\n",
    "    #  input: wild_type_sequence -> chaîne de N caractères\n",
    "    #  output: mutated_sequence -> chaîne de N caractères    \n",
    "    global alphabet\n",
    "    \n",
    "    mutated_sequence = wild_type_sequence.copy()\n",
    "    for i in range(N):\n",
    "        pos = np.random.randint(0,len(wild_type_sequence))\n",
    "        new_aa = np.random.choice(alphabet)\n",
    "        mutated_sequence[pos] = new_aa\n",
    "    \n",
    "    return mutated_sequence"
   ]
  },
  {
   "cell_type": "markdown",
   "metadata": {},
   "source": [
    "<b>1\\.3 Génération d'une séquence mutée </b>:\n",
    "À l’aide de ces deux fonctions, créez une séquence de taille 20 et introduisez n mutations sur cette séquence (une mutation à la fois) où n est inférieur ou égal à 20.<br>\n"
   ]
  },
  {
   "cell_type": "code",
   "execution_count": 14,
   "metadata": {},
   "outputs": [
    {
     "name": "stdout",
     "output_type": "stream",
     "text": [
      "['L', 'A', 'V', 'W', 'N', 'K', 'S', 'C', 'H', 'M', 'R', 'I', 'R', 'Y', 'D', 'S', 'Q', 'F', 'M', 'R']\n",
      "['L', 'A', 'K', 'W', 'N', 'K', 'R', 'C', 'H', 'C', 'R', 'H', 'R', 'L', 'L', 'T', 'Q', 'S', 'M', 'R']\n"
     ]
    }
   ],
   "source": [
    "arti_seq = generate_sequence(20)\n",
    "mut_seq = mutation_substitution(arti_seq, 10)\n",
    "\n",
    "print(arti_seq)\n",
    "print(mut_seq)"
   ]
  },
  {
   "cell_type": "markdown",
   "metadata": {},
   "source": [
    "<b>1\\.4 Distance de Hamming </b>:\n",
    "Calculez la distance (nombre de mutations) entre la séquence originale et la séquence mutée.\n",
    "\n",
    "Par exemple, la distance de Hamming entre ces deux séquences est 3.\n",
    "```\n",
    "Seq 1 : AATTCC\n",
    "Seq 2 : AACGTC\n",
    "```"
   ]
  },
  {
   "cell_type": "code",
   "execution_count": 21,
   "metadata": {},
   "outputs": [
    {
     "name": "stdout",
     "output_type": "stream",
     "text": [
      "['T', 'V', 'D', 'R', 'T', 'C', 'R', 'M', 'Y', 'M', 'W', 'K', 'W', 'E', 'P', 'Q', 'Q', 'Y', 'C', 'E']\n",
      "['V', 'V', 'D', 'R', 'S', 'C', 'W', 'M', 'Y', 'M', 'W', 'M', 'W', 'Q', 'A', 'C', 'Q', 'Y', 'S', 'E']\n",
      "8\n"
     ]
    }
   ],
   "source": [
    "# Fonction distance de Hamming\n",
    "\n",
    "def hamming_distance(seq1, seq2):\n",
    "    # FORMAT:\n",
    "    #  input: seq1 -> chaîne de N caractères\n",
    "    #         seq2 -> chaîne de N caractères\n",
    "    #  output: distance -> entier\n",
    "    if len(seq1) != len(seq2):\n",
    "        print(\"ERROR: sequences must be the same size\")\n",
    "    \n",
    "    distance = 0\n",
    "    for aa1, aa2 in zip(seq1,seq2):\n",
    "        if(aa1 != aa2):\n",
    "            distance += 1\n",
    "    return distance\n",
    "\n",
    "# Calcul de la distance\n",
    "\n",
    "seq_orig = generate_sequence(20)\n",
    "seq_mut = mutation_substitution(seq_orig, 10)\n",
    "\n",
    "print(seq_orig)\n",
    "print(seq_mut)\n",
    "print(hamming_distance(seq_orig, seq_mut))"
   ]
  },
  {
   "cell_type": "markdown",
   "metadata": {},
   "source": [
    "<h2> 2. Détection de régions transmembranaires </h2><br>\n",
    "\n",
    "Les structures des protéines transmembranaires sont très peu connues. Les méthodes expérimentaux, comme la cristallographie et la  résonance magnétique nucléaire  sont peu performantes car ces proteines se trouvent dans un milieu hydrophobe, et ont une tendance à se déplier suite à l'extraction de la membrane cellulaire. <br>\n",
    "Généralement, les protéines transmembranaires constituent 30% du genôme de chaque espèce, mais seulement 2%  des structures ont été déterminées expérimentalement.\n",
    "Les méthodes de prédiction de structures à partir de sequences sont donc essentielle pour determiner la structure de  protéines transmembranaires.\n",
    "Comme un premier pas ces méthodes doivent identifier les régions des séquences qui traversent la membrane, par opposition aux régions exposées au citoplasme ou à l'espace intercellulaire. Nous allons donc modéliser les  regions transmembranaires à l'aide d'un HMM <br>"
   ]
  },
  {
   "cell_type": "code",
   "execution_count": 22,
   "metadata": {},
   "outputs": [],
   "source": [
    "# Configuration\n",
    "\n",
    "import numpy as np\n",
    "import operator\n",
    "import matplotlib.pyplot as plt"
   ]
  },
  {
   "cell_type": "markdown",
   "metadata": {},
   "source": [
    "<b>2\\.1 Architecture du HMM </b>:\n",
    "Le HMM utilisé pour modéliser les regions transmembranaires sera composé de deux états caché : In (I) pour identifier les régions transmembranaires et Out (O) pour identifier les régions solubles (ou non transmembranaires)."
   ]
  },
  {
   "cell_type": "code",
   "execution_count": 30,
   "metadata": {},
   "outputs": [
    {
     "name": "stdout",
     "output_type": "stream",
     "text": [
      "{0: 'A', 1: 'C', 2: 'D', 3: 'E', 4: 'F', 5: 'G', 6: 'H', 7: 'I', 8: 'K', 9: 'L', 10: 'M', 11: 'N', 12: 'P', 13: 'Q', 14: 'R', 15: 'S', 16: 'T', 17: 'V', 18: 'W', 19: 'Y', 20: 'a', 21: 'c', 22: 'd', 23: 'e', 24: 'f', 25: 'g', 26: 'h', 27: 'i', 28: 'k', 29: 'l', 30: 'm', 31: 'n', 32: 'p', 33: 'q', 34: 'r', 35: 's', 36: 't', 37: 'v', 38: 'w', 39: 'y'}\n"
     ]
    }
   ],
   "source": [
    "# Architecture\n",
    "\n",
    " # caractères de votre alphabet\n",
    "alphabet = ['A', 'C', 'D', 'E', 'F', 'G', 'H', 'I', 'K', 'L', 'M', 'N', 'P', 'Q', 'R', 'S', 'T', 'V', 'W', 'Y',\n",
    "            'a', 'c', 'd', 'e', 'f', 'g', 'h', 'i', 'k', 'l', 'm', 'n', 'p', 'q', 'r', 's', 't', 'v', 'w', 'y']   \n",
    "\n",
    "S = { 0 : 'O', 1 : 'I'}    # Etats cachés (dictionnaire)\n",
    "\n",
    "O = {} #{0:'A', 1:'C', 2:'D', 3:'E', 4:'F', 5:'G', 6:'H', 7:'I', 8:'K', 9:'L', 10:'M', 11:'N', 12:'P', 13:'Q', 14:'R', 15:'S', 16:'T', 17:'V', 18:'W', 19:'Y'}  # Etats observés (dictionnaire)\n",
    "        #FORMAT : O = { 0 : '', 1 : '', 2 : '', ...}\n",
    "\n",
    "for i in range(len(alphabet)):\n",
    "    O[i] = alphabet[i] \n",
    "    \n",
    "print(O)"
   ]
  },
  {
   "cell_type": "markdown",
   "metadata": {},
   "source": [
    "<b>2\\.2 Entraînement des paramètres </b>:\n",
    "Dans le fichier `training_sequences.fasta` vous trouvez des séquences en format FASTA avec une région transmembranaires (TM) chacune. Les régions TM sont reportées en majuscule, et les régions Non transmembranaires ou soluble en minuscule.\n",
    "Utilisez cet ensemble pour estimer les probabilités de transition et de émission du HMM, et fixez les valeurs des probabilités initiales des deux états cachés. \n",
    "\n",
    "Puisque on connait déjà la séquence d'états cachés pour chaque séquence, vous devez seulement estimer les probabilité par comptage."
   ]
  },
  {
   "cell_type": "code",
   "execution_count": 53,
   "metadata": {},
   "outputs": [
    {
     "name": "stdout",
     "output_type": "stream",
     "text": [
      "Transitions\n",
      " [[0.81307064 0.18692936]\n",
      " [0.34502643 0.65497357]]\n",
      "Emissions\n",
      " [[0.00211694 0.00090726 0.00030242 ... 0.00020161 0.00020161 0.00010081]\n",
      " [0.00020161 0.00020161 0.00040323 ... 0.00010081 0.00010081 0.00010081]\n",
      " [0.00040323 0.00020161 0.00010081 ... 0.00010081 0.00010081 0.00010081]\n",
      " ...\n",
      " [0.00010081 0.00010081 0.00010081 ... 0.00050403 0.00050403 0.00020161]\n",
      " [0.00010081 0.00010081 0.00010081 ... 0.00100806 0.00080645 0.00100806]\n",
      " [0.00010081 0.00030242 0.00010081 ... 0.00110887 0.00080645 0.00070565]]\n",
      "Probabilités initiales\n",
      " [0.65809707 0.34190293]\n"
     ]
    }
   ],
   "source": [
    "# Entraînement des paramètres du HMM\n",
    "\n",
    "Pij = None # Probabilités de transition (matrice numpy)\n",
    "       # FORMAT: lignes : états cachés au temps t ; colonnes : états cachés au temps t+1\n",
    "\n",
    "Eio = None # Probabilités de émission (matrice numpy)\n",
    "       # FORMAT: lignes : états cachés ; colonnes : états observés\n",
    "\n",
    "pi0 = None # Probabilités intiales des états cachés (vecteur numpy)\n",
    "\n",
    "def read_sequence_file(sequence_filename):\n",
    "    # FORMAT:\n",
    "    #  input: sequence_filename -> chaîne de caractères (nom du fichier contenant les séquences)\n",
    "    #  output: sequences -> liste de chaînes de caractères (séquences)\n",
    "    \n",
    "    sequences = []\n",
    "    with open(sequence_filename,'r') as f:\n",
    "        for line in f:\n",
    "            if(line[0] == '>'):\n",
    "                continue\n",
    "            else:\n",
    "                sequences.append(line.strip())\n",
    "    return sequences\n",
    "\n",
    "def count_occurrences(sequences):\n",
    "    # FORMAT:\n",
    "    #  input: sequences -> liste de chaînes de caractères (séquences)\n",
    "    #  output: count_transitions -> np.array([]) matrice de comptage de transitions. \n",
    "    #           lignes : états cachés au temps t ; colonnes : états cachés au temps t+1\n",
    "    #          count_emissions -> np.array([]) matrice de comptage de émissions.\n",
    "    #           lignes : états cachés ; colonnes : états observés\n",
    "    global alphabet\n",
    "    \n",
    "    \n",
    "    #avec pseudo count\n",
    "    count_transitions = np.ones( (len(S),len(S)) )\n",
    "    count_emissions = np.ones( (len(alphabet), len(alphabet)) )\n",
    "    #count_transitions = []\n",
    "    #count_emissions = []\n",
    "    \n",
    "    for seq in sequences:\n",
    "        \n",
    "        for i in range(1,len(seq)):\n",
    "            prev_aa = seq[i-1]\n",
    "            next_aa = seq[i]\n",
    "            \n",
    "            if(prev_aa >= 'a' and prev_aa <= 'z'):\n",
    "                prev_s = 0 #not TM\n",
    "            else:\n",
    "                prev_s = 1 #TM\n",
    "             \n",
    "            if(next_aa >= 'a' and next_aa <= 'z'):\n",
    "                next_s = 0 #not TM\n",
    "            else:\n",
    "                next_s = 1 #TM\n",
    "            \n",
    "            \n",
    "            prev_e = alphabet.index(prev_aa)\n",
    "            next_e = alphabet.index(next_aa)\n",
    "                \n",
    "            count_transitions[prev_s][next_s] += 1 \n",
    "            count_emissions[prev_e][next_e] += 1\n",
    "        '''\n",
    "        for aa in seq:\n",
    "            if(aa >= 'a' and aa <= 'z'):\n",
    "                state = 0 #not TM\n",
    "            else:\n",
    "                state = 1 #TM\n",
    "            count_transitions.append(state)\n",
    "            count_emissions.append(aa)\n",
    "        '''\n",
    "    return count_transitions, count_emissions\n",
    "\n",
    "def estimate_probabilities_from_countings(count_transitions, count_emissions):\n",
    "    # FORMAT:\n",
    "    #  input: count_transitions -> np.array([]) matrice de comptage de transitions. \n",
    "    #          lignes : états cachés au temps t ; colonnes : états cachés au temps t+1\n",
    "    #         count_emissions -> np.array([]) matrice de comptage de émissions.\n",
    "    #          lignes : états cachés ; colonnes : états observés\n",
    "    #  output: Pij -> np.array([]) matrice de probabilités de transitions. \n",
    "    #           lignes : états cachés au temps t ; colonnes : états cachés au temps t+1\n",
    "    #          Eio -> np.array([]) matrice de probabilités de émissions.\n",
    "    #           lignes : états cachés ; colonnes : états observés    \n",
    "    #          pi0 -> np.array([]) vecteur numpy de probabilités initiales\n",
    "    \n",
    "    Pij = count_transitions.copy()\n",
    "    Eio = count_emissions.copy()\n",
    "    \n",
    "    Pij /= count_transitions.sum()\n",
    "    Eio /= count_emissions.sum()\n",
    "    \n",
    "    pi0 = np.array([Pij[0].sum(), Pij[1].sum()])\n",
    "    \n",
    "    #normalize Pij\n",
    "    for pi in Pij:\n",
    "        if(pi.sum() < 1):\n",
    "            toDistr = 1 - pi.sum()\n",
    "            for j in range(len(pi)):\n",
    "                pi[j] += toDistr / len(pi)\n",
    "        if(pi.sum() > 1):\n",
    "            toDistr = abs(1 - zi.sum())\n",
    "            for j in range(len(pi)):\n",
    "                pi[j] -= toDistr / len(pi)\n",
    "    \n",
    "    return Pij, Eio, pi0\n",
    "\n",
    "seqs = read_sequence_file(\"training_sequences.fasta\")\n",
    "ntrans, nem = count_occurrences(seqs)\n",
    "Pij, Eio, pi0 = estimate_probabilities_from_countings(ntrans, nem)\n",
    "\n",
    "print(\"Transitions\\n\",Pij)\n",
    "print(\"Emissions\\n\",Eio)\n",
    "print(\"Probabilités initiales\\n\",pi0)"
   ]
  },
  {
   "cell_type": "markdown",
   "metadata": {},
   "source": [
    "<b>2\\.3 Algorithme de Viterbi </b>:\n",
    "Une fois le modèle entraîné, implémentez l'algorithme de Viterbi pour trouver la probabilité et  la meilleure séquence d'états cachés  d'une nouvelle sequence. Pour tester l'algorithme de Viterbi utilisez la séquence ci-après. Utilisez les log-probabilités afin d'eviter que la valeur finale de la probabilité associée au chemin ne soit pas approximée à 0 par l'ordinateur, c'est-à-dire eviter les underflows."
   ]
  },
  {
   "cell_type": "code",
   "execution_count": 54,
   "metadata": {},
   "outputs": [
    {
     "name": "stdout",
     "output_type": "stream",
     "text": [
      "[ True False False False False False False False False False False False\n",
      " False False False False False False False False False False False False\n",
      " False False False  True  True  True  True  True  True  True  True  True\n",
      "  True  True  True  True  True  True  True  True  True  True  True  True\n",
      "  True  True  True  True  True  True  True False False False False False\n",
      " False False False False False False False False False False False False\n",
      " False False False False False False False False False False False False\n",
      " False False False False False False False  True  True  True False False\n",
      " False False False False False False False False False False False False\n",
      " False False False False False False False False False False False False\n",
      " False False False False  True  True  True  True  True  True  True  True\n",
      "  True  True  True  True  True  True  True  True  True  True  True  True\n",
      "  True  True  True  True  True  True  True  True  True  True  True  True\n",
      "  True  True  True  True  True  True  True  True  True  True  True  True\n",
      "  True  True  True  True  True  True  True  True  True  True  True False\n",
      " False False False False False False False False False False False False\n",
      " False False False False False False False False False False False False\n",
      " False False False False False False False False False  True  True  True\n",
      "  True  True  True  True  True  True  True  True  True  True  True  True\n",
      "  True  True  True  True  True  True  True  True  True  True  True  True\n",
      "  True  True False False False False False False False False False False\n",
      " False False False False False False False False False False False False\n",
      " False False False False False False  True  True  True  True  True  True\n",
      "  True  True  True  True  True  True  True  True  True  True  True  True\n",
      "  True  True  True  True  True  True  True  True  True  True  True  True\n",
      "  True  True  True  True  True  True  True  True  True False False False\n",
      " False False False False False False False False False False False False\n",
      " False False False False False False False False False False  True  True\n",
      "  True  True  True  True  True  True  True False False False False False\n",
      " False False False False False False False  True  True  True  True  True\n",
      "  True  True  True  True  True  True  True  True  True  True  True  True\n",
      "  True  True  True  True  True  True  True  True  True  True  True  True\n",
      "  True  True  True  True  True  True  True  True  True  True  True  True\n",
      "  True  True  True  True  True  True  True  True  True  True  True  True\n",
      "  True  True  True  True  True  True  True  True  True  True  True  True\n",
      "  True  True  True  True  True  True  True  True  True]\n"
     ]
    }
   ],
   "source": [
    "# Algorithme de Viterbi\n",
    "\n",
    "def viterbi(seq_obs, prob_trans_mx, prob_emis_mx, prob_init_vec):\n",
    "    # FORMAT:\n",
    "    #  input: seq_obds -> np.array([], dtype=int) vecteur numpy d'entiers\n",
    "    #         prob_trans_mx -> np.array([]) matrice numpy de probabilités\n",
    "    #         prob_emis_mx -> np.array([]) matrice numpy de probabilités\n",
    "    #         prob_init_vec -> np.array([]) vecteur numpy de probabilités\n",
    "    #  output: etats_caches -> np.array([], dtype=int) vecteur numpy d'entiers\n",
    "    #          prob -> float (log-probabilité du chemin)\n",
    "    global O, S\n",
    "    \n",
    "    etats_caches = np.zeros(len(seq_obs))\n",
    "    options = np.zeros(len(prob_emis_mx))\n",
    "    prob = np.zeros((len(seq_obs),len(prob_emis_mx)))\n",
    "    prob[0][:] = 1\n",
    "    for t in range(1, len(seq_obs)): #for all observations\n",
    "        for i in range(len(prob_trans_mx)): #for all state\n",
    "            \n",
    "            best_j = np.max(prob[t-1][i] * prob_trans_mx[:][i])\n",
    "            prob[t][i] = prob_emis_mx[i][seq_obs[t]] * best_j             \n",
    "            \n",
    "            options[i] = np.argmax(prob[t-1][i] * prob_trans_mx[:][i])\n",
    "            \n",
    "            #print(prob[t][i])\n",
    "            \n",
    "        etats_caches[t] = np.argmax(options)    \n",
    "    \n",
    "    return etats_caches, prob\n",
    "\n",
    "\n",
    "# Test avec\n",
    "\n",
    "seq_test = \"\"\"dipgvtsnnwvhtaiiecyqdesrdadVGIWFLVVYVNFAAWDFMTYLIQAQCFI\n",
    "ycrveetthnshhkmgqqfqdasmtwdysspkvhsrmsyNSWFLASMMAQQDYFYMFVLMNMMYYPMMY\n",
    "cqvkdnkldeypdaesvpdrvekktyplhrfdsgntlntctwrqnqgqqctfwqvSYAMGLMGLWVIIF\n",
    "FAFIVTMPSQWTWVIWFMGMhqsrychqkraekkqhktgktfywpyfqdWWFQSIYMYIPWYKFYMPAV\n",
    "EVFAWVDEgrsdawirgfnymnfwayswlrrddpdeeqgrtygncciSTLMFAYDSLCGAISIGALQGY\n",
    "VTNwhvqiefmsGYQFYAAFLIMIhkwvvhdcmywkevqnkwtfthrgigdlsdlhihtqphhwfrddg\n",
    "ngiesnvdkffnnsdqnkqgedankdlpr\"\"\".replace('\\n','')\n",
    "seq_test_correctform = np.array([alphabet.index(x.upper()) for x in seq_test])\n",
    "seq_test_solution = np.array([1 if x == x.upper() else 0 for x in seq_test], dtype=int)\n",
    "\n",
    "etats_caches_test, prob_test = viterbi(seq_test_correctform, Pij, Eio, pi0)\n",
    "\n",
    "print(etats_caches_test == seq_test_solution)"
   ]
  },
  {
   "cell_type": "markdown",
   "metadata": {},
   "source": [
    "<b>2\\.4 Matrice de confusion </b>:\n",
    "Vous trouvez dans le fichier `test_sequences.fasta` des séquences ayant zero ou plusieurs régions TM. Comme avant, les régions TM sont en majuscule et les régions non-TM en minuscule. Utilisez votre implementation de l'algorithme de Viterbi pour prédire les regions TM dans les séquences de test. Votre implémentation doit rapporter pour chaque séquence de test les régions prédites comme TM et non-TM, ainsi bien que la probabilité associée à chaque prédiction. Considérez seulement les régions prédites ayant plus que 9 acides aminés.\n",
    "Ensuite évaluez la performance de votre implémentation en considérant comme:\n",
    "<ul>\n",
    "<li> True Positive (TP), les vraies régions TM qui se chevauchent à une région prédite TM</li>\n",
    "<li> False Positive (FP),  les vraies régions non-TM qui se chevauchent à une région prédite TM  </li>\n",
    "<li> False Negative (FN) , les vraies régions TM qui NE se chevauchent à AUCUNE région prédite TM </li>\n",
    "<li> True Negative (TN), les vraies régions non-TM qui NE se chevauchent à AUCUNE région prédite TM</li>\n",
    "</ul>\n",
    "\n",
    "Considérez comme chevauchantes les régions ayant au moins 75% d'acides aminé en commun. La pourcentage est toujours calculée par rapport aux vraies régions, ça veut dire aux séquences de test.\n",
    "\n",
    "Calculez aussi:\n",
    "<ul>\n",
    "<li>la sensibilité `TPR = TP/(TP+FN)`</li>\n",
    "<li>la sélectivité `TNR = TN/(TN+FP)` et son complément `FPR = 1-TNR`</li>\n",
    "<li>la précision `PPV = TP/(TP+FP)`</li>\n",
    "<li>le F-score `(PPV*TPR)/(PPV+TPR)`</li>\n",
    "</ul>"
   ]
  },
  {
   "cell_type": "code",
   "execution_count": 79,
   "metadata": {},
   "outputs": [
    {
     "name": "stdout",
     "output_type": "stream",
     "text": [
      "TP 0\n",
      "FP 47\n",
      "TN 847\n",
      "FN 898\n"
     ]
    }
   ],
   "source": [
    "# Ensemble de test et statistiques associées\n",
    "\n",
    "test_seqs = read_sequence_file(\"test_sequences.fasta\")\n",
    "\n",
    "\n",
    "precision = lambda tp,fp : tp/(tp+fp)\n",
    "recall = lambda tp,fn : tp/(tp+fn)\n",
    "fscore = lambda p,r :(2*p*r)/(p+r)\n",
    "true_pos_rate = lambda tp,fn : tp/(tp+fn)\n",
    "false_pos_rate = lambda fp, tn: fp/(fp+tn)\n",
    "\n",
    "\n",
    "\n",
    "TP = 0\n",
    "FP = 0\n",
    "FN = 0\n",
    "TN = 0\n",
    "AllResults = []\n",
    "for seq_test in test_seqs:\n",
    "    seq_test_correctform = np.array([alphabet.index(x.upper()) for x in seq_test])\n",
    "    seq_test_solution = np.array([1 if x == x.upper() else 0 for x in seq_test], dtype=int)\n",
    "    etats_caches_test, prob_test = viterbi(seq_test_correctform, Pij, Eio, pi0)\n",
    "    \n",
    "    TM_segments = []\n",
    "    nTM_segments = []\n",
    "    \n",
    "    TMsegment = []\n",
    "    nTMsegment = []\n",
    "    p_TM = 1\n",
    "    p_nTM = 1\n",
    "    \n",
    "    chevauchement_TM = 0\n",
    "    chevauchement_nTM = 0\n",
    "    reset_p = False\n",
    "    reset_r = False\n",
    "    realTM_segment = []\n",
    "    realnTM_segment = []\n",
    "    \n",
    "    overlap_TM = 0\n",
    "    overlap_nTM = 0 \n",
    "    \n",
    "    for pred, prob, real in zip(etats_caches_test, prob_test, seq_test_solution):\n",
    "        #TM-TM\n",
    "        if(pred == 1 and real == 1):\n",
    "            chevauchement_TM += 1\n",
    "            overlap_TM += 1\n",
    "            \n",
    "        #TM-nTM\n",
    "        if(pred == 1 and real == 0):\n",
    "            chevauchement_nTM += 1\n",
    "            overlap_nTM += 1 \n",
    "            \n",
    "        if( pred ):\n",
    "            TMsegment.append(pred)\n",
    "            p_TM *= prob\n",
    "            if(len(nTMsegment)>=9):\n",
    "                nTM_segments.append( (nTMsegment,p_nTM) )\n",
    "                reset_p = True\n",
    "            nTMsegment = []\n",
    "            p_nTM = 1\n",
    "        else:\n",
    "            nTMsegment.append(pred)\n",
    "            p_nTM *= prob\n",
    "            if(len(TMsegment)>=9):\n",
    "                reset_p = True\n",
    "                if( chevauchement_TM / len(TMsegment) >= 0.75 ):\n",
    "                    TP += 1 \n",
    "                if( chevauchement_nTM / len(TMsegment) >= 0.75):\n",
    "                    FP += 1\n",
    "                \n",
    "                TM_segments.append( (TMsegment, p_TM) )\n",
    "                \n",
    "            TMsegment = []\n",
    "            p_TM = 1 \n",
    "        \n",
    "        if( real ):\n",
    "            realTM_segment.append(real)\n",
    "            if(len(realnTM_segment)>=9):\n",
    "                reset_r = True\n",
    "            realnTM_segment = []\n",
    "        else:\n",
    "            realnTM_segment.append(real)\n",
    "            if(len(realTM_segment)>=9):\n",
    "                reset_r = True\n",
    "            realTM_segment = []\n",
    "        \n",
    "        \n",
    "        if(reset_p):\n",
    "            reset_p = False\n",
    "            chevauchement_TM = 0 \n",
    "            chevauchement_nTM = 0\n",
    "            \n",
    "        if(reset_r):\n",
    "            reset_r = False\n",
    "            \n",
    "            if(overlap_TM == 0):\n",
    "                FN += 1 \n",
    "            if(overlap_nTM == 0):\n",
    "                TN += 1 \n",
    "            \n",
    "            overlap_TM = 0 \n",
    "            overlap_nTM = 0\n",
    "        \n",
    "        AllResults.append( (TM_segments,nTM_segments) )\n",
    "        \n",
    "\n",
    "print(\"TP\", TP)\n",
    "print(\"FP\", FP)\n",
    "print(\"TN\", TN)\n",
    "print(\"FN\", FN)\n",
    "#print(\"TPR\", TPR)\n",
    "#print(\"TNR\", TNR)\n",
    "#print(\"FPR\", FPR)\n",
    "#print(\"PPV\", PPV)\n",
    "#print(\"F-score\", Fscore)"
   ]
  },
  {
   "cell_type": "markdown",
   "metadata": {},
   "source": [
    "<b>2\\.5 Courbes ROC et Precision/Recall</b>:\n",
    "Variez le seuil N=75% du point précedent et créez les courbes ROC et Precision/Recall. Calculez aussi le F-score en fonction de N. Quel est le seuil optimale?"
   ]
  },
  {
   "cell_type": "code",
   "execution_count": 16,
   "metadata": {},
   "outputs": [
    {
     "data": {
      "text/plain": [
       "<matplotlib.figure.Figure at 0x1158dc940>"
      ]
     },
     "metadata": {},
     "output_type": "display_data"
    },
    {
     "data": {
      "image/png": "[encoded data removed]",
      "text/plain": [
       "<matplotlib.figure.Figure at 0x1158dc898>"
      ]
     },
     "metadata": {},
     "output_type": "display_data"
    },
    {
     "data": {
      "image/png": "[encoded data removed]",
      "text/plain": [
       "<matplotlib.figure.Figure at 0x106c32048>"
      ]
     },
     "metadata": {},
     "output_type": "display_data"
    }
   ],
   "source": [
    "#Courbe ROC\n",
    "\n",
    "xFPR = []\n",
    "yTPR = []\n",
    "\n",
    "\n",
    "\n",
    "plt.clf()    \n",
    "plt.figure(num=None, figsize=(8, 6), dpi=80, facecolor='w', edgecolor='k')\n",
    "plt.plot(xFPR,yTPR)\n",
    "plt.plot(xFPR,xFPR)\n",
    "plt.xlabel('False Positive Rate', fontsize=12)\n",
    "plt.ylabel('True Positive Rate', fontsize=12)\n",
    "plt.title('ROC', fontsize=15)\n",
    "plt.grid(True)\n",
    "plt.show()    \n",
    "\n",
    "\n",
    "# Courbe Precision/Recall\n",
    "\n",
    "yPrecision = []\n",
    "xRecall = []\n",
    "    \n",
    "plt.figure(num=None, figsize=(8, 6), dpi=80, facecolor='w', edgecolor='k')\n",
    "plt.plot(xRecall,yPrecision)\n",
    "plt.xlabel('Recall', fontsize=12)\n",
    "plt.ylabel('Precision', fontsize=12)\n",
    "plt.title('Precision/Recall', fontsize=15)\n",
    "plt.grid(True)\n",
    "plt.show()\n",
    "\n",
    "print(\"Meilleur seuil: \", max_i, \"avec F-score\", max_Fscore)"
   ]
  },
  {
   "cell_type": "markdown",
   "metadata": {},
   "source": [
    "<b>(Bonus) Optimisation de votre algorithme</b>:\n",
    "Identifiez-vous de points d'amelioration dans votre implémentation de l'algorithme de Viterbi. Discutez et récrivez le code avec ces améliorations. "
   ]
  },
  {
   "cell_type": "markdown",
   "metadata": {},
   "source": [
    "<font color=\"#0000FF\"> Réponse: </font>"
   ]
  },
  {
   "cell_type": "code",
   "execution_count": 5,
   "metadata": {
    "collapsed": true
   },
   "outputs": [],
   "source": [
    "# Implémentation v. 2\n",
    "\n"
   ]
  }
 ],
 "metadata": {
  "kernelspec": {
   "display_name": "Python 3",
   "language": "python",
   "name": "python3"
  },
  "language_info": {
   "codemirror_mode": {
    "name": "ipython",
    "version": 3
   },
   "file_extension": ".py",
   "mimetype": "text/x-python",
   "name": "python",
   "nbconvert_exporter": "python",
   "pygments_lexer": "ipython3",
   "version": "3.6.7"
  }
 },
 "nbformat": 4,
 "nbformat_minor": 2
}
