{
 "cells": [
  {
   "cell_type": "markdown",
   "metadata": {},
   "source": [
    "<h1><b>Statistique en Bioinformatique : </b> TME9 </h1><br>\n",
    "\n",
    "L’objectif de ce TME est: \n",
    "<br>\n",
    "<ul>\n",
    "<li> Evaluer la performance des HMMs sur les homologues lointains </li> \n",
    "</ul>\n",
    "<div class=\"alert alert-warning\" role=\"alert\" style=\"margin: 10px\">\n",
    "<p>**Soumission**</p>\n",
    "<ul>\n",
    "<li>Renomer le fichier TME9.ipynb pour NomEtudiant1_NomEtudiant2_TME9.ipynb </li>\n",
    "<li>Envoyer par email à edoardo.sarti@upmc.fr, l’objet de l'email sera [SBAS-2019] TME9</li>\n",
    "</ul>\n",
    "</div>"
   ]
  },
  {
   "cell_type": "markdown",
   "metadata": {},
   "source": [
    "Nom etudiant 1 : Alex YE\n",
    "<br>\n",
    "Nom etudiant 2 :\n",
    "<br>"
   ]
  },
  {
   "cell_type": "markdown",
   "metadata": {},
   "source": [
    "<h2> Datasets </h2><br>\n",
    "To evaluate the performance of HMMer over remote homologous proteins, we will work with datasets scop-95 and scop-30 having at most 95 and 30% of identity.  We will use a leave-one-out strategy as follows. Given a scop family $F$  in one of the scop datasets, we consider the set of $n$ sequences associated to $F$ in scop, to create $n$ test-sets for $F$. Each test-set takes $n−1$ sequences for training and leaves one sequence out for the test. Then, we test whether the sequence that was left out could be annotated by a HMMer profile constructed without using it, and count the correct identification of the domain as a true positive (TP), the identification of an erroneous domain as a false positive (FP) and the identification of no domain as a false negative (FN). For each scop dataset you can find the directory `aln` that contains the alignment for each testsets in STOCKHOLM format, extension .sto"
   ]
  },
  {
   "cell_type": "markdown",
   "metadata": {},
   "source": [
    "For scop-95 dataset do:"
   ]
  },
  {
   "cell_type": "markdown",
   "metadata": {},
   "source": [
    "1\\. Create pHMMs from the alignments in `aln/*.sto`. Use the program `hmmbuild` from the HMMer-3 package. Save models  in a directory named models. Put your code below, but run it on the terminal."
   ]
  },
  {
   "cell_type": "code",
   "execution_count": 10,
   "metadata": {},
   "outputs": [],
   "source": [
    "import os\n",
    "import subprocess\n",
    "\n",
    "tme_path = os.getcwd() \n",
    "scop95 = tme_path + '/scop/scop95/' \n",
    "aln_scop95 = scop95 + 'aln/'\n",
    "model_dir = scop95 + 'models/'\n",
    "  \n",
    "    \n",
    "def dir_exists(dir_name):\n",
    "    return os.path.isdir(dir_name)\n",
    "\n",
    "def create_dir(dir_name):\n",
    "    os.mkdir(dir_name)\n",
    "\n",
    "\n",
    "def do_the_thing( aln_directory, model_directory ):\n",
    "    MSAs = []\n",
    "    # r=root, d=directories, f = files\n",
    "    for r, d, f in os.walk(aln_directory):\n",
    "        for file in f:\n",
    "            if '.sto' in file:\n",
    "                MSAs.append(file)\n",
    "                #MSAs.append(os.path.join(r, file))\n",
    "\n",
    "    for aln in MSAs:\n",
    "        name = aln[:-4]\n",
    "        inp = aln_directory + aln\n",
    "        outp = model_directory + name +'.hmm'\n",
    "\n",
    "        #wrap command\n",
    "        cline = \"hmmbuild\" + ' ' + outp + ' ' + inp\n",
    "        #run command\n",
    "        subprocess.run(list(str(cline).split(' ')))\n",
    "\n",
    "    print(\"success !\")\n",
    "    \n",
    "if(not dir_exists(model_dir)):\n",
    "    create_dir(model_dir)\n",
    "#do_the_thing(aln_scop95, model_dir)"
   ]
  },
  {
   "cell_type": "markdown",
   "metadata": {},
   "source": [
    "2\\. Search all sequences in the file `scopTestSeq.fasta` against all models created previously. Use `hmmsearch` and the option `--domtblout` to save parseable table of per-domain hits to file, use option `-E 1`. Save the outputs in a directory named `searchResults/`. Put your code below, but run it on the terminal."
   ]
  },
  {
   "cell_type": "code",
   "execution_count": 22,
   "metadata": {},
   "outputs": [
    {
     "name": "stdout",
     "output_type": "stream",
     "text": [
      "success !\n"
     ]
    }
   ],
   "source": [
    "filename_ = 'scop/scopTestSeq.fasta'\n",
    "search_dir = scop95 + 'searchResults/'\n",
    "\n",
    "def the_other_thing( sequence_file, model_directory, search_directory):\n",
    "    models = []\n",
    "    # r=root, d=directories, f = files\n",
    "    for r, d, f in os.walk(model_directory):\n",
    "        for file in f:\n",
    "            if '.hmm' in file:\n",
    "                models.append(file)\n",
    "    for model in models:\n",
    "        name = model[:-4]\n",
    "        model_file = model_directory + model\n",
    "        output_name = search_directory + name +'.out'\n",
    "        option_domtblout = '--domtblout ' + output_name\n",
    "        option_E = '-E 1'\n",
    "        \n",
    "        #wrap command\n",
    "        cline = \"hmmsearch\" + ' ' + option_domtblout + ' ' + option_E + ' ' + model_file + ' ' + sequence_file\n",
    "        #run command\n",
    "        subprocess.run(list(str(cline).split(' ')))\n",
    "    print(\"success !\")\n",
    "\n",
    "if(not dir_exists(search_dir)):\n",
    "    create_dir(search_dir)\n",
    "the_other_thing(filename_, model_dir, search_dir)"
   ]
  },
  {
   "cell_type": "markdown",
   "metadata": {},
   "source": [
    "3\\. Concat all search results, rank the sequences and remove all hits having same family and different proteinID. Consider just the best hit per sequence."
   ]
  },
  {
   "cell_type": "markdown",
   "metadata": {},
   "source": [
    "```bash\n",
    "# the following bash commands illustrate a way to concatenate and format the output of hmmsearch\n",
    "# hmmsearch results are assumed to be in the current directory and in files with extension .out\n",
    "cat *.out > allRes.txt\n",
    "sed 's/^#/d' allRes.txt > allRes.txt.ftt\n",
    "cat allRes.txt.ftt | awk '{print $1\" \"$4\" \"$12}' > allRes.txt.ftt.2\n",
    "sed -i -e 's/\\.aln//g' allRes.txt.ftt.2\n",
    "mv allRes.txt.ftt.2 allRes.txt.ftt\n",
    "```"
   ]
  },
  {
   "cell_type": "code",
   "execution_count": 11,
   "metadata": {},
   "outputs": [
    {
     "name": "stdout",
     "output_type": "stream",
     "text": [
      "329 780\n"
     ]
    }
   ],
   "source": [
    "#i believe there was an extra s in the second command, so i removed it\n",
    "''' in directory: scope/scope95/searchResults/\n",
    "cat *.out > allRes.txt\n",
    "sed '/^#/d' allRes.txt > allRes.txt.ftt    \n",
    "cat allRes.txt.ftt | awk '{print $1\" \"$4\" \"$12}' > allRes.txt.ftt.2\n",
    "sed -i -e 's/\\.aln//g' allRes.txt.ftt.2\n",
    "mv allRes.txt.ftt.2 allRes.txt.ftt\n",
    "'''\n",
    "\n",
    "file_ = 'scop/scop95/searchResults/allRes.txt.ftt'\n",
    "dic = {}\n",
    "with open(file_, 'r') as f:\n",
    "    #target, query, C-Evalue\n",
    "    for line in f:\n",
    "        line = line.strip()\n",
    "        it = line.split(' ')\n",
    "        target = it[0]\n",
    "        query = it[1]\n",
    "        value = float(it[2])\n",
    "        \n",
    "        if( target not in dic ):\n",
    "            dic[target] = []\n",
    "        dic[target].append( (query,value) )\n",
    "    \n",
    "    \n",
    "sequence_match95 = []\n",
    "for k in dic: #pour chaque séquence\n",
    "    #print(len(dic[k]))\n",
    "    best_hit = max( dic[k], key= lambda x: x[1] )   #modèle avec le meilleur score pour la séquence\n",
    "    sequence_match95.append( [k,best_hit[0],best_hit[1]] )\n",
    "    \n",
    "    \n",
    "#format : target, query, C-Evalue\n",
    "#ranking by value\n",
    "#lowest to highest\n",
    "sequence_match95 = sorted( sequence_match95, key= lambda x: x[2] )\n",
    "\n",
    "\n",
    "real_positives = 0\n",
    "treshs95 = [] #all possible tresholds, from lowest to highest\n",
    "for s in sequence_match95:\n",
    "    if(s[0] == s[1]):\n",
    "        real_positives += 1\n",
    "    treshs95.append(s[2])\n",
    "        \n",
    "print(real_positives, len(sequence_match95))\n",
    "        \n",
    "#highest to lowest\n",
    "sequence_match95 = sequence_match95[::-1]"
   ]
  },
  {
   "cell_type": "markdown",
   "metadata": {},
   "source": [
    "\n",
    "4\\. Compute the performance. If a test sequence is better scored by the model associated to its family it is a true positive (TP). If it is scored by a different model it is a false positive (FP). If it is not scored by any model it is a false negative (FN). With this values compute $\\text{Precision}=\\frac{TP}{TP+FP}$, $\\text{Recall} = \\frac{TP}{TP+FN}$, and $\\text{F-score} = \\frac{ 2 \\cdot \\text{Precision} \\cdot \\text{Recall} }{ \\text{Precision} + \\text{Recall} }$."
   ]
  },
  {
   "cell_type": "code",
   "execution_count": 12,
   "metadata": {},
   "outputs": [
    {
     "data": {
      "text/plain": [
       "(0.4217948717948718, 1.0, 0.5933273219116321)"
      ]
     },
     "execution_count": 12,
     "metadata": {},
     "output_type": "execute_result"
    }
   ],
   "source": [
    "#/!\\ toutes les séquences ont un score. Pas de FN ? \n",
    "\n",
    "def test(sequence_match):\n",
    "    TP = 0\n",
    "    FP = 0\n",
    "    FN = 0\n",
    "    for s in sequence_match:\n",
    "        target = s[0]\n",
    "        query = s[1]\n",
    "        value = s[2]\n",
    "        \n",
    "        if(target == query):\n",
    "            TP += 1\n",
    "        elif(target != query):\n",
    "            FP += 1\n",
    "        else :\n",
    "            FN += 1\n",
    "            \n",
    "    return TP,FP,FN\n",
    "            \n",
    "\n",
    "precision = lambda tp,fp : tp/(tp+fp)\n",
    "recall = lambda tp,fn : tp/(tp+fn)\n",
    "fscore = lambda p,r :(2*p*r)/(p+r)\n",
    "true_pos_rate = lambda tp,fn : tp/(tp+fn)\n",
    "false_pos_rate = lambda fp, tn: fp/(fp+tn)\n",
    "\n",
    "\n",
    "TP,FP,FN = test(sequence_match95)\n",
    "P = precision(TP,FP)\n",
    "R = recall(TP,FN)\n",
    "F = fscore(P,R)\n",
    "\n",
    "P,R,F"
   ]
  },
  {
   "cell_type": "markdown",
   "metadata": {},
   "source": [
    "5\\.Roc curve https://en.wikipedia.org/wiki/Receiver_operating_characteristic. We can plot curves to observe the performance of a tool under different conditions. For that, we range the score (E-value) and we compute true positive rate (Y axis) and false positive rate (X-axis) measures for each value. Write a python script to construct the Roc curve based on the results obtained before."
   ]
  },
  {
   "cell_type": "code",
   "execution_count": 13,
   "metadata": {},
   "outputs": [
    {
     "data": {
      "image/png": "[encoded data removed]",
      "text/plain": [
       "<Figure size 432x288 with 1 Axes>"
      ]
     },
     "metadata": {
      "needs_background": "light"
     },
     "output_type": "display_data"
    }
   ],
   "source": [
    "import matplotlib.pyplot as plt \n",
    "\n",
    "def run_test(sequence_match, treshs):\n",
    "    TPR = []\n",
    "    FPR = []\n",
    "    PRC = []\n",
    "    REC = []\n",
    "    for t in treshs:\n",
    "        tp = 0\n",
    "        fp = 0\n",
    "        fn = 0\n",
    "        tn = 0\n",
    "        for s in sequence_match:\n",
    "            target = s[0]\n",
    "            query = s[1]\n",
    "            value = s[2]\n",
    "            \n",
    "            if(value <= t):\n",
    "                predict = True\n",
    "            else:\n",
    "                predict = False\n",
    "            if(target == query and predict):\n",
    "                tp += 1 \n",
    "            elif(target != query and predict):\n",
    "                fp += 1\n",
    "            elif(target == query and not predict):\n",
    "                fn += 1\n",
    "            else:\n",
    "                tn += 1\n",
    "                \n",
    "        #print(tp,fp,tn,fn)\n",
    "        \n",
    "        TPR.append( true_pos_rate(tp,fn) )\n",
    "        FPR.append( false_pos_rate(fp,tn) )\n",
    "        PRC.append( precision(tp,fp) )\n",
    "        REC.append( recall(tp,fn) )\n",
    "        \n",
    "    return TPR, FPR, PRC, REC\n",
    "    \n",
    "TPR, FPR, PRC, REC = run_test(sequence_match95, treshs95)   \n",
    "\n",
    "plt.figure()\n",
    "plt.plot([0, 1], [0, 1], linestyle='--')\n",
    "plt.plot( FPR, TPR, marker='.')\n",
    "plt.show()\n",
    "\n"
   ]
  },
  {
   "cell_type": "markdown",
   "metadata": {},
   "source": [
    "6\\. Write a python script to plot the Precision/recall curve. We can use the same strategy of Roc curve to compute the precision  (Y axis)  and recall  (X axis)  curves."
   ]
  },
  {
   "cell_type": "code",
   "execution_count": 174,
   "metadata": {},
   "outputs": [
    {
     "data": {
      "image/png": "[encoded data removed]",
      "text/plain": [
       "<Figure size 432x288 with 1 Axes>"
      ]
     },
     "metadata": {
      "needs_background": "light"
     },
     "output_type": "display_data"
    }
   ],
   "source": [
    "plt.figure()\n",
    "plt.plot([0, 1], [0, 1], linestyle='--')\n",
    "plt.plot( REC, PRC, marker='.')\n",
    "plt.show()"
   ]
  },
  {
   "cell_type": "markdown",
   "metadata": {},
   "source": [
    "7\\. Repeat steps 1 to 6 also for the scop-30 dataset and compare the curves obtained for the two SCOP datasets, what is your conclusion? Include the curves in your answer."
   ]
  },
  {
   "cell_type": "code",
   "execution_count": 176,
   "metadata": {},
   "outputs": [
    {
     "name": "stdout",
     "output_type": "stream",
     "text": [
      "success !\n",
      "success !\n"
     ]
    }
   ],
   "source": [
    "tme_path = os.getcwd() \n",
    "scop30 = tme_path + '/scop/scop30/' \n",
    "aln_scop30 = scop30 + 'aln/'\n",
    "model_dir = scop30 + 'models/'\n",
    "filename_ = 'scop/scopTestSeq.fasta'\n",
    "search_dir = scop30 + 'searchResults/'\n",
    "\n",
    "\n",
    "if(not dir_exists(model_dir)):\n",
    "    create_dir(model_dir)\n",
    "\n",
    "if(not dir_exists(search_dir)):\n",
    "    create_dir(search_dir)\n",
    "    \n",
    "#time consuming\n",
    "do_the_thing(aln_scop30, model_dir)\n",
    "the_other_thing(filename_, model_dir, search_dir)\n",
    "\n",
    "\n",
    "\n",
    "####################\n",
    "# enter commands into terminal\n",
    "''' in directory: scope/scope30/searchResults/\n",
    "cat *.out > allRes.txt\n",
    "sed '/^#/d' allRes.txt > allRes.txt.ftt    \n",
    "cat allRes.txt.ftt | awk '{print $1\" \"$4\" \"$12}' > allRes.txt.ftt.2\n",
    "sed -i -e 's/\\.aln//g' allRes.txt.ftt.2\n",
    "mv allRes.txt.ftt.2 allRes.txt.ftt\n",
    "'''\n",
    "####################"
   ]
  },
  {
   "cell_type": "code",
   "execution_count": 14,
   "metadata": {},
   "outputs": [
    {
     "name": "stdout",
     "output_type": "stream",
     "text": [
      "308 787\n"
     ]
    },
    {
     "data": {
      "text/plain": [
       "(0.39135959339263027, 1.0, 0.5625570776255708)"
      ]
     },
     "execution_count": 14,
     "metadata": {},
     "output_type": "execute_result"
    }
   ],
   "source": [
    "file_ = 'scop/scop30/searchResults/allRes.txt.ftt'\n",
    "dic = {}\n",
    "with open(file_, 'r') as f:\n",
    "    #target, query, C-Evalue\n",
    "    for line in f:\n",
    "        line = line.strip()\n",
    "        it = line.split(' ')\n",
    "        target = it[0]\n",
    "        query = it[1]\n",
    "        value = float(it[2])\n",
    "        \n",
    "        if( target not in dic ):\n",
    "            dic[target] = []\n",
    "        dic[target].append( (query,value) )\n",
    "    \n",
    "    \n",
    "sequence_match30 = []\n",
    "for k in dic: #pour chaque séquence\n",
    "    #print(len(dic[k]))\n",
    "    best_hit = max( dic[k], key= lambda x: x[1] )   #modèle avec le meilleur score pour la séquence\n",
    "    sequence_match30.append( [k,best_hit[0],best_hit[1]] )\n",
    "    \n",
    "    \n",
    "#format : target, query, C-Evalue\n",
    "#ranking by value\n",
    "#lowest to highest\n",
    "sequence_match30 = sorted( sequence_match30, key= lambda x: x[2] )\n",
    "\n",
    "\n",
    "real_positives = 0\n",
    "treshs30 = [] #all possible tresholds, from lowest to highest\n",
    "for s in sequence_match30:\n",
    "    if(s[0] == s[1]):\n",
    "        real_positives += 1\n",
    "    treshs30.append(s[2])\n",
    "\n",
    "print(real_positives, len(sequence_match30))\n",
    "        \n",
    "#highest to lowest\n",
    "sequence_match30 = sequence_match30[::-1]\n",
    "\n",
    "\n",
    "TP,FP,FN = test(sequence_match30)\n",
    "P = precision(TP,FP)\n",
    "R = recall(TP,FN)\n",
    "F = fscore(P,R)\n",
    "\n",
    "P,R,F"
   ]
  },
  {
   "cell_type": "code",
   "execution_count": 9,
   "metadata": {},
   "outputs": [
    {
     "data": {
      "image/png": "[encoded data removed]",
      "text/plain": [
       "<Figure size 432x288 with 1 Axes>"
      ]
     },
     "metadata": {
      "needs_background": "light"
     },
     "output_type": "display_data"
    },
    {
     "data": {
      "image/png": "[encoded data removed]",
      "text/plain": [
       "<Figure size 432x288 with 1 Axes>"
      ]
     },
     "metadata": {
      "needs_background": "light"
     },
     "output_type": "display_data"
    }
   ],
   "source": [
    "TPR, FPR, PRC, REC = run_test(sequence_match30, treshs30)   \n",
    "\n",
    "plt.figure()\n",
    "plt.plot([0, 1], [0, 1], linestyle='--')\n",
    "plt.plot( FPR, TPR, marker='.')\n",
    "plt.show()\n",
    "\n",
    "\n",
    "plt.figure()\n",
    "plt.plot([0, 1], [0, 1], linestyle='--')\n",
    "plt.plot( REC, PRC, marker='.')\n",
    "plt.show()"
   ]
  },
  {
   "cell_type": "code",
   "execution_count": 21,
   "metadata": {},
   "outputs": [
    {
     "data": {
      "image/png": "[encoded data removed]",
      "text/plain": [
       "<Figure size 432x288 with 1 Axes>"
      ]
     },
     "metadata": {
      "needs_background": "light"
     },
     "output_type": "display_data"
    },
    {
     "data": {
      "image/png": "[encoded data removed]",
      "text/plain": [
       "<Figure size 432x288 with 1 Axes>"
      ]
     },
     "metadata": {
      "needs_background": "light"
     },
     "output_type": "display_data"
    }
   ],
   "source": [
    "#sur le même graph\n",
    "\n",
    "TPR95, FPR95, PRC95, REC95 = run_test(sequence_match95, treshs95)   \n",
    "TPR30, FPR30, PRC30, REC30 = run_test(sequence_match30, treshs30)  \n",
    "\n",
    "plt.figure()\n",
    "plt.plot([0, 1], [0, 1], linestyle='--')\n",
    "plt.plot( FPR95, TPR95, marker='.')\n",
    "plt.plot( FPR30, TPR30, marker='.')\n",
    "plt.show()\n",
    "\n",
    "\n",
    "plt.figure()\n",
    "plt.plot([0, 1], [0, 1], linestyle='--')\n",
    "plt.plot( REC95, PRC95, marker='.')\n",
    "plt.plot( REC30, PRC30, marker='.')\n",
    "plt.show()"
   ]
  },
  {
   "cell_type": "code",
   "execution_count": 22,
   "metadata": {},
   "outputs": [
    {
     "name": "stdout",
     "output_type": "stream",
     "text": [
      "\n"
     ]
    }
   ],
   "source": [
    "'''\n",
    "\n",
    "On obtient une courbe ROC relativement bonne avec le jeu de donné à 95% d'identité (en orange)\n",
    "On remarque que la courbe roc pour le jeu de donnée à 30% d'identité (en vert) est plus mauvais que la précédente\n",
    "et même plus mauvaise que l'aléatoire estimé par la droite en pointillé bleu. \n",
    "La seconde courbe n'est donc pas exploitable. \n",
    "\n",
    "On en déduit que le taux d'identité du jeu de donnée étudié doit être très élevé pour aboutir à un résultat utile.\n",
    "\n",
    "'''"
   ]
  },
  {
   "cell_type": "code",
   "execution_count": null,
   "metadata": {},
   "outputs": [],
   "source": []
  }
 ],
 "metadata": {
  "kernelspec": {
   "display_name": "Python 3",
   "language": "python",
   "name": "python3"
  },
  "language_info": {
   "codemirror_mode": {
    "name": "ipython",
    "version": 3
   },
   "file_extension": ".py",
   "mimetype": "text/x-python",
   "name": "python",
   "nbconvert_exporter": "python",
   "pygments_lexer": "ipython3",
   "version": "3.6.7"
  }
 },
 "nbformat": 4,
 "nbformat_minor": 2
}
