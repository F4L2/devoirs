{
 "cells": [
  {
   "cell_type": "markdown",
   "metadata": {},
   "source": [
    "<h1><b>Statistique en Bioinformatique : </b> TME3 </h1>\n",
    "<br>\n",
    "L’objectif de ce TME est: \n",
    "<br>\n",
    "<ul>\n",
    "<li> objectif 1: comprendre les principaux etaphes de BLAST et PSIBLAST, </li>\n",
    "<li> objectif 2: comprendre et comparer les algoritime de l'alignement progressive </li>\n",
    "</ul>\n",
    "<br>\n",
    "<div class=\"alert alert-warning\" role=\"alert\" style=\"margin: 10px\">\n",
    "<p>**Soumission**</p>\n",
    "<ul>\n",
    "<li>Renomer le fichier TME3.ipynb pour NomEtudiant1_NomEtudiant2.ipynb </li>\n",
    "<li>Envoyer par email à nikaabdollahi@gmail.com, l’objet du email sera [SBAS-2019] TME3</li>\n",
    "</ul>\n",
    "</div>\n"
   ]
  },
  {
   "cell_type": "markdown",
   "metadata": {},
   "source": [
    "Nom etudiant 1 : Alex YE\n",
    "<br>\n",
    "Nom etudiant 2 :\n",
    "<br>"
   ]
  },
  {
   "cell_type": "markdown",
   "metadata": {},
   "source": [
    "<h3>Section 1: BLAST</h3>\n",
    "\n",
    "<b> Exercice 1 </b>: À partir de l'application BLAST, disponible via le site de <a href=\"http://blast.ncbi.nlm.nih.gov/\">NCBI</a>, cliquez sur protein Blast. Faites un BLAST de la séquence fasta/seq1.fasta. Expliquez le résultat graphique, la couleur de chaque hit et expliquez le tableau de résultat qu'est-ce que c'est chaque colonne?\n",
    "<br>\n"
   ]
  },
  {
   "cell_type": "markdown",
   "metadata": {},
   "source": [
    "<font color='blue'> Réponse : </font> La couleur des hits correspond au nombre de protéine similaire dans la sequence par rapport à la sequence query. \n",
    "description : annotation de la séquence\n",
    "max score: le score obtenu à l'extension maximal \n",
    "total score: le score maximal possible\n",
    "query cover : pourcentage d'identité avec la sequence query\n",
    "E-value : nombre de fois que cette séquence peut être observée dans une base de donnée aléatoire de même taille\n",
    "ident : pourcentage d'identité de la séquence dans la base de donnée "
   ]
  },
  {
   "cell_type": "markdown",
   "metadata": {},
   "source": [
    "<b>Exercice 2</b>: On s'intéresse à présent au gène FHIT chez l'homme (fragile histidine triad protein, identifiant P49789, télécharger du site  <a href=\"http://www.uniprot.org/\"> Uniprot </a>). La protéine de ce gène est structurellement proche des galactose-1-phosphate uridylyltransferases. Faites un BLAST de ce gène contre la base SWISSPROT. Que constatez-vous?"
   ]
  },
  {
   "cell_type": "markdown",
   "metadata": {},
   "source": [
    "<font color='blue'> Réponse :</font> Toutes les séquences ont un bon alignement entre le milieu et la gauche, Les mutations semblent être localisées dans la partie droite des séquences, entre les positions 100 et 140. "
   ]
  },
  {
   "cell_type": "markdown",
   "metadata": {},
   "source": [
    "<b>Exercice 3</b>: Implémenter l'étape 0 du algorithme BLAST (indexer la base de données), utilise w=5 et les séquences du fichier database.fasta. Pour tester votre algorithme utilisez d'abord les fichiers databaseToy.fasta"
   ]
  },
  {
   "cell_type": "code",
   "execution_count": 1,
   "metadata": {},
   "outputs": [],
   "source": [
    "import numpy as np\n",
    "\n",
    "#variable initiation\n",
    "database = 'fasta/database.fasta'\n",
    "seqTestBlast = 'fasta/test.fasta'\n",
    "input_blosum_f = 'BLOSUM62.txt'\n",
    "aa = ['A', 'R', 'N', 'D', 'C', 'Q', 'E', 'G', 'H', 'I', 'L', 'K', 'M', 'F', 'P', 'S', 'T', 'W', 'Y', 'V', 'X']\n",
    "\n",
    "#parameters\n",
    "q = 21\n",
    "gap = -5\n",
    "w = 5\n",
    "\n",
    "\n",
    "#For a simple test use:\n",
    "database = 'fastaToy/databaseToy.fasta'\n",
    "seqTestBlast = 'fastaToy/testToy.fasta'\n",
    "w=3\n",
    "\n",
    "\n"
   ]
  },
  {
   "cell_type": "code",
   "execution_count": 4,
   "metadata": {},
   "outputs": [
    {
     "name": "stdout",
     "output_type": "stream",
     "text": [
      "[[['a', 'g', 'h']], [['c', 'g', 'g'], ['g', 'g', 'h']], [['c', 'g', 'g'], ['g', 'g', 'h']]]\n"
     ]
    }
   ],
   "source": [
    "from Bio import SeqIO\n",
    "\n",
    "def read_fasta(nameFile):\n",
    "    seq = []\n",
    "    with open(nameFile, 'r') as handle:\n",
    "        for record in SeqIO.parse(handle, 'fasta'):\n",
    "            seq.append(str(record.seq))\n",
    "    return seq\n",
    "\n",
    "#Indexation de la banque\n",
    "def etape0(nameFile, w):\n",
    "    seq = read_fasta(nameFile)\n",
    "    index = []\n",
    "    for s in seq:\n",
    "        words = []\n",
    "        for i in range(len(s)-w):\n",
    "            word = [c for c in s[i:i+w]]\n",
    "            words.append(word)\n",
    "        index.append(words)\n",
    "    return index\n"
   ]
  },
  {
   "cell_type": "markdown",
   "metadata": {},
   "source": [
    "<b>Exercice 4</b>: Chercher la séquence query test.fasta (ou testToy.fasta) dans la base indexé construite precedement, entendez l'alignement pour avoir un alignement sans gap et de score > 12. Retournez les quatre mieux alignements."
   ]
  },
  {
   "cell_type": "code",
   "execution_count": 28,
   "metadata": {},
   "outputs": [],
   "source": [
    "#read Blosum\n",
    "# lire le fichier avec la matrice BLOSUM\n",
    "def readBlosum (input_f):\n",
    "    with open(input_f, 'r') as handle:\n",
    "        it = 0\n",
    "        for line in handle:\n",
    "            if(line[0] == '#'):\n",
    "                continue\n",
    "            elif(line[0] == ' '):\n",
    "                indices = line.strip().split(' ')\n",
    "                indices = list ( filter(None,indices) )\n",
    "                mat = np.zeros( (len(indices), len(indices)) )\n",
    "                it = 0\n",
    "                continue\n",
    "            else:\n",
    "                line = line[1:].strip()\n",
    "                separ = list ( filter(None,line.split(' ')) ) \n",
    "                separ = np.array(separ)\n",
    "                mat[it] = separ\n",
    "                it+=1\n",
    "    return mat, indices\n",
    "\n",
    "blosum, indices = readBlosum(input_blosum_f)\n",
    "gap_penalty = -4 "
   ]
  },
  {
   "cell_type": "code",
   "execution_count": 29,
   "metadata": {},
   "outputs": [],
   "source": [
    "#calcule score\n",
    "def get_score(seq1, seq2):\n",
    "    score = 0\n",
    "    for s1, s2 in zip(seq1,seq2):\n",
    "        try:\n",
    "            id1 = indices.index(s1)\n",
    "            id2 = indices.index(s2)\n",
    "            score += blosum[id1][id2]\n",
    "        except IndexError:\n",
    "            score += gap_penalty\n",
    "        except ValueError:\n",
    "            score += gap_penalty\n",
    "\n",
    "    return score"
   ]
  },
  {
   "cell_type": "code",
   "execution_count": 31,
   "metadata": {},
   "outputs": [],
   "source": [
    "#extend alignment\n",
    "def extend_align(query, sequence, startQ, startS, endQ, endS, tresh):\n",
    "    score = get_score(query[startQ:endQ], sequence[startS:endS])\n",
    "    gauche = True\n",
    "    while(score >= tresh):\n",
    "        if(gauche):\n",
    "            gauche = False\n",
    "            if(startQ-1 < 0):\n",
    "                return query[startQ:endQ], sequence[startS:endS]\n",
    "            startQ -= 1 \n",
    "            startS -= 1\n",
    "        else:\n",
    "            gauche = True            \n",
    "            if( endQ+1 == len(query)):\n",
    "                return query[startQ:endQ], sequence[startS:endS]\n",
    "            endQ += 1\n",
    "            endS += 1 \n",
    "            \n",
    "        score = get_score(query[startQ:endQ], sequence[startS:endS])\n",
    "    return query[startQ:endQ], sequence[startS:endS]\n",
    "\n",
    "#not tested"
   ]
  },
  {
   "cell_type": "code",
   "execution_count": null,
   "metadata": {},
   "outputs": [],
   "source": [
    "#Blast\n"
   ]
  },
  {
   "cell_type": "markdown",
   "metadata": {},
   "source": [
    "<h3>Section 2: PSI-BLAST</h3>\n",
    "On considère à nouveau le gène FHIT chez l'homme. \n",
    "<BR>\n",
    "<b> Exercice 1 </b>:\n",
    "Faites un PSI-BLAST de ce gène contre la base SWISS-PROT. Utilisez un seuil pour l’évalue de 1e-6.\n",
    "Que constatez-vous lors de la 1ère itération concernant les protéines de la famille des galactose-1-phosphate uridylyltransferases?\n"
   ]
  },
  {
   "cell_type": "markdown",
   "metadata": {},
   "source": [
    "<font color='blue'> Réponse : \n",
    "\n",
    "\n",
    "</font>\n"
   ]
  },
  {
   "cell_type": "markdown",
   "metadata": {},
   "source": [
    "<b> Exercice 2 </b>:\n",
    "Que constatez-vous lors de la 2eme itération? Lors de la 5eme itération?\n"
   ]
  },
  {
   "cell_type": "markdown",
   "metadata": {},
   "source": [
    "<font color='blue'> Réponse : \n",
    "\n",
    "\n",
    "</font>\n"
   ]
  },
  {
   "cell_type": "markdown",
   "metadata": {},
   "source": [
    "<b> Exercice 3 </b>:\n",
    "À partir de quelle itération peut-on considérer qu'il y a eu une convergence de l'algorithme PSI- BLAST? Pour quoi ?"
   ]
  },
  {
   "cell_type": "markdown",
   "metadata": {},
   "source": [
    "<font color='blue'> Réponse : \n",
    "\n",
    "\n",
    "</font>\n"
   ]
  },
  {
   "cell_type": "markdown",
   "metadata": {},
   "source": [
    "<h3>Section 3: Alignement Multiple</h3>\n"
   ]
  },
  {
   "cell_type": "markdown",
   "metadata": {},
   "source": [
    "<b> Exercice 1 </b>:\n",
    "Accédez à l'application <a href=\"http://www.ebi.ac.uk/Tools/msa/clustalo/\">Clustal omega</a> et copiez les 7 séquences du fichier 7sequences.fasta. Expliquez, dans quel ordre les séquences ont été alignées."
   ]
  },
  {
   "cell_type": "markdown",
   "metadata": {},
   "source": [
    "<font color='blue'> Réponse : \n",
    "\n",
    "\n",
    "</font>\n"
   ]
  },
  {
   "cell_type": "markdown",
   "metadata": {},
   "source": [
    "<b> Exercice 2 </b>:\n",
    "Faite une fonction pour calculer le score d’un alignement multiple. Le score de chaque position est la somme des tous les scores obtenu par BLOSUM62, et le score finale est la somme des scores de chaque position divisé par la taille du alignement."
   ]
  },
  {
   "cell_type": "code",
   "execution_count": null,
   "metadata": {},
   "outputs": [],
   "source": [
    "#Read multi fasta\n"
   ]
  },
  {
   "cell_type": "code",
   "execution_count": null,
   "metadata": {},
   "outputs": [],
   "source": [
    "#computing score\n"
   ]
  },
  {
   "cell_type": "markdown",
   "metadata": {},
   "source": [
    "<b> Exercice 3 </b>: Aligner les séquences du fichiers algnMult2.fasta avec  <a href=\"http://www.ebi.ac.uk/Tools/msa/clustalo/\">Clustal omega</a>. Utiliser la fonction développé precedement  pour calculer le score du alignement. Quelle est la séquence la plus divergente? "
   ]
  },
  {
   "cell_type": "markdown",
   "metadata": {},
   "source": [
    "<font color='blue'> Réponse : \n",
    "\n",
    "\n",
    "</font>\n"
   ]
  },
  {
   "cell_type": "markdown",
   "metadata": {},
   "source": [
    "<b> Exercice 4 </b>:\n",
    "Comparer les trois outils  <a href=\"http://www.ebi.ac.uk/Tools/msa/clustalo/\">Clustal omega</a>,  <a href=\"http://mafft.cbrc.jp/alignment/server/\">MAFT</a>  et <a href=\"http://www.ebi.ac.uk/Tools/msa/muscle/\">Muscle</a> en utilisant les séquences du fichiers fasta/algnMult.fasta. Utiliser la fonction développé precedement pour calculer le score de chaque alignement. Puis répéter la comparaison avec les séquences du fichier fasta/algnMult2.fasta. Quel outil a eu la meiuller performance?"
   ]
  },
  {
   "cell_type": "markdown",
   "metadata": {},
   "source": [
    "\n"
   ]
  },
  {
   "cell_type": "markdown",
   "metadata": {},
   "source": [
    "<font color='blue'> Réponse : \n",
    "\n",
    "\n",
    "</font>\n"
   ]
  },
  {
   "cell_type": "code",
   "execution_count": null,
   "metadata": {},
   "outputs": [],
   "source": []
  }
 ],
 "metadata": {
  "kernelspec": {
   "display_name": "Python 3",
   "language": "python",
   "name": "python3"
  },
  "language_info": {
   "codemirror_mode": {
    "name": "ipython",
    "version": 3
   },
   "file_extension": ".py",
   "mimetype": "text/x-python",
   "name": "python",
   "nbconvert_exporter": "python",
   "pygments_lexer": "ipython3",
   "version": "3.6.7"
  }
 },
 "nbformat": 4,
 "nbformat_minor": 1
}
