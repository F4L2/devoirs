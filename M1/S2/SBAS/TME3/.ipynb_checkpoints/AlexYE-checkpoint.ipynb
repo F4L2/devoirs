{
 "cells": [
  {
   "cell_type": "markdown",
   "metadata": {},
   "source": [
    "<h1><b>Statistique en Bioinformatique : </b> TME3 </h1>\n",
    "<br>\n",
    "L’objectif de ce TME est: \n",
    "<br>\n",
    "<ul>\n",
    "<li> objectif 1: comprendre les principaux etaphes de BLAST et PSIBLAST, </li>\n",
    "<li> objectif 2: comprendre et comparer les algoritime de l'alignement progressive </li>\n",
    "</ul>\n",
    "<br>\n",
    "<div class=\"alert alert-warning\" role=\"alert\" style=\"margin: 10px\">\n",
    "<p>**Soumission**</p>\n",
    "<ul>\n",
    "<li>Renomer le fichier TME3.ipynb pour NomEtudiant1_NomEtudiant2.ipynb </li>\n",
    "<li>Envoyer par email à nikaabdollahi@gmail.com, l’objet du email sera [SBAS-2019] TME3</li>\n",
    "</ul>\n",
    "</div>\n"
   ]
  },
  {
   "cell_type": "markdown",
   "metadata": {},
   "source": [
    "Nom etudiant 1 : Alex YE\n",
    "<br>\n",
    "Nom etudiant 2 :\n",
    "<br>"
   ]
  },
  {
   "cell_type": "markdown",
   "metadata": {},
   "source": [
    "<h3>Section 1: BLAST</h3>\n",
    "\n",
    "<b> Exercice 1 </b>: À partir de l'application BLAST, disponible via le site de <a href=\"http://blast.ncbi.nlm.nih.gov/\">NCBI</a>, cliquez sur protein Blast. Faites un BLAST de la séquence fasta/seq1.fasta. Expliquez le résultat graphique, la couleur de chaque hit et expliquez le tableau de résultat qu'est-ce que c'est chaque colonne?\n",
    "<br>\n"
   ]
  },
  {
   "cell_type": "markdown",
   "metadata": {},
   "source": [
    "<font color='blue'> Réponse : </font> La couleur des hits correspond au nombre de protéine similaire dans la sequence par rapport à la sequence query. \n",
    "description : annotation de la séquence\n",
    "max score: le score obtenu à l'extension maximal \n",
    "total score: le score maximal possible\n",
    "query cover : pourcentage d'identité avec la sequence query\n",
    "E-value : nombre de fois que cette séquence peut être observée dans une base de donnée aléatoire de même taille\n",
    "ident : pourcentage d'identité de la séquence dans la base de donnée "
   ]
  },
  {
   "cell_type": "markdown",
   "metadata": {},
   "source": [
    "<b>Exercice 2</b>: On s'intéresse à présent au gène FHIT chez l'homme (fragile histidine triad protein, identifiant P49789, télécharger du site  <a href=\"http://www.uniprot.org/\"> Uniprot </a>). La protéine de ce gène est structurellement proche des galactose-1-phosphate uridylyltransferases. Faites un BLAST de ce gène contre la base SWISSPROT. Que constatez-vous?"
   ]
  },
  {
   "cell_type": "markdown",
   "metadata": {},
   "source": [
    "<font color='blue'> Réponse :</font> Toutes les séquences ont un bon alignement entre le milieu et la gauche, Les mutations semblent être localisées dans la partie droite des séquences, entre les positions 100 et 140. "
   ]
  },
  {
   "cell_type": "markdown",
   "metadata": {},
   "source": [
    "<b>Exercice 3</b>: Implémenter l'étape 0 du algorithme BLAST (indexer la base de données), utilise w=5 et les séquences du fichier database.fasta. Pour tester votre algorithme utilisez d'abord les fichiers databaseToy.fasta"
   ]
  },
  {
   "cell_type": "code",
   "execution_count": 2,
   "metadata": {},
   "outputs": [],
   "source": [
    "import numpy as np\n",
    "\n",
    "#variable initiation\n",
    "database = 'fasta/database.fasta'\n",
    "seqTestBlast = 'fasta/test.fasta'\n",
    "input_blosum_f = 'BLOSUM62.txt'\n",
    "aa = ['A', 'R', 'N', 'D', 'C', 'Q', 'E', 'G', 'H', 'I', 'L', 'K', 'M', 'F', 'P', 'S', 'T', 'W', 'Y', 'V', 'X']\n",
    "\n",
    "#parameters\n",
    "q = 21\n",
    "gap = -5\n",
    "w = 5\n",
    "\n",
    "\n",
    "#For a simple test use:\n",
    "#database = 'fastaToy/databaseToy.fasta'\n",
    "#seqTestBlast = 'fastaToy/testToy.fasta'\n",
    "#w=3\n",
    "\n",
    "\n"
   ]
  },
  {
   "cell_type": "code",
   "execution_count": 3,
   "metadata": {},
   "outputs": [],
   "source": [
    "from Bio import SeqIO\n",
    "\n",
    "#Indexation de la banque\n",
    "def etape0(nameFile, w):\n",
    "    index = {}\n",
    "    db = {}\n",
    "    with open(nameFile, 'r') as handle:\n",
    "        for record in SeqIO.parse(handle, 'fasta'):\n",
    "            s=str(record.seq)\n",
    "            seq_id=str(record.id)\n",
    "            db[seq_id] = s\n",
    "            for i in range(len(s)-w):\n",
    "                word = \"\".join([c for c in s[i:i+w]])\n",
    "                if( word not in index):\n",
    "                    index[word] = { \"word\": word, \"ref\": []}\n",
    "                word_id = seq_id+\":\"+str(i)\n",
    "                index[word][\"ref\"].append(word_id)\n",
    "    return index, db\n"
   ]
  },
  {
   "cell_type": "markdown",
   "metadata": {},
   "source": [
    "<b>Exercice 4</b>: Chercher la séquence query test.fasta (ou testToy.fasta) dans la base indexé construite precedement, entendez l'alignement pour avoir un alignement sans gap et de score > 12. Retournez les quatre mieux alignements."
   ]
  },
  {
   "cell_type": "code",
   "execution_count": 4,
   "metadata": {},
   "outputs": [],
   "source": [
    "#read Blosum\n",
    "# lire le fichier avec la matrice BLOSUM\n",
    "def readBlosum (input_f):\n",
    "    with open(input_f, 'r') as handle:\n",
    "        it = 0\n",
    "        for line in handle:\n",
    "            if(line[0] == '#'):\n",
    "                continue\n",
    "            elif(line[0] == ' '):\n",
    "                indices = line.strip().split(' ')\n",
    "                indices = list ( filter(None,indices) )\n",
    "                mat = np.zeros( (len(indices), len(indices)) )\n",
    "                it = 0\n",
    "                continue\n",
    "            else:\n",
    "                line = line[1:].strip()\n",
    "                separ = list ( filter(None,line.split(' ')) ) \n",
    "                separ = np.array(separ)\n",
    "                mat[it] = separ\n",
    "                it+=1\n",
    "    return mat, indices\n",
    "\n",
    "blosum, indices = readBlosum(input_blosum_f)"
   ]
  },
  {
   "cell_type": "code",
   "execution_count": 5,
   "metadata": {},
   "outputs": [],
   "source": [
    "#calcule score\n",
    "def get_score(seq1, seq2):\n",
    "    score = 0\n",
    "    for s1, s2 in zip(seq1,seq2):\n",
    "        try:\n",
    "            id1 = indices.index(s1)\n",
    "            id2 = indices.index(s2)\n",
    "            score += blosum[id1][id2]\n",
    "        except IndexError:\n",
    "            score += gap\n",
    "        \n",
    "    return score"
   ]
  },
  {
   "cell_type": "code",
   "execution_count": 6,
   "metadata": {},
   "outputs": [],
   "source": [
    "#extend alignment\n",
    "def extend_align(query, sequence, startQ, endQ, startS, endS, T):\n",
    "    score = get_score(query[startQ:endQ], sequence[startS:endS])\n",
    "    gauche = True\n",
    "    while(score > T):\n",
    "        if(gauche):\n",
    "            gauche = False\n",
    "            if(startQ-1 < 0 or startS-1 <0): #on ne veut pas de gap\n",
    "                return (query[startQ:endQ], startQ, endQ), (sequence[startS:endS], startQ, endQ), score\n",
    "            startQ -= 1 \n",
    "            startS -= 1\n",
    "            q_prot = indices.index(query[startQ])\n",
    "            s_prot = indices.index(sequence[startS])\n",
    "            score+= blosum[q_prot][s_prot]\n",
    "        else:\n",
    "            gauche = True            \n",
    "            if( endQ+1 == len(query) or endS+1 == len(sequence)): #on ne veut pas de gap\n",
    "                return (query[startQ:endQ], startQ, endQ), (sequence[startS:endS], startQ, endQ), score\n",
    "            endQ += 1\n",
    "            endS += 1 \n",
    "            q_prot = indices.index(query[startQ])\n",
    "            s_prot = indices.index(sequence[startS])\n",
    "            score+= blosum[q_prot][s_prot]\n",
    "            \n",
    "        #score = get_score(query[startQ:endQ], sequence[startS:endS])\n",
    "    return (query[startQ:endQ], startQ, endQ), (sequence[startS:endS], startQ, endQ), score\n"
   ]
  },
  {
   "cell_type": "code",
   "execution_count": 32,
   "metadata": {},
   "outputs": [
    {
     "name": "stdout",
     "output_type": "stream",
     "text": [
      "[(121.0, 'ALYDCEAENSDELTFNRGEIIQLIDRPDNDWWEGFIQSDSRRG', 'TLFAYEGTNEDELTFKEGEIIQLISKETGGWWKGELNGKEGVF'), (116.0, 'ALYDCEAENSDELTFNRGEIIQLID', 'AIYDCEADNQDELTFVENEIIVVTG'), (112.0, 'LYDCEAENSDELTFNRGEIIQLIDRPDNDWWEGFIQSDS', 'IYPFVAENDSELTFKEGEIIQLRERAGSQWLIGELGGKT'), (112.0, 'ALYDCEAENSDELTFNRGEIIQLIDRPDNDWWEGFIQSDSR', 'TLFAYEGTNEDELTFKEGEIIQLISKETGGWWKGELNGKEG')]\n"
     ]
    }
   ],
   "source": [
    "#Blast\n",
    "\n",
    "T = 12\n",
    "\n",
    "#étape 0\n",
    "index, subjects = etape0(database, w)\n",
    "qwords, query = etape0(seqTestBlast, w)\n",
    "\n",
    "#étape 1, a\n",
    "# mots de query (inter) mots de index, match à 100%, pas de seuil à priori \n",
    "# un peu redondant dans ce cas d'utilisation\n",
    "match = [q for q in qwords.keys() for i in index.keys() if q == i]\n",
    "\n",
    "#étape 1, b\n",
    "from operator import itemgetter\n",
    "\n",
    "results = []\n",
    "for word in match:\n",
    "    #only one query sequence\n",
    "    q_id = qwords[word][\"ref\"][0].split(':')[0]\n",
    "    startQ = int(qwords[word][\"ref\"][0].split(':')[1])#ou query[s_id].find(word)\n",
    "    endQ = startQ + w\n",
    "    \n",
    "\n",
    "    #aligner et étendre \n",
    "    for ref in index[word][\"ref\"]:\n",
    "        s_id = ref.split(':')[0]\n",
    "        startS = int(ref.split(':')[1])\n",
    "        endS = startS + w\n",
    "        q_extend, s_extend, score =  extend_align(query[q_id],subjects[s_id], startQ, endQ, startS, endS, T)\n",
    "        \n",
    "        results.append( (score, q_extend[0], s_extend[0]) ) \n",
    "        \n",
    "results.sort(key=itemgetter(0), reverse= True)\n",
    "best_4 = results[:4]\n",
    "print(best_4)\n",
    "\n",
    "'''\n",
    "On ne rassemble pas les blocs dans cet exercice\n",
    "'''\n",
    "\n",
    "#étape 2\n",
    "kb = 0 #database size\n",
    "for r in results:\n",
    "    kb += len(r[2])\n",
    "kb *= len(results)\n",
    "\n",
    "iq = len(query[list(query.keys())[0]]) #length of query sequence\n",
    "\n",
    "E_values = [] #for extended alignment\n",
    "for r in results:\n",
    "    score = r[0]\n",
    "    E_values.append( kb*iq*(2**(-score)) )\n",
    "\n",
    "#print(E_values)\n"
   ]
  },
  {
   "cell_type": "markdown",
   "metadata": {},
   "source": [
    "<h3>Section 2: PSI-BLAST</h3>\n",
    "On considère à nouveau le gène FHIT chez l'homme. \n",
    "<BR>\n",
    "<b> Exercice 1 </b>:\n",
    "Faites un PSI-BLAST de ce gène contre la base SWISS-PROT. Utilisez un seuil pour l’évalue de 1e-6.\n",
    "Que constatez-vous lors de la 1ère itération concernant les protéines de la famille des galactose-1-phosphate uridylyltransferases?\n"
   ]
  },
  {
   "cell_type": "markdown",
   "metadata": {},
   "source": [
    "<font color='blue'> Réponse : </font>\n",
    "Il y a plus de hits, mais moins de hits significatifs. \n"
   ]
  },
  {
   "cell_type": "markdown",
   "metadata": {},
   "source": [
    "<b> Exercice 2 </b>:\n",
    "Que constatez-vous lors de la 2eme itération? Lors de la 5eme itération?\n"
   ]
  },
  {
   "cell_type": "markdown",
   "metadata": {},
   "source": [
    "<font color='blue'> Réponse : \n",
    "\n",
    "\n",
    "</font>\n",
    "à l'itération 2, les hits ont de meilleurs scores, et il y a de nouveaux hits significatifs. \n",
    "\n",
    "On obtient des score encore meilleurs, tout les hits sont violet.\n",
    "On obtient moins de nouveau hits, on atteint la convergence. \n"
   ]
  },
  {
   "cell_type": "markdown",
   "metadata": {},
   "source": [
    "<b> Exercice 3 </b>:\n",
    "À partir de quelle itération peut-on considérer qu'il y a eu une convergence de l'algorithme PSI- BLAST? Pour quoi ?"
   ]
  },
  {
   "cell_type": "markdown",
   "metadata": {},
   "source": [
    "<font color='blue'> Réponse : \n",
    "\n",
    "\n",
    "</font>\n",
    "à l'itération 6, les choses ne bougent plus, aucun nouveau hit par la suite. "
   ]
  },
  {
   "cell_type": "markdown",
   "metadata": {},
   "source": [
    "<h3>Section 3: Alignement Multiple</h3>\n"
   ]
  },
  {
   "cell_type": "markdown",
   "metadata": {},
   "source": [
    "<b> Exercice 1 </b>:\n",
    "Accédez à l'application <a href=\"http://www.ebi.ac.uk/Tools/msa/clustalo/\">Clustal omega</a> et copiez les 7 séquences du fichier 7sequences.fasta. Expliquez, dans quel ordre les séquences ont été alignées."
   ]
  },
  {
   "cell_type": "markdown",
   "metadata": {},
   "source": [
    "<font color='blue'> Réponse : </font>\n",
    "\n",
    "it1 : (sp|P02062|HBB_HORSE 0.08125, sp|P68871|HBB_HUMAN 0.08313)\n",
    "\n",
    "it2 : (sp|P01958|HBA_HORSE 0.06035, sp|P69905|HBA_HUMAN 0.05936)\n",
    "\n",
    "it3 : ( it1, it2 )\n",
    "\n",
    "it4 : ( it3, sp|P02208|GLB5_PETMA 0.35874 )\n",
    "\n",
    "it5 : ( it4, sp|P02185|MYG_PHYMC 0.37675 )\n",
    "\n",
    "it6 : ( it5, sp|P02240|LGB2_LUPLU 0.45433 )"
   ]
  },
  {
   "cell_type": "markdown",
   "metadata": {},
   "source": [
    "<b> Exercice 2 </b>:\n",
    "Faite une fonction pour calculer le score d’un alignement multiple. Le score de chaque position est la somme des tous les scores obtenu par BLOSUM62, et le score finale est la somme des scores de chaque position divisé par la taille du alignement."
   ]
  },
  {
   "cell_type": "code",
   "execution_count": 28,
   "metadata": {},
   "outputs": [],
   "source": [
    "#Read multi fasta\n",
    "\n",
    "#seqMult = 'fasta/MUSCLE_alignMult2.fasta'\n",
    "\n",
    "'''\n",
    "Séquences non-alignées dans le fichier: fasta/algnMult2.fasta\n",
    "Séquences alignées avec la méthode muscle sur: https://www.ebi.ac.uk/Tools/msa/muscle/\n",
    "'''\n",
    "\n",
    "def read_fasta(seqMult):\n",
    "    seqs = {}\n",
    "    with open(seqMult, 'r') as handle:\n",
    "        for record in SeqIO.parse(handle, 'fasta'):\n",
    "            s=str(record.seq)\n",
    "            seq_id=str(record.id)\n",
    "            seqs[seq_id]=s\n",
    "    size = len(seqs[list(seqs.keys())[0]])\n",
    "    return seqs, size\n",
    "\n",
    "\n"
   ]
  },
  {
   "cell_type": "code",
   "execution_count": 30,
   "metadata": {},
   "outputs": [
    {
     "name": "stdout",
     "output_type": "stream",
     "text": [
      "-8.0 20.0 20.0\n",
      "-60.0 -60.0 -60.0\n"
     ]
    }
   ],
   "source": [
    "#computing score\n",
    "\n",
    "def score_align(seqs, size):\n",
    "    for pos in range(size): #à chaque position\n",
    "        score_aln = 0\n",
    "        for s1 in seqs: #on prend une séquence s1 donnée\n",
    "            for s2 in seqs: #on compare s1 à une seconde séquence s2 différente de s1 \n",
    "                if(s1 == s2):\n",
    "                    continue\n",
    "                try:\n",
    "                    c1 = seqs[s1][pos]\n",
    "                    id_c1 = indices.index(c1)\n",
    "                    c2 = seqs[s2][pos]\n",
    "                    id_c2 = indices.index(c2)\n",
    "                    score_aln += blosum[id_c1][id_c2] #on ajoute au score la valeur de blosum62\n",
    "                except ValueError: # =='*'\n",
    "                    score_aln += gap\n",
    "\n",
    "    return score_aln / len(seqs)\n",
    "\n",
    "#print(score_aln)\n",
    "\n",
    "seqMSA, align_length = read_fasta('fasta/CLUSTALW_alignMult.fasta')\n",
    "score_clustal = score_align(seqMSA, align_length)\n",
    "\n",
    "seqMSA, align_length = read_fasta('fasta/MAFFT_alignMult.fasta')\n",
    "score_mafft = score_align(seqMSA, align_length)\n",
    "\n",
    "seqMSA, align_length = read_fasta('fasta/MUSCLE_alignMult.fasta')\n",
    "score_muscle = score_align(seqMSA, align_length)\n",
    "\n",
    "\n",
    "print(score_clustal, score_mafft, score_muscle)\n",
    "\n",
    "\n",
    "\n",
    "seqMSA, align_length = read_fasta('fasta/CLUSTALW_alignMult2.fasta')\n",
    "score_clustal = score_align(seqMSA, align_length)\n",
    "\n",
    "seqMSA, align_length = read_fasta('fasta/MAFFT_alignMult2.fasta')\n",
    "score_mafft = score_align(seqMSA, align_length)\n",
    "\n",
    "seqMSA, align_length = read_fasta('fasta/MUSCLE_alignMult2.fasta')\n",
    "score_muscle = score_align(seqMSA, align_length)\n",
    "\n",
    "\n",
    "print(score_clustal, score_mafft, score_muscle)"
   ]
  },
  {
   "cell_type": "markdown",
   "metadata": {},
   "source": [
    "<b> Exercice 3 </b>: Aligner les séquences du fichiers algnMult2.fasta avec  <a href=\"http://www.ebi.ac.uk/Tools/msa/clustalo/\">Clustal omega</a>. Utiliser la fonction développé precedement  pour calculer le score du alignement. Quelle est la séquence la plus divergente? "
   ]
  },
  {
   "cell_type": "markdown",
   "metadata": {},
   "source": [
    "<font color='blue'> Réponse : \n",
    "\n",
    "\n",
    "</font>\n",
    "la séquence: dmel|FBpp0076353"
   ]
  },
  {
   "cell_type": "markdown",
   "metadata": {},
   "source": [
    "<b> Exercice 4 </b>:\n",
    "Comparer les trois outils  <a href=\"http://www.ebi.ac.uk/Tools/msa/clustalo/\">Clustal omega</a>,  <a href=\"http://mafft.cbrc.jp/alignment/server/\">MAFT</a>  et <a href=\"http://www.ebi.ac.uk/Tools/msa/muscle/\">Muscle</a> en utilisant les séquences du fichiers fasta/algnMult.fasta. Utiliser la fonction développé precedement pour calculer le score de chaque alignement. Puis répéter la comparaison avec les séquences du fichier fasta/algnMult2.fasta. Quel outil a eu la meiuller performance?"
   ]
  },
  {
   "cell_type": "markdown",
   "metadata": {},
   "source": [
    "\n"
   ]
  },
  {
   "cell_type": "markdown",
   "metadata": {},
   "source": [
    "<font color='blue'> Réponse : </font>\n",
    "\n",
    "Pour algnMult:\n",
    "On a 20 pour MAFFT et MUSCLE et -8 pour ClustalW\n",
    "\n",
    "Pour algnMult2:\n",
    "On a -60 pour les 3 outils\n",
    "\n",
    "On peut conclure qu'ils sont tous aussi performant à moyenne/grande base de donnée, mais que ClustalW est moins performant à petite taille. \n"
   ]
  },
  {
   "cell_type": "code",
   "execution_count": null,
   "metadata": {},
   "outputs": [],
   "source": []
  }
 ],
 "metadata": {
  "kernelspec": {
   "display_name": "Python 3",
   "language": "python",
   "name": "python3"
  },
  "language_info": {
   "codemirror_mode": {
    "name": "ipython",
    "version": 3
   },
   "file_extension": ".py",
   "mimetype": "text/x-python",
   "name": "python",
   "nbconvert_exporter": "python",
   "pygments_lexer": "ipython3",
   "version": "3.6.7"
  }
 },
 "nbformat": 4,
 "nbformat_minor": 1
}
