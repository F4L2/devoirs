{
 "cells": [
  {
   "cell_type": "markdown",
   "metadata": {},
   "source": [
    "<h1><b>Statistique en Bioinformatique : </b> TME3 </h1>\n",
    "<br>\n",
    "L’objectif de ce TME est: \n",
    "<br>\n",
    "<ul>\n",
    "<li> objectif 1: comprendre les principaux etaphes de BLAST et PSIBLAST, </li>\n",
    "<li> objectif 2: comprendre et comparer les algoritime de l'alignement progressive </li>\n",
    "</ul>\n",
    "<br>\n",
    "<div class=\"alert alert-warning\" role=\"alert\" style=\"margin: 10px\">\n",
    "<p>**Soumission**</p>\n",
    "<ul>\n",
    "<li>Renomer le fichier TME3_subject_st.ipynb pour NomEtudiant1_NomEtudiant3.ipynb </li>\n",
    "<li>Envoyer par email à juliana.silva_bernardes@upmc.fr, l’objet du email sera [SBAS-2018] TME3 (deadline 26/02/2018 23:59)</li>\n",
    "</ul>\n",
    "</div>\n",
    "<br>"
   ]
  },
  {
   "cell_type": "markdown",
   "metadata": {},
   "source": [
    "<h3>Section 1: BLAST</h3>\n",
    "\n",
    "<b> Exercice 1 </b>: À partir de l'application BLAST, disponible via le site de <a href=\"http://blast.ncbi.nlm.nih.gov/\">NCBI</a>, cliquez sur protein Blast. Faites un BLAST de la séquence fasta/seq1.fasta. Expliquez le résultat graphique, la couleur de chaque hit et expliquez le tableau de résultat qu'est-ce que c'est chaque colonne?\n",
    "<br>\n"
   ]
  },
  {
   "cell_type": "markdown",
   "metadata": {},
   "source": [
    "<font color=\"red\"> Réponse : </font>La figure 1 illustre les matches avec les scores les plus grandes pour la séquence seq1.fasta.\n",
    "La couleur de chaque ligne represente le score de l’alignement, comme explique au dessus. Dans le tableau on peut trouver une description plus detaille de chaque match, et les trier par autres parametres que le scores (ex: E-value ou query cover). Les colonnes includent:<br>\n",
    "<ul>\n",
    "    <li> Name : Le nom de la sequence aligne</li>\n",
    "    <li> Max Score: Le plus grand score obtenu pour la sequence dans le database</li>\n",
    "    <li> Total Score: Le score total pour tous les segments aligne ́</li>\n",
    "    <li> La pourcentage de la se ́quence donne ́ couverte par l’alignement</li>\n",
    "    <li> </li>\n",
    "</ul>"
   ]
  },
  {
   "cell_type": "markdown",
   "metadata": {},
   "source": [
    "<b>Exercice 2</b>: On s'intéresse à présent au gène FHIT chez l'homme (fragile histidine triad protein, identifiant P49789, télécharger du site  <a href=\"http://www.uniprot.org/\"> Uniprot </a>). La protéine de ce gène est structurellement proche des galactose-1-phosphate uridylyltransferases. Faites un BLAST de ce gène contre la base SWISSPROT. Que constatez-vous?"
   ]
  },
  {
   "cell_type": "code",
   "execution_count": null,
   "metadata": {},
   "outputs": [],
   "source": [
    "Reponse:"
   ]
  },
  {
   "cell_type": "markdown",
   "metadata": {},
   "source": [
    "<b>Exercice 3</b>: Implémenter l'étape 0 du algorithme BLAST (indexer la base de données), utilise w=5 et les séquences du fichier database.fasta."
   ]
  },
  {
   "cell_type": "code",
   "execution_count": null,
   "metadata": {},
   "outputs": [],
   "source": [
    "import numpy as np\n",
    "\n",
    "#variable initiation\n",
    "database = 'fasta/database.fasta'\n",
    "seqTestBlast = 'fasta/test.fasta'\n",
    "input_blosum_f = 'BLOSUM62.txt'\n",
    "aa = ['A', 'R', 'N', 'D', 'C', 'Q', 'E', 'G', 'H', 'I', 'L', 'K', 'M', 'F', 'P', 'S', 'T', 'W', 'Y', 'V', 'X']\n",
    "\n",
    "#parameters\n",
    "q = 21\n",
    "gap = -5\n",
    "w = 5\n",
    "\n",
    "\n",
    "#For a simple test use:\n",
    "database = 'fastaToy/databaseToy.fasta'\n",
    "seqTestBlast = 'fastaToy/testToy.fasta'\n",
    "w=3\n",
    "\n",
    "#test Jupyter online\n",
    "database = 'databaseToy.fasta'\n"
   ]
  },
  {
   "cell_type": "code",
   "execution_count": 67,
   "metadata": {},
   "outputs": [
    {
     "name": "stdout",
     "output_type": "stream",
     "text": [
      "{'AGH': [('s1', 0)], 'CGG': [('s3', 0)], 'GGH': [('s2', 1)]} {'s1': 'AGHR', 's2': 'CGGHR', 's3': 'CGGH'}\n"
     ]
    }
   ],
   "source": [
    "#Indexation de la banque\n",
    "def etape0(nameFile,k):\n",
    "\tindex={}\n",
    "\tdicoSeq={}\n",
    "\tsequenceName=\"\"\n",
    "\tsequence=\"\"\n",
    "\tf=open(nameFile,\"r\")\n",
    "\tline=f.readline()\n",
    "\ti=0\n",
    "\twhile len(line)>0:\n",
    "\t\tif line[0] == '>':\n",
    "\t\t\tsequenceName=line[1:-1]\n",
    "\t\t\tdicoSeq[sequenceName]=\"\"\n",
    "\t\t\t#print sequenceName\n",
    "\t\telse:\n",
    "\t\t\tsequence=\"\"\n",
    "\t\t\tsequence=sequence+line[:-1]\n",
    "\t\t\tdicoSeq[sequenceName]=sequence.upper()\n",
    "\t\t\tfor i in range(0,len(sequence)-k,1):\n",
    "\t\t\t\tif  sequence[i:i+k] in index:\n",
    "\t\t\t\t\tindex[sequence[i:i+k].upper()].append((sequenceName,i))\n",
    "\t\t\t\telse:\n",
    "\t\t\t\t\tindex[sequence[i:i+k].upper()]=[(sequenceName,i)]\n",
    "\t\tline=f.readline()\n",
    "\n",
    "\tf.close()\n",
    "\treturn index,dicoSeq\n",
    "\n",
    "index,dicoSeq = etape0(database,w)\n",
    "print (index, dicoSeq)"
   ]
  },
  {
   "cell_type": "markdown",
   "metadata": {},
   "source": [
    "<b>Exercice 4</b>: Chercher la séquence query test.fasta dans la base indexé construite precedement, entendez l'alignement pour avoir un alignement sans gap et de score > 12. Retournez les quatre mieux alignements."
   ]
  },
  {
   "cell_type": "code",
   "execution_count": 32,
   "metadata": {},
   "outputs": [
    {
     "name": "stdout",
     "output_type": "stream",
     "text": [
      "4\n"
     ]
    }
   ],
   "source": [
    "#read Blosum\n",
    "# lire le fichier avec la matrice BLOSUM\n",
    "def readBlosum(nameFile):\n",
    "\tBlosum={}\n",
    "\tfi=open(nameFile,\"r\")\n",
    "\tligne=fi.readline()\n",
    "\twhile ligne[0]==\"#\":\n",
    "\t\tligne=fi.readline()\n",
    "\tligneAA=ligne.split()\n",
    "\tligneAA=ligneAA[0:len(ligneAA)-1]\n",
    "\tligne=fi.readline()\n",
    "\twhile len(ligne)>0:\n",
    "\t\tligne=ligne.split()\n",
    "\t\tfor j in range(0,len(ligneAA)-1,1):\n",
    "\t\t\tBlosum[ligne[0]+ligneAA[j]]= ligne[j+1]\n",
    "\t\tligne=fi.readline()\n",
    "\tfi.close()\n",
    "\treturn Blosum\n",
    "\n",
    "blosum = readBlosum(input_blosum_f)\n",
    "print (blosum[\"AA\"])"
   ]
  },
  {
   "cell_type": "code",
   "execution_count": 45,
   "metadata": {},
   "outputs": [
    {
     "name": "stdout",
     "output_type": "stream",
     "text": [
      "4\n"
     ]
    }
   ],
   "source": [
    "def calculeScore(AA,AA2,blosum):\n",
    "\tscore=0\n",
    "\tscore=blosum[AA+AA2]\n",
    "\treturn int(score)\n",
    "\n",
    "print (calculeScore('A', 'A', blosum))"
   ]
  },
  {
   "cell_type": "code",
   "execution_count": 64,
   "metadata": {},
   "outputs": [
    {
     "name": "stdout",
     "output_type": "stream",
     "text": [
      "CGGHR \n",
      " AGGHV\n",
      "[20, 4, ('CGGH', 'AGGH')]\n"
     ]
    }
   ],
   "source": [
    "def extendAln(pos1, pos2, sequence1, sequence2, matriceBlosum, scoremotif, w, ThrScore):\n",
    "\tsens=1 #determiner le sense d'avancement pour etendre l'alignement, si une valeur paire on avance vers droite et si une valeur impaire on avance vers gauche, donc a chaque etape on alterne le sens\n",
    "\tposf1=pos1+w\n",
    "\tpos1=pos1-1\n",
    "\tposf2=pos2+w\n",
    "\tpos2=pos2-1\n",
    "\tscore =scoremotif\n",
    "\twhile (score> ThrScore and posf1 != len(sequence1) and posf2 != len(sequence2) and pos1 >=0 and pos2 >=0):\n",
    "\n",
    "\t\tif sens %2 ==0:\n",
    "\t\t\tscore=score+ calculeScore(sequence1[posf1],sequence2[posf2],matriceBlosum)\n",
    "\t\t\t#print (\"d\", posf1, posf2, sequence1[posf1], sequence2[posf2], score)\n",
    "\t\t\tposf1=posf1+1\n",
    "\t\t\tposf2=posf2+1\n",
    "\t\telse:\n",
    "\t\t\tscore=score+ calculeScore(str(sequence1[pos1]), sequence2[pos2], matriceBlosum)\n",
    "\t\t\t#print (\"g\", pos1, pos2, sequence1[pos1], sequence2[pos2], score)\n",
    "\t\t\tpos1=pos1-1\n",
    "\t\t\tpos2=pos2-1\n",
    "\t\t#print (pos1, pos2, posf1, posf2,  score)\n",
    "\n",
    "\t\tsens+=1\n",
    "\tif score < ThrScore:\n",
    "\t\tif sens %2 ==0:\n",
    "\t\t\treturn [score,len(sequence1[pos1+2:posf1]),(sequence1[pos1+2:posf1],sequence2[pos2+2:posf2])]\n",
    "\t\t#print [scoremotif,(sequence1[pos1:posf1],sequence2[pos2:posf2])] \n",
    "\t\telse:\n",
    "\t\t\treturn [score,len(sequence1[pos1:posf1-2]),(sequence1[pos1:posf1-2],sequence2[pos2:posf2-2])]\n",
    "\telse:\n",
    "\t\tif sens %2 ==0:\n",
    "\t\t\treturn [score,len(sequence1[pos1+1:posf1]),(sequence1[pos1+1:posf1],sequence2[pos2+1:posf2])]\n",
    "\t\t#print [scoremotif,(sequence1[pos1:posf1],sequence2[pos2:posf2])] \n",
    "\t\telse:\n",
    "\t\t\treturn [score,len(sequence1[pos1:posf1-1]),(sequence1[pos1:posf1-1],sequence2[pos2:posf2-1])]\n",
    "        \n",
    "res = extendAln(2, 2, dicoSeq['s2'], 'AGGHV', blosum, 6, 1, 5)\n",
    "print (res)"
   ]
  },
  {
   "cell_type": "code",
   "execution_count": 82,
   "metadata": {},
   "outputs": [
    {
     "name": "stdout",
     "output_type": "stream",
     "text": [
      "([('GGH', 1, [('s2', 1)])], ['AGG', 'GGH', 'GHV'])\n"
     ]
    }
   ],
   "source": [
    "def getWordsQuery(w, query, indexB):\n",
    "\tmotifs=[]\n",
    "\tttmotif=[]\n",
    "\tfor i in range(len(query)-w+1) :\n",
    "\t\tttmotif.append(query[i:i+w])\n",
    "\t\tif query[i:i+w]in indexB.keys()  :\n",
    "\t\t\tmotifs.append((query[i:i+w],i,indexB[query[i:i+w]]))           \n",
    "\treturn motifs,ttmotif\n",
    "\n",
    "m = getWordsQuery(w,  'AGGHV', index)\n",
    "print (m)"
   ]
  },
  {
   "cell_type": "code",
   "execution_count": 75,
   "metadata": {},
   "outputs": [
    {
     "name": "stdout",
     "output_type": "stream",
     "text": [
      "AGG\n",
      "GG\n"
     ]
    }
   ],
   "source": [
    "def Blast_2(motifs,Query,IdSeq,Seqs,T,k):\n",
    "    AL=[]\n",
    "    for m in motifs:\n",
    "        for subjectId in m[2]:\n",
    "            subject=Seqs[IdSeq.index(subjectId[0])]            \n",
    "            AL.append(HSP(m[0],Query,m[1],subject,subjectId[1],k,T))\n",
    "            Best=sorted(AL,key=itemgetter(0), reverse=True)[:4]\n",
    "\n",
    "    return Best\n",
    "#resultat1,resultat2 = blastAln(index, dicoSeq, \"AGGHV\", blosum, w, ThrScore)\n",
    "#resultat1,resultat2 = blastAln(index, dicoSeq, \"AGGHV\", blosum, 1, 5)"
   ]
  },
  {
   "cell_type": "markdown",
   "metadata": {},
   "source": [
    "<h3>Section 2: PSI-BLAST</h3>\n",
    "On considère à nouveau le gène FHIT chez l'homme. \n",
    "<BR>\n",
    "<b> Exercice 1 </b>:\n",
    "Faites un PSI-BLAST de ce gène contre la base SWISS-PROT. Utilisez un seuil pour l’évalue de 1e-6.\n",
    "Que constatez-vous lors de la 1ère itération concernant les protéines de la famille des galactose-1-phosphate uridylyltransferases?\n"
   ]
  },
  {
   "cell_type": "markdown",
   "metadata": {},
   "source": [
    "Reponse:\n",
    "\n"
   ]
  },
  {
   "cell_type": "markdown",
   "metadata": {},
   "source": [
    "<b> Exercice 2 </b>:\n",
    "Que constatez-vous lors de la 2eme itération? Lors de la 5eme itération?\n"
   ]
  },
  {
   "cell_type": "markdown",
   "metadata": {},
   "source": [
    "Reponse:"
   ]
  },
  {
   "cell_type": "markdown",
   "metadata": {},
   "source": [
    "<b> Exercice 3 </b>:\n",
    "À partir de quelle itération peut-on considérer qu'il y a eu une convergence de l'algorithme PSI- BLAST? Pour quoi ?"
   ]
  },
  {
   "cell_type": "markdown",
   "metadata": {},
   "source": [
    "Reponse:"
   ]
  },
  {
   "cell_type": "markdown",
   "metadata": {},
   "source": [
    "<h3>Section 3: Alignement Multiple</h3>\n"
   ]
  },
  {
   "cell_type": "markdown",
   "metadata": {},
   "source": [
    "<b> Exercice 1 </b>:\n",
    "Accédez à l'application <a href=\"http://www.ebi.ac.uk/Tools/msa/clustalo/\">Clustal omega</a> et copiez les 7 séquences du fichier 7sequences.fasta. Expliquez, dans quel ordre les séquences ont été alignées."
   ]
  },
  {
   "cell_type": "markdown",
   "metadata": {},
   "source": [
    "Reponse:"
   ]
  },
  {
   "cell_type": "markdown",
   "metadata": {},
   "source": [
    "<b> Exercice 2 </b>:\n",
    "Faite une fonction pour calculer le score d’un aliment multiple. Le score de chaque position est la somme des tous les scores obtenu par BLOSUM62, et le score finale est la somme des scores de chaque position divisé par la taille du alignement."
   ]
  },
  {
   "cell_type": "code",
   "execution_count": 80,
   "metadata": {},
   "outputs": [],
   "source": [
    "#Read multi fasta\n",
    "def extraireAllFastaMulti(fichier):  \n",
    "\tf = open(fichier,'r')\n",
    "\tB=False\n",
    "\tSeqs=[]\n",
    "\tse=\"\"\n",
    "\tIdSeq=[]\n",
    "\tCurrentLine  = f.readline()\n",
    "\twhile CurrentLine != \"\":\n",
    "\t\tif CurrentLine[0] != \">\"  :\n",
    "\t\t\tse=se+CurrentLine.rstrip(\"\\n\")\n",
    "\t\t\tB=True\n",
    "\t\telse:\n",
    "\t\t\tIdSeq.append(CurrentLine.rstrip(\"\\n\")[1:])\n",
    "\t\t\tif B:\n",
    "\t\t\t\tSeqs.append(se)\n",
    "\t\t\t\tse=\"\"\n",
    "\t\tCurrentLine  = f.readline()\n",
    "\tSeqs.append(se)    \n",
    "\tf.close()\n",
    "\treturn IdSeq,Seqs"
   ]
  },
  {
   "cell_type": "code",
   "execution_count": 79,
   "metadata": {},
   "outputs": [
    {
     "name": "stdout",
     "output_type": "stream",
     "text": [
      "5.0\n"
     ]
    }
   ],
   "source": [
    "def SP_score(SeqsM, blosum, gap):\n",
    "\tLong= len(SeqsM[0])\n",
    "\ts = 0\n",
    "\tfor p in range(  Long ):\n",
    "\t\tfor seq1 in range(len(SeqsM)) :\n",
    "\t\t\tfor seq2 in range(seq1+1,len(SeqsM)):\n",
    "\t\t\t\tseq1p = SeqsM[seq1]\n",
    "\t\t\t\tseq2p = SeqsM[seq2]\n",
    "\t\t\t\tif seq1p[p] != '-' and seq2p[p] != '-':\n",
    "\t\t\t\t\ts1 = seq1p[p]\n",
    "\t\t\t\t\ts2 = seq2p[p]\n",
    "\t\t\t\t\ts += calculeScore(s1, s2, blosum)\n",
    "\t\t\t\telse :\n",
    "\t\t\t\t\ts += gap\n",
    "\treturn (s/Long)\n",
    "\n",
    "SeqsM = ['ACG', 'A-G', 'ACD']\n",
    "score = SP_score(SeqsM, blosum, gap)\n",
    "print (score)"
   ]
  },
  {
   "cell_type": "markdown",
   "metadata": {},
   "source": [
    "<b> Exercice 3 </b>: Aligner les séquences du fichiers algnMult2.fasta avec  <a href=\"http://www.ebi.ac.uk/Tools/msa/clustalo/\">Clustal omega</a>. Utiliser la fonction développé precedement  pour calculer le score du alignement. Quelle est la séquence la plus divergente? "
   ]
  },
  {
   "cell_type": "markdown",
   "metadata": {},
   "source": [
    "Reponse:"
   ]
  },
  {
   "cell_type": "markdown",
   "metadata": {},
   "source": [
    "<b> Exercice 4 </b>:\n",
    "Comparer les trois outils  <a href=\"http://www.ebi.ac.uk/Tools/msa/clustalo/\">Clustal omega</a>,  <a href=\"http://mafft.cbrc.jp/alignment/server/\">MAFT</a>  et <a href=\"http://www.ebi.ac.uk/Tools/msa/muscle/\">Muscle</a> en utilisant les séquences du fichiers algnMult.fasta. Utiliser la fonction développé precedement pour calculer le score de chaque alignement. Puis répéter la comparaison avec les séquences du fichier algnMult2.fasta. Quel outil a eu la meiuller performance?"
   ]
  },
  {
   "cell_type": "markdown",
   "metadata": {},
   "source": []
  }
 ],
 "metadata": {
  "kernelspec": {
   "display_name": "Python 3",
   "language": "python",
   "name": "python3"
  },
  "language_info": {
   "codemirror_mode": {
    "name": "ipython",
    "version": 3
   },
   "file_extension": ".py",
   "mimetype": "text/x-python",
   "name": "python",
   "nbconvert_exporter": "python",
   "pygments_lexer": "ipython3",
   "version": "3.6.4"
  }
 },
 "nbformat": 4,
 "nbformat_minor": 1
}
