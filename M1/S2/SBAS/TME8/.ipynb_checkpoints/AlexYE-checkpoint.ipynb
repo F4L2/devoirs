{
 "cells": [
  {
   "cell_type": "markdown",
   "metadata": {},
   "source": [
    "<h1><b>Statistique en Bioinformatique : </b> TME8 </h1>\n",
    "<br>\n",
    "L’objectif de ce TME est: \n",
    "<br>\n",
    "<ul>\n",
    "<li> Construire un modèle d'une famille proteique avec HMM profil. Ce modèle facilite la reconnaissance des membres de la famille (temps de calcul, calibration du seuil de significativité), en particulier pour les protéines les plus distantes (point de vue évolutif). </li> \n",
    "</ul>\n",
    "<br>\n",
    "<div class=\"alert alert-warning\" role=\"alert\" style=\"margin: 10px\">\n",
    "<p>**Soumission**</p>\n",
    "<ul>\n",
    "<li>Renomer le fichier TME8.ipynb pour NomEtudiant1_NomEtudiant2_TME8.ipynb </li>\n",
    "<li>Envoyer par email à edoardo.sarti@upmc.fr, l’objet du email sera [SBAS-2019] TME8</li>\n",
    "</ul>\n",
    "</div>\n"
   ]
  },
  {
   "cell_type": "markdown",
   "metadata": {},
   "source": [
    "Nom etudiant 1 : Alex YE\n",
    "<br>\n",
    "Nom etudiant 2 :\n",
    "<br>"
   ]
  },
  {
   "cell_type": "markdown",
   "metadata": {},
   "source": [
    "<h3> Installer HMMer</h3>\n",
    "Nous allons travailler avec deux versions du logiciel  HMMer: 2.3.2 et 3. Installez les deux versions dans repertoires differents. Tout d'abord, nous allons considerer la version 2.3.2<br><br>\n",
    "\n",
    "<h4>-Installer la version 2.3.2</h4><br>\n",
    "Télécharger HMMer <a href=\"http://eddylab.org/software/hmmer/2.3/hmmer-2.3.tar.gz\">version 2.3.2</a> <br>\n",
    "Lisez les instructions et installez-le dans votre espace personnel. <br><br>\n",
    "\n",
    "<font face=\"monospace\">tar -xzf hmmer-2.3.tar.gz</font><br>\n",
    "<font face=\"monospace\">cd hmmer-2.3</font><br>\n",
    "<font face=\"monospace\">./configure --prefix=/home/yourUser/yourDirectory/hmmer-2.3</font><br>\n",
    "<font face=\"monospace\">make</font><br>\n",
    "\n",
    "<font color=\"red\"> Remplacez yourUser/yourDirectory par votre coordonnée personnelle.</font>\n",
    "\n",
    "<h4>-Dans le terminal modifier le fichier .bashrc</h4> \n",
    "\n",
    "<font face=\"monospace\">cd \\$HOME </font><br>\n",
    "<font face=\"monospace\">gedit .bashrc </font><br>\n",
    "Ajouter la ligne suivante à votre fichier <font face=\"monospace\">.bashrc</font><br>\n",
    "<font face=\"monospace\">export PATH=/home/yourUser/yourDirectory/hmmer-2.3/src:${PATH}</font><br>\n",
    "\n",
    "<font color=\"red\"> Remplacez <font face=\"monospace\">yourUser/yourDirectory</font> par votre coordonnée personnelle.</font><br>\n",
    "Sauvergardez le fichier et taper dans le terminal <br>\n",
    "\n",
    "<font face=\"monospace\">source .bashrc </font><br>\n",
    "\n",
    "\n"
   ]
  },
  {
   "cell_type": "markdown",
   "metadata": {},
   "source": [
    "<b>Exercice 1 </b>: <u>Zinc finger Pfam domain</u> <br>\n",
    "<b>1.1</b>: Construire le modèle HMMer pour le domaine Pfam Zinc finger, numéro d'accès PF00096. Pour cela, téléchargez l'alignement seed au format Stockholm depuis le site web de <a href=\"http://pfam.xfam.org/family/PF00096#tabview=tab3\">Pfam</a>. Construire le modèle HMMer avec les paramètres par défaut, enregistrer avec le nom PF00096.hmm"
   ]
  },
  {
   "cell_type": "markdown",
   "metadata": {},
   "source": [
    "<b>1.2</b>: Utilisez le programme HMMeditor pour visualiser le modele PF00096.hmm et répondre aux questions.<br>\n",
    "<b>a)</b>: Combien d'états Match observez-vous?"
   ]
  },
  {
   "cell_type": "markdown",
   "metadata": {},
   "source": [
    "<font color=\"blue\">\n",
    "Reponse: </font> 26 états match"
   ]
  },
  {
   "cell_type": "markdown",
   "metadata": {},
   "source": [
    "<b>b)</b>: Pourquoi les états M3, M8, M12, M18, M21 et M26 ont une bordure en gras?"
   ]
  },
  {
   "cell_type": "markdown",
   "metadata": {},
   "source": [
    "<font color=\"blue\">\n",
    "Reponse: </font> Les positions auxquelles on détecte une fortement présence d'un type d'acide aminé. On peut l'observer dans la forme du logo.\n",
    "\n"
   ]
  },
  {
   "cell_type": "markdown",
   "metadata": {},
   "source": [
    "<b>c)</b>: Quelle est la probabilité de transition M5-> I5? "
   ]
  },
  {
   "cell_type": "markdown",
   "metadata": {},
   "source": [
    "<font color=\"blue\">\n",
    "Reponse: </font> 0.06 ou 6%"
   ]
  },
  {
   "cell_type": "markdown",
   "metadata": {},
   "source": [
    "<b>d)</b>: Quel est l'acide aminé le plus fréquent dans l'état I5?\n",
    "\n"
   ]
  },
  {
   "cell_type": "markdown",
   "metadata": {},
   "source": [
    "<font color=\"blue\">\n",
    "Reponse:\n",
    "</font> F"
   ]
  },
  {
   "cell_type": "markdown",
   "metadata": {},
   "source": [
    "<b>1.3</b>: Télécharger la séquence X6NX52 à <a href=\"http://www.uniprot.org/uniprot/X6NX52\">Uniprot</a>. Utilisez le programme <font face=\"monospace\">hmmsearch</font> pour localiser les domaines  Zinc finger dans la séquence X6NX52. Combien de domaines obtenez-vous? Comparez vos résultats avec les résultats de  <a href=\"http://pfam.xfam.org/protein/X6NX52_RETFI\">Pfam</a>. Avez-vous trouvé les mêmes domaines dans les mêmes positions? Expliquez votre réponse."
   ]
  },
  {
   "cell_type": "markdown",
   "metadata": {},
   "source": [
    "<font color=\"blue\">\n",
    "Reponse:\n",
    "</font>\n",
    "\n",
    "On obtient : \n",
    "\n",
    "tr|X6NX52|X6NX52_RETFI   1/4      74    97 ..     1    26 []    30.8  5.4e-10 \n",
    "\n",
    "tr|X6NX52|X6NX52_RETFI   4/4     221   244 ..     1    26 []    23.6    8e-08\n",
    "\n",
    "tr|X6NX52|X6NX52_RETFI   3/4     143   166 ..     1    26 []    21.2  4.2e-07\n",
    "\n",
    "tr|X6NX52|X6NX52_RETFI   2/4     101   125 ..     1    26 []    19.7  1.2e-06\n",
    "\n",
    "\n",
    "\n",
    "contre sur pfam: \n",
    "\n",
    "Pfam \tzf-C2H2 \t74 \t97\n",
    "\n",
    "Pfam \tzf-met \t221 \t242\n",
    "\n",
    "low_complexity \tn/a \t247 \t258\n",
    "\n",
    "transmembrane \tn/a \t248 \t267\n",
    "\n",
    "\n",
    "\n",
    "On observe bien 4 domaines, on trouve correctement les positions de 2 domaines mais pas des 2 autres."
   ]
  },
  {
   "cell_type": "markdown",
   "metadata": {},
   "source": [
    "<b>1.4</b>: Enregistrer la séquence du premier domaine, positions 74-97, dans un format fasta avec le nom de fichier dom1.fasta, supprimer les gaps de la séquence avant de l'enregistrer. Chargez le fichier dom1.fasta dans le programme HMMeditor et cliquez sur \"Align Path\". Qu'observez-vous? "
   ]
  },
  {
   "cell_type": "markdown",
   "metadata": {},
   "source": [
    "<font color=\"blue\">\n",
    "Reponse:\n",
    "</font> Un chemin surligné en bleu\n",
    "\n",
    "[S] [N] [B] [M1->M4] [D5->D6] [M7->M24] [D25->D26] [E] [C] [T]"
   ]
  },
  {
   "cell_type": "markdown",
   "metadata": {},
   "source": [
    "<b>1.5</b>: Modifiez le fichier dom1.fasta et ajouter le mot RWV après le mot TFR. Rechargez le fichier dans le programme HMMeditor et clique sur \"Align Path\". Qu'observez vous?"
   ]
  },
  {
   "cell_type": "markdown",
   "metadata": {},
   "source": [
    "<font color=\"blue\">\n",
    "Reponse:\n",
    "</font>\n",
    "Le chemin change entre M15 et M16, il passe maintenant par I15:\n",
    "\n",
    "...[M15] [I15] [M16]..."
   ]
  },
  {
   "cell_type": "markdown",
   "metadata": {},
   "source": [
    "<h4>-Installer la version 3.</h4><br>\n",
    "Télécharger HMMer <a href=\"http://eddylab.org/software/hmmer3/3.1b2/hmmer-3.1b2.tar.gz\">version 3</a> <br>\n",
    "Lisez les instructions et installez-le dans votre espace personnel. <br>\n",
    "\n",
    "<font face=\"monospace\">tar -xzf hmmer-3.1b2.tar.gz</font><br>\n",
    "<font face=\"monospace\">cd hmmer-3.1b2</font><br>\n",
    "<font face=\"monospace\">./configure --prefix=/home/yourUser/yourDirectory/hmmer-3.1b2</font><br>\n",
    "<font face=\"monospace\">make</font><br>\n",
    "\n",
    "<font color=\"red\"> Remplacer /yourUser/yourDirectory avec votre donnée personnelle.</font>\n",
    "\n",
    "<h4>-Dans le terminal modifier le fichier .bashrc</h4>\n",
    "\n",
    "<font face=\"monospace\">cd \\$HOME </font><br>\n",
    "<font face=\"monospace\">gedit .bashrc </font><br>\n",
    "Mettre en commentaire le export de hmmer-2.3 (utiliser # au début de la ligne) et ajouter la ligne suivante à votre fichier .bashrc<br>\n",
    "<font face=\"monospace\">export PATH=$PATH:/home/yourUser/yourDirectory/hmmer-3.1b2/src;</font>\n",
    "<font color=\"red\"> Remplacer /yourUser/yourDirectory avec votre donnée personnelle.</font>\n",
    "Sauvegarder le fichier .bashrc et dans le terminal taper<br>\n",
    "<font face=\"monospace\">source .bashrc </font><br>"
   ]
  },
  {
   "cell_type": "markdown",
   "metadata": {},
   "source": [
    "<b>Exercice 2 </b>: <u>Ubiquitin domain Pfam domain</u> <br>\n",
    "<b>2.1</b>: Construire le modèle HMMer pour le domaine Ubiquitin Pfam, accession number PF00240. Pour cela, téléchargez l'alignement seed au format Stockholm depuis le site web de  <a href=\"http://pfam.xfam.org/family/PF00240#tabview=tab3\">Pfam</a>. Construire le modèle hmmer avec les paramètres par défaut, enregistrer sous le nom PF00240.hmm. Combien d'états Match observez-vous?\n"
   ]
  },
  {
   "cell_type": "markdown",
   "metadata": {},
   "source": [
    "<font color=\"blue\">\n",
    "Reponse:\n",
    "</font> 72"
   ]
  },
  {
   "cell_type": "markdown",
   "metadata": {},
   "source": [
    "<b>2.2</b>:\n",
    "Téléchargez toutes les séquences avec le domaine ubiquitin du site Pfam. Clique sur l'alignement, sur Format an alignment, sélectionnez Full, Format FASTA,  Gaps : No gaps unaligned. Enregistrez le fichier sous le nom PF00240_full.fasta. Combien de séquences observez-vous dans le fichier PF00240_full.fasta?"
   ]
  },
  {
   "cell_type": "code",
   "execution_count": 31,
   "metadata": {},
   "outputs": [
    {
     "name": "stdout",
     "output_type": "stream",
     "text": [
      "62\n"
     ]
    }
   ],
   "source": [
    "#Code en python ou en bash pour compter les sequences\n",
    "\n",
    "def read_fasta(file_):\n",
    "    seqs = []\n",
    "    with open(file_, \"r\") as f:\n",
    "        seq = \"\"\n",
    "        for line in f:\n",
    "            if(line[0] == \">\"):\n",
    "                seqs.append(seq)\n",
    "                seq = \"\"\n",
    "                continue\n",
    "            else:\n",
    "                seq += line.strip()\n",
    "    return seqs\n",
    "\n",
    "fn = \"HMM3/PF00240_full.fasta\"\n",
    "seqs = read_fasta(fn)\n",
    "print( len(seqs) )"
   ]
  },
  {
   "cell_type": "markdown",
   "metadata": {},
   "source": [
    "<font color=\"blue\">\n",
    "Reponse:\n",
    "</font> On a 62 séquences"
   ]
  },
  {
   "cell_type": "markdown",
   "metadata": {},
   "source": [
    "<b>2.3</b>:\n",
    "Utilisez hmmsearch (default parameters) pour détecter les domaines ubiquitin dans le fichier PF00240_full.fasta. Utilisez l'option --domtblout pour enregistrer un fichier tabulaire, donnez le nom PF00240.domtb, répondre aux questions suivantes:"
   ]
  },
  {
   "cell_type": "code",
   "execution_count": 1,
   "metadata": {},
   "outputs": [],
   "source": [
    "import numpy as np\n",
    "\n",
    "\n",
    "file_ = \"HMM3/PF00240.domtb\"\n",
    "\n",
    "#Read the domtblout file\n",
    "def read_domtblout(input_f):\n",
    "    record = []\n",
    "    with open(input_f, \"r\") as f:\n",
    "        next(f)\n",
    "        next(f)\n",
    "        line = f.readline()\n",
    "        line = line.replace('#','')\n",
    "        cat = line.split()\n",
    "        \n",
    "        for line in f:\n",
    "            if(line == \"#\\n\"):\n",
    "                break\n",
    "            record.append(line.split())\n",
    "            \n",
    "    return np.array(record)\n",
    "            "
   ]
  },
  {
   "cell_type": "markdown",
   "metadata": {},
   "source": [
    "<b>a)</b>: Combien de domaines observez-vous dans le fichier PF00240.domtb? Comparez le nombre de domaines détectés avec le nombre attendu (question 2.2)"
   ]
  },
  {
   "cell_type": "code",
   "execution_count": 5,
   "metadata": {},
   "outputs": [
    {
     "name": "stdout",
     "output_type": "stream",
     "text": [
      "62\n"
     ]
    }
   ],
   "source": [
    "#Code en python ou en bash pour compter les domaines\n",
    "\n",
    "doms = read_domtblout(file_)\n",
    "#print(doms)\n",
    "print(len(doms))"
   ]
  },
  {
   "cell_type": "markdown",
   "metadata": {},
   "source": [
    "<font color=\"blue\">\n",
    "Reponse:\n",
    "</font> 62 domaines, puisque les séquences sont déjà \"coupées\" par pfam, on obtient un domaine par séquence. "
   ]
  },
  {
   "cell_type": "markdown",
   "metadata": {},
   "source": [
    "<b>b)</b>: Quelle est le c-evaleus et les scores du meilleur et du pire hit?"
   ]
  },
  {
   "cell_type": "code",
   "execution_count": 9,
   "metadata": {},
   "outputs": [
    {
     "name": "stdout",
     "output_type": "stream",
     "text": [
      "min: 1.1e-19 | max: 9e-31\n",
      "min: 1.1e-19 | max: 9e-28\n"
     ]
    }
   ],
   "source": [
    "index = 6\n",
    "\n",
    "E_values = doms[:,index]\n",
    "print(\"min: {} | max: {}\".format(min(E_values) ,max(E_values)) ) \n",
    "\n",
    "\n",
    "index = 11\n",
    "C_values = doms[:,index]\n",
    "print(\"min: {} | max: {}\".format(min(C_values) , max(C_values)) )"
   ]
  },
  {
   "cell_type": "markdown",
   "metadata": {},
   "source": [
    "<font color=\"blue\">\n",
    "Reponse:\n",
    "</font>\n",
    "\n",
    "min E-value: 1.1e-19 ; max E-value: 9e-31\n",
    "\n",
    "min C-value: 1.1e-19 ; max C-value: 9e-28"
   ]
  },
  {
   "cell_type": "markdown",
   "metadata": {},
   "source": [
    "<b>c)</b>: Exécutez à nouveau hmmsearch et définissez le domain e-value à 1e-5. Combien de domaines observez-vous? Comparez le nombre de domaines détectés avec l'attendu (question 2.2) et obtenu dans la question a. Justifiez votre réponse."
   ]
  },
  {
   "cell_type": "code",
   "execution_count": 53,
   "metadata": {},
   "outputs": [
    {
     "name": "stdout",
     "output_type": "stream",
     "text": [
      "62\n",
      "62\n"
     ]
    }
   ],
   "source": [
    "file_ = \"HMM3/PF00240_2.domtb\"\n",
    "doms_2 = read_domtblout(file_)\n",
    "print(len(doms))\n",
    "\n",
    "\n",
    "file_ = \"HMM3/PF00240_cga.domtb\"\n",
    "doms_2 = read_domtblout(file_)\n",
    "print(len(doms))"
   ]
  },
  {
   "cell_type": "markdown",
   "metadata": {},
   "source": [
    "<font color=\"blue\">\n",
    "Reponse:\n",
    "</font> Toujours 62, c'est normal puisque l'on filtre les domaines avec un E-value <= 1e-5; mais tous les domaines ont déjà une E-value inférieur à 1e-5 (max : 9e-31 ou 9e-28). "
   ]
  },
  {
   "cell_type": "markdown",
   "metadata": {},
   "source": [
    "<b>d)</b>:\n",
    "Téléchargez le modèle hmm pour le domaine ubiquitin depuis le site de Pfam. Clique sur \"Curation & model\" et sur \"download the raw HMM for this family\". Exécutez à nouveau hmmsearch avec l'option --cut_ga. Comparez le nombre de domaines détectés avec les questions précédentes. Qu'est-ce que cut_ga fait?"
   ]
  },
  {
   "cell_type": "markdown",
   "metadata": {},
   "source": [
    "<font color=\"blue\">\n",
    "Reponse:\n",
    "</font>\n",
    "ça n'a rien changé, on obtient le même fichier avec un 'query name' différent. \n",
    "\n",
    "--cut_ga: Assures qu'il n'y a pas de faux positif connu, en indiquant à HMMer d'utiliser les seuils de séquence et d'accès définis dans le fichier hmm passé en argument ==> Minimise le nombre de faux positif. \n",
    "\n",
    "Il semblerait que l'option soit cochée par défaut, si c'est le cas, ce n'est pas étonnant de retrouver le même résultat. "
   ]
  },
  {
   "cell_type": "markdown",
   "metadata": {},
   "source": [
    "<b>Exercice 3 </b>: <u>Cooccurrence de domaines</u> <br>\n",
    "Le domaine Ribosomal_S27 (PF01599) est très suivant trouvé avec le domaine de l'ubiquitine?  Allez sur le site Pfam, recherchez le domaine PF01599 et cliquez sur \"Domain Organisation\" recherchez le domaine ubiquitin dans la liste des architectures de domaine. Répondre aux question suivantes:<br>\n",
    "<b>3.1</b>:\n",
    "Si ces domaines coexistent, dans combien de séquences cette architecture de domaines est-elle observée? "
   ]
  },
  {
   "cell_type": "markdown",
   "metadata": {},
   "source": [
    "<font color=\"blue\">\n",
    "Reponse:\n",
    "</font>\n",
    "On les retrouve dans environ 16 architectures"
   ]
  },
  {
   "cell_type": "markdown",
   "metadata": {},
   "source": [
    "<b>3.2</b>: Vérifions si la séquence W4GKD7 décrite comme protéine ribosomale S27a de l'Ubiquitine-40S a l'architecture du domaine: ubiquitine, Ribosomal_S27. <br>\n",
    "- Téléchargez la séquence de W4GKD7 de <a href=\"http://www.uniprot.org/uniprot/W4GKD7\">Uniprot</a>  et téléchargez le modèle Ribosomal_S27 hmmer à partir du site Web Pfam.\n",
    "- Concattez les modèles ubiquitin.hmm et Ribosomal_S27.hmm, enregistrez le fichier sous Ribosomal_S27_ubiquitin.hmm.\n",
    "- Exécutez hmmsearch avec l'option --cut_ga pour rechercher des domaines dans W4GKD7, utilisez le modèle de fichier Ribosomal_S27_ubiquitin.hmm. Enregistrez la sortie au format tabulaire, utilisez l'option --domtblout pour enregistrer un fichier tabulaire, nommé W4GKD7.domtb\n",
    "- Analyser le fichier W4GKD7.domtb, avez-vous détecté les domaines Ribosomal_S27 et ubiquitin? Quels sont les scores et les e-values?"
   ]
  },
  {
   "cell_type": "markdown",
   "metadata": {},
   "source": [
    "<font color=\"blue\">\n",
    "Reponse:\n",
    "</font> \n",
    "On retrouve un domaine Ribosomal_S27 et un domaine ubiquitin.\n",
    "\n",
    "Leur e-values sont respectivements; 8.9e-32 et 6.1e-38"
   ]
  },
  {
   "cell_type": "markdown",
   "metadata": {},
   "source": [
    "<b>3.3</b>: Visualisez l'architecture du domaine pour la protéine W4GKD7 en utilisant le programme  <a href=\"http://prosite.expasy.org/cgi-bin/prosite/mydomains/\">myDomains</a>; Remplissez la longueur de la protéine et les données de domaine. Vous pouvez trouver toutes les informations dans le fichier W4GKD7.domtb, choisir la forme et la couleur que vous préférez, inclure l'image dans votre reponse."
   ]
  },
  {
   "cell_type": "markdown",
   "metadata": {},
   "source": [
    "<font color=\"blue\">\n",
    "Reponse:\n",
    "</font>\n",
    "\n",
    "![title](3/PSImage.cgi.png)"
   ]
  },
  {
   "cell_type": "markdown",
   "metadata": {},
   "source": [
    "<b>Exercice 4 </b>: <u>Domaines du même clan</u><br>\n",
    "Les familles de Pfam ayant des fonctions similaires sont suivant orgnisés dans un clan, c'est le cas des familles ubiquitin et ubiquitin_2 placé dans le clan CL0072.<br>\n",
    "<b>4.1</b>: Combien de membre exists dans le clans CL0072?"
   ]
  },
  {
   "cell_type": "markdown",
   "metadata": {},
   "source": [
    "<font color=\"blue\">\n",
    "Reponse:\n",
    "</font> Le clan comporte 74 familles membres. "
   ]
  },
  {
   "cell_type": "markdown",
   "metadata": {},
   "source": [
    "<b>4.2</b>: Téléchargez le modèle hmm pour le domaine ubiquitin_2 depuis le site de Pfam. Clique sur \"Curation & model\" et sur \"download the raw HMM for this family\". Concatenez les modeles ubiquitin.hmm et ubiquitin_2.hmm and executez hmmsearch avec --cut_ga sur les sequences du fichier Uniprot_ubiquitin.fasta, utilizez l'option --domtblout pour enregistrer un fichier tabulaire. Repondrez aux questions:\n"
   ]
  },
  {
   "cell_type": "markdown",
   "metadata": {},
   "source": [
    "<b>a)</b>: Combien de sequences ont plus qu'un hit?"
   ]
  },
  {
   "cell_type": "markdown",
   "metadata": {
    "collapsed": true
   },
   "source": [
    "<font color=\"blue\">\n",
    "Reponse:\n",
    "</font>\n",
    "Toutes, avec 21 au minimum hits. \n"
   ]
  },
  {
   "cell_type": "markdown",
   "metadata": {},
   "source": [
    "<b>b)</b>: Faite une fonction pour filtrer les meilleurs hits dans les séquences de Uniprot_ubiquitin.fasta. Si une séquence a plus qu'un hit dans de positions chevauchantes vous devez choisir le hit avec le meilleur c-evalue. Le début et fin de chaque hit se trouve dans les colonnes 20 et 21 du fichier de sortie de hmmsearch."
   ]
  },
  {
   "cell_type": "code",
   "execution_count": 30,
   "metadata": {},
   "outputs": [
    {
     "name": "stdout",
     "output_type": "stream",
     "text": [
      "('tr|A4HU11|A4HU11_LEIIN', 21)\n"
     ]
    }
   ],
   "source": [
    "from collections import Counter\n",
    "\n",
    "def filtre_dom(doms):\n",
    "    names = []\n",
    "    for d in doms:\n",
    "        names.append(d[0])\n",
    "    return names\n",
    "\n",
    "\n",
    "file_ = \"4/concat.domtb\"\n",
    "doms_ = read_domtblout(file_)\n",
    "#print(doms_.shape)\n",
    "\n",
    "seq_names = filtre_dom(doms_)\n",
    "\n",
    "count = Counter(seq_names)\n",
    "least_common = count.most_common()[-1]\n",
    "#print(count)\n",
    "print(least_common)"
   ]
  },
  {
   "cell_type": "code",
   "execution_count": 70,
   "metadata": {},
   "outputs": [
    {
     "name": "stdout",
     "output_type": "stream",
     "text": [
      "{'tr|A0A026WRG4|A0A026WRG4_OOCBI': {'c_val': ['3e-06', '3e-06', '3e-06', '3e-06', '3e-06', '3e-06', '3e-06', '3e-06', '3e-06', '3e-06'], 'where': [('77', '146'), ('153', '222'), ('229', '298'), ('305', '374'), ('381', '450'), ('457', '526'), ('533', '602'), ('609', '678'), ('685', '754'), ('761', '830')]}, 'tr|A0A069DWK5|A0A069DWK5_9HEMI': {'c_val': ['4.3e-36', '4.3e-36', '4.3e-36', '4.3e-36', '4.3e-36', '4.3e-36', '4.3e-36', '4.3e-36', '4.3e-36', '4.3e-36', '4.3e-36'], 'where': [('3', '74'), ('79', '150'), ('155', '226'), ('231', '302'), ('307', '378'), ('383', '454'), ('459', '530'), ('535', '606'), ('611', '682'), ('687', '758'), ('763', '834')]}, 'tr|A0A072UMK2|A0A072UMK2_MEDTR': {'c_val': ['5.9e-06', '5.9e-06', '5.9e-06', '5.9e-06', '5.9e-06', '5.9e-06', '5.9e-06', '5.9e-06', '5.9e-06', '5.9e-06'], 'where': [('77', '146'), ('153', '222'), ('229', '298'), ('305', '374'), ('381', '450'), ('457', '526'), ('533', '602'), ('609', '678'), ('685', '754'), ('761', '830')]}, 'tr|A0A0L7REF9|A0A0L7REF9_9HYME': {'c_val': ['4.5e-06', '8.7e-05', '6.3e-06', '5.1e-05', '3.5e-06'], 'where': [('533', '602'), ('609', '678'), ('685', '754'), ('761', '830'), ('837', '906')]}, 'tr|A0A0N5DTJ2|A0A0N5DTJ2_TRIMR': {'c_val': ['3.2e-36', '2.2e-35', '4.4e-36', '4.4e-36', '4.4e-36', '2.2e-35', '9.7e-07', '9.7e-07', '9.7e-07', '9.7e-07'], 'where': [('79', '150'), ('155', '226'), ('231', '302'), ('611', '682'), ('687', '758'), ('763', '834'), ('305', '374'), ('381', '450'), ('457', '526'), ('533', '602')]}, 'tr|A0A0Q9XB42|A0A0Q9XB42_DROMO': {'c_val': ['4.8e-36', '4.8e-36', '4.8e-36', '4.8e-36', '4.8e-36', '4.8e-36', '4.8e-36', '4.8e-36', '4.8e-36', '4.8e-36', '4.8e-36', '4.8e-36'], 'where': [('3', '74'), ('79', '150'), ('155', '226'), ('231', '302'), ('307', '378'), ('383', '454'), ('459', '530'), ('535', '606'), ('611', '682'), ('687', '758'), ('763', '834'), ('839', '910')]}, 'tr|A0A0R1DX86|A0A0R1DX86_DROYA': {'c_val': ['4.3e-36', '4.3e-36', '4.3e-36', '4.3e-36', '4.3e-36', '4.3e-36', '4.3e-36', '4.3e-36', '4.3e-36', '4.3e-36', '4.3e-36'], 'where': [('3', '74'), ('79', '150'), ('155', '226'), ('231', '302'), ('307', '378'), ('383', '454'), ('459', '530'), ('535', '606'), ('611', '682'), ('687', '758'), ('763', '834')]}, 'tr|A0A0V0TBY2|A0A0V0TBY2_9BILA': {'c_val': ['2.4e-34', '4.4e-34', '2.2e-35', '2.2e-35', '2.2e-35', '7.6e-24', '2.2e-35', '5.4e-07'], 'where': [('79', '150'), ('155', '226'), ('231', '302'), ('383', '454'), ('459', '530'), ('702', '753'), ('758', '829'), ('832', '901')]}, 'tr|A0A0V0UP34|A0A0V0UP34_9BILA': {'c_val': ['4.8e-20', '3e-35', '3.4e-34', '6e-34', '3e-35', '6e-34', '3e-35', '6e-34', '3e-35', '3e-35', '3e-35', '6e-34', '1.8e-18', '3e-35', '7.3e-07'], 'where': [('79', '128'), ('131', '202'), ('207', '278'), ('283', '354'), ('359', '430'), ('435', '506'), ('511', '582'), ('587', '658'), ('663', '734'), ('739', '810'), ('815', '886'), ('891', '962'), ('967', '1020'), ('1025', '1096'), ('1099', '1168')]}, 'tr|A0A0V0W2E7|A0A0V0W2E7_9BILA': {'c_val': ['6.1e-08', '3.7e-35', '3.7e-35', '3.7e-35', '8.1e-05'], 'where': [('1', '25'), ('258', '329'), ('334', '405'), ('410', '481'), ('664', '721')]}, 'tr|A0A161N0S0|A0A161N0S0_TRIIF': {'c_val': ['4.8e-36', '4.8e-36', '4.8e-36', '4.8e-36', '4.8e-36', '4.8e-36', '4.8e-36', '4.8e-36', '4.8e-36', '4.8e-36', '4.8e-36', '4.8e-36'], 'where': [('3', '74'), ('79', '150'), ('155', '226'), ('231', '302'), ('307', '378'), ('383', '454'), ('459', '530'), ('535', '606'), ('611', '682'), ('687', '758'), ('763', '834'), ('839', '910')]}, 'tr|A0A182G3H1|A0A182G3H1_AEDAL': {'c_val': ['7.9e-36', '7.9e-36', '7.9e-36', '7.9e-36', '7.9e-36', '7.9e-36', '7.9e-36', '7.9e-36', '7.9e-36', '7.9e-36', '7.9e-36', '7.9e-36', '7.9e-36', '7.9e-36', '7.9e-36', '7.9e-36', '7.9e-36', '1.9e-06'], 'where': [('3', '74'), ('79', '150'), ('155', '226'), ('231', '302'), ('307', '378'), ('383', '454'), ('535', '606'), ('611', '682'), ('687', '758'), ('763', '834'), ('839', '910'), ('915', '986'), ('991', '1062'), ('1067', '1138'), ('1143', '1214'), ('1219', '1290'), ('1295', '1366'), ('989', '1058')]}, 'tr|A4HFB9|A4HFB9_LEIBR': {'c_val': ['8.6e-34', '8.6e-34', '8.6e-34', '8.6e-34', '8.6e-34', '8.6e-34', '8.6e-34', '8.6e-34', '2.3e-34', '6.4e-06', '6.4e-06', '6.4e-06', '6.4e-06'], 'where': [('3', '74'), ('155', '226'), ('231', '302'), ('307', '378'), ('383', '454'), ('535', '606'), ('611', '682'), ('839', '910'), ('991', '1062'), ('77', '146'), ('761', '830'), ('913', '982'), ('989', '1058')]}, 'tr|A4HPM0|A4HPM0_LEIBR': {'c_val': ['7.8e-34', '7.8e-34', '7.8e-34', '7.8e-34', '7.8e-34', '7.8e-34', '7.8e-34', '5.8e-06', '5.8e-06', '5.8e-06'], 'where': [('3', '74'), ('231', '302'), ('459', '530'), ('535', '606'), ('687', '758'), ('839', '910'), ('915', '986'), ('77', '146'), ('153', '222'), ('761', '830')]}, 'tr|A4HU11|A4HU11_LEIIN': {'c_val': ['5.5e-19', '4.9e-06', '4.9e-06', '4.9e-06', '4.9e-06', '4.9e-06', '4.9e-06', '4.9e-06', '4.9e-06', '4.9e-06', '4.9e-06'], 'where': [('9', '52'), ('55', '124'), ('131', '200'), ('207', '276'), ('283', '352'), ('359', '428'), ('435', '504'), ('511', '580'), ('587', '656'), ('663', '732'), ('739', '808')]}, 'tr|B0W973|B0W973_CULQU': {'c_val': ['5.8e-36', '5.8e-36', '5.8e-36', '5.8e-36', '5.8e-36', '5.8e-36', '5.8e-36', '5.8e-36', '5.8e-36', '5.8e-36', '5.8e-36', '5.8e-36', '5.8e-36', '5.8e-36', '1.4e-06'], 'where': [('3', '74'), ('79', '150'), ('155', '226'), ('231', '302'), ('307', '378'), ('383', '454'), ('459', '530'), ('535', '606'), ('611', '682'), ('687', '758'), ('763', '834'), ('839', '910'), ('915', '986'), ('991', '1062'), ('989', '1058')]}, 'tr|B3M7Z7|B3M7Z7_DROAN': {'c_val': ['4.3e-36', '4.3e-36', '4.3e-36', '4.3e-36', '4.3e-36', '4.3e-36', '4.3e-36', '4.3e-36', '4.3e-36', '4.3e-36', '4.3e-36'], 'where': [('3', '74'), ('79', '150'), ('155', '226'), ('231', '302'), ('307', '378'), ('383', '454'), ('459', '530'), ('535', '606'), ('611', '682'), ('687', '758'), ('763', '834')]}, 'tr|B3NFZ3|B3NFZ3_DROER': {'c_val': ['4.3e-36', '4.3e-36', '4.3e-36', '4.3e-36', '4.3e-36', '4.3e-36', '4.3e-36', '4.3e-36', '4.3e-36', '4.3e-36', '4.3e-36'], 'where': [('3', '74'), ('79', '150'), ('155', '226'), ('231', '302'), ('307', '378'), ('383', '454'), ('459', '530'), ('535', '606'), ('611', '682'), ('687', '758'), ('763', '834')]}, 'tr|B4HTV7|B4HTV7_DROSE': {'c_val': ['4.8e-36', '4.8e-36', '4.8e-36', '4.8e-36', '4.8e-36', '4.8e-36', '4.8e-36', '4.8e-36', '4.8e-36', '3.8e-35', '4.8e-36'], 'where': [('3', '74'), ('79', '150'), ('155', '226'), ('231', '302'), ('307', '378'), ('383', '454'), ('459', '530'), ('611', '682'), ('687', '758'), ('763', '834'), ('839', '910')]}, 'tr|B4KXU3|B4KXU3_DROMO': {'c_val': ['5.3e-36', '5.3e-36', '5.3e-36', '5.3e-36', '5.3e-36', '5.3e-36', '5.3e-36', '5.3e-36', '5.3e-36', '5.3e-36', '5.3e-36', '5.3e-36', '5.3e-36'], 'where': [('3', '74'), ('79', '150'), ('155', '226'), ('231', '302'), ('307', '378'), ('383', '454'), ('459', '530'), ('535', '606'), ('611', '682'), ('687', '758'), ('763', '834'), ('839', '910'), ('915', '986')]}, 'tr|E0VZ82|E0VZ82_PEDHC': {'c_val': ['3e-06', '3e-06', '3e-06', '3e-06', '3e-06', '3e-06', '3e-06', '3e-06', '3e-06'], 'where': [('77', '146'), ('153', '222'), ('229', '298'), ('305', '374'), ('381', '450'), ('534', '603'), ('610', '679'), ('686', '755'), ('762', '831')]}, 'tr|E3LYQ5|E3LYQ5_CAERE': {'c_val': ['3.7e-31', '3.6e-06', '3.3e-06', '3.3e-06', '3.3e-06'], 'where': [('535', '612'), ('2', '70'), ('77', '146'), ('767', '836'), ('843', '912')]}, 'tr|F6H5Z7|F6H5Z7_VITVI': {'c_val': ['7.3e-06', '7.3e-06', '7.3e-06', '7.3e-06', '7.3e-06', '7.3e-06', '7.3e-06', '7.3e-06', '7.3e-06', '7.3e-06'], 'where': [('90', '159'), ('166', '235'), ('242', '311'), ('318', '387'), ('394', '463'), ('470', '539'), ('686', '755'), ('762', '831'), ('838', '907'), ('914', '983')]}, 'tr|F7IUE6|F7IUE6_ANOGA': {'c_val': ['5.8e-36', '5.8e-36', '5.8e-36', '5.8e-36', '5.8e-36', '5.8e-36', '5.8e-36', '5.8e-36', '5.8e-36', '5.8e-36', '5.8e-36', '5.8e-36', '5.8e-36', '5.8e-36', '1.4e-06'], 'where': [('3', '74'), ('79', '150'), ('155', '226'), ('231', '302'), ('307', '378'), ('383', '454'), ('459', '530'), ('535', '606'), ('611', '682'), ('687', '758'), ('763', '834'), ('839', '910'), ('915', '986'), ('991', '1062'), ('989', '1058')]}, 'tr|G0MLK4|G0MLK4_CAEBE': {'c_val': ['3.5e-06', '3.5e-06', '3.5e-06', '3.5e-06', '3.5e-06', '3.5e-06', '3.5e-06', '3.5e-06', '3.5e-06', '3.5e-06', '3.5e-06', '3.5e-06'], 'where': [('57', '126'), ('133', '202'), ('209', '278'), ('285', '354'), ('361', '430'), ('437', '506'), ('513', '582'), ('589', '658'), ('665', '734'), ('741', '810'), ('817', '886'), ('893', '962')]}, 'tr|G0V1P8|G0V1P8_TRYCI': {'c_val': ['7.2e-34', '7.2e-34', '7.2e-34', '7.2e-34', '7.2e-34', '7.2e-34', '7.2e-34', '7.2e-34', '7.2e-34', '7.2e-34', '7.2e-34', '7.2e-34', '7.9e-13'], 'where': [('3', '74'), ('79', '150'), ('155', '226'), ('231', '302'), ('307', '378'), ('383', '454'), ('459', '530'), ('535', '606'), ('611', '682'), ('687', '758'), ('763', '834'), ('839', '910'), ('915', '957')]}, 'tr|H9IVY4|H9IVY4_BOMMO': {'c_val': ['3.5e-06', '3.3e-06', '3.3e-06', '3.3e-06'], 'where': [('2', '70'), ('77', '146'), ('761', '830'), ('837', '906')]}, 'tr|K7JAJ3|K7JAJ3_NASVI': {'c_val': ['3.5e-06', '3.3e-06', '3.3e-06', '3.3e-06'], 'where': [('2', '70'), ('77', '146'), ('761', '830'), ('837', '906')]}, 'tr|O35079|O35079_CRIGR': {'c_val': ['4.6e-36', '4.6e-36', '4.6e-36', '4.6e-36', '4.6e-36', '4.6e-36', '4.6e-36', '4.6e-36', '4.6e-36', '4.6e-36', '4.6e-36'], 'where': [('3', '74'), ('79', '150'), ('155', '226'), ('231', '302'), ('307', '378'), ('383', '454'), ('459', '530'), ('535', '606'), ('611', '682'), ('687', '758'), ('763', '834')]}, 'tr|O35080|O35080_CRIGR': {'c_val': ['5.7e-36', '5.7e-36', '5.7e-36', '5.7e-36', '5.7e-36', '5.7e-36', '5.7e-36', '5.7e-36', '5.7e-36', '5.7e-36', '5.7e-36', '5.7e-36', '7.3e-07'], 'where': [('3', '74'), ('79', '150'), ('155', '226'), ('231', '302'), ('307', '378'), ('383', '454'), ('459', '530'), ('611', '682'), ('687', '758'), ('763', '834'), ('839', '910'), ('915', '986'), ('533', '602')]}, 'sp|P0CG71|UBIQ1_CAEEL': {'c_val': ['3.2e-06', '2.9e-06', '4.5e-06', '2.9e-06'], 'where': [('2', '70'), ('77', '146'), ('383', '450'), ('761', '830')]}, 'tr|Q4Q165|Q4Q165_LEIMA': {'c_val': ['5.1e-06', '4.7e-06', '7.3e-06', '4.7e-06'], 'where': [('2', '70'), ('77', '146'), ('382', '450'), ('761', '830')]}, 'tr|Q59EM9|Q59EM9_HUMAN': {'c_val': ['7.5e-36', '7.5e-36', '7.5e-36', '7.5e-36', '7.5e-36', '7.5e-36', '7.5e-36', '7.5e-36', '7.5e-36', '7.5e-36', '7.5e-36', '7.5e-36', '7.5e-36', '7.5e-36', '7.5e-36', '7.5e-36', '1.8e-06', '1.8e-06', '4.7e-06'], 'where': [('19', '90'), ('95', '166'), ('171', '242'), ('247', '318'), ('323', '394'), ('399', '470'), ('475', '546'), ('551', '622'), ('627', '698'), ('703', '774'), ('779', '850'), ('855', '926'), ('931', '1002'), ('1007', '1078'), ('1083', '1154'), ('1159', '1230'), ('93', '162'), ('929', '998'), ('1233', '1302')]}, 'tr|Q8MSM5|Q8MSM5_DROME': {'c_val': ['5.9e-36', '5.9e-36', '5.9e-36', '5.9e-36', '5.9e-36', '5.9e-36', '5.9e-36', '5.9e-36', '5.9e-36', '5.9e-36', '5.9e-36', '5.9e-36', '5.9e-36', '5.9e-36', '1.4e-06'], 'where': [('3', '74'), ('79', '150'), ('155', '226'), ('231', '302'), ('307', '378'), ('383', '454'), ('459', '530'), ('535', '606'), ('611', '682'), ('687', '758'), ('763', '834'), ('839', '910'), ('915', '986'), ('991', '1062'), ('989', '1058')]}, 'tr|Q9XXZ6|Q9XXZ6_BOMMO': {'c_val': ['4.8e-36', '3.3e-06', '3.3e-06', '3.3e-06', '8.8e-06', '3.3e-06', '3.3e-06'], 'where': [('3', '74'), ('77', '146'), ('153', '222'), ('229', '298'), ('533', '602'), ('761', '830'), ('837', '906')]}, 'tr|T1FVF6|T1FVF6_HELRO': {'c_val': ['7.4e-36', '7.4e-36', '7.4e-36', '7.4e-36', '7.4e-36', '7.4e-36', '7.4e-36', '7.4e-36', '7.4e-36', '7.4e-36'], 'where': [('83', '154'), ('159', '230'), ('235', '306'), ('311', '382'), ('387', '458'), ('463', '534'), ('539', '610'), ('615', '686'), ('691', '762'), ('767', '838')]}, 'tr|U6KZM6|U6KZM6_EIMTE': {'c_val': ['4.7e-10', '1.6e-09', '2.1e-09', '7.1e-10', '7.1e-10', '1.6e-09', '2.1e-09', '3.7e-10', '2.1e-09', '1.6e-09', '2.1e-09', '1.6e-09', '5.1e-11'], 'where': [('20', '52'), ('108', '139'), ('166', '196'), ('543', '574'), ('572', '603'), ('688', '719'), ('775', '805'), ('833', '864'), ('920', '950'), ('978', '1009'), ('1036', '1066'), ('1094', '1125'), ('1152', '1186')]}}\n"
     ]
    }
   ],
   "source": [
    "def get_fasta_id(file_):\n",
    "    ident = []\n",
    "    with open(file_, \"r\") as f:\n",
    "        for line in f:\n",
    "            if(line[0] == \">\"):\n",
    "                ident.append(line.split()[0][1:])\n",
    "    return ident\n",
    "\n",
    "def filtre_hit(seqs, doms):\n",
    "    dic = {}\n",
    "    for s in seqs:\n",
    "        for d in doms:\n",
    "            name = d[0]\n",
    "            if(name != s):\n",
    "                continue\n",
    "            c_value = d[11]\n",
    "            bgn = d[19]\n",
    "            end = d[20]\n",
    "            if(name not in dic):\n",
    "                dic[name] = {'c_val':[], 'where':[]}\n",
    "            dic[name]['c_val'].append( c_value )\n",
    "            dic[name]['where'].append( (bgn,end) )\n",
    "            \n",
    "        to_del = []\n",
    "        c_values = dic[s]['c_val']\n",
    "        pos = dic[s]['where']\n",
    "        for i in range(len(c_values)):\n",
    "            frm, to = pos[i]\n",
    "            c_val = c_values[i]\n",
    "            for j in range(len(c_values)):\n",
    "                bgn,end = pos[j]\n",
    "                c_test = c_values[j]\n",
    "                if( (bgn>frm and bgn<to) or (end>frm and end<to) ):\n",
    "                    if(c_val > c_test):\n",
    "                        to_del.append(j)\n",
    "        to_del = list(set(to_del))\n",
    "        to_del.sort()\n",
    "        for i in to_del[::-1]:\n",
    "            del dic[s]['c_val'][i]\n",
    "            del dic[s]['where'][i]\n",
    "        \n",
    "    return dic\n",
    "    \n",
    "\n",
    "file_ = '4/Uniprot_ubiquitin.fasta'\n",
    "seq_ids = get_fasta_id(file_)\n",
    "\n",
    "dic = filtre_hit(seq_ids, doms_)\n",
    "print(dic)\n",
    "\n",
    "#format|| id: \"c_value\": [float], \"where\" [(int,int)]"
   ]
  },
  {
   "cell_type": "code",
   "execution_count": null,
   "metadata": {},
   "outputs": [],
   "source": []
  }
 ],
 "metadata": {
  "kernelspec": {
   "display_name": "Python 3",
   "language": "python",
   "name": "python3"
  },
  "language_info": {
   "codemirror_mode": {
    "name": "ipython",
    "version": 3
   },
   "file_extension": ".py",
   "mimetype": "text/x-python",
   "name": "python",
   "nbconvert_exporter": "python",
   "pygments_lexer": "ipython3",
   "version": "3.6.7"
  }
 },
 "nbformat": 4,
 "nbformat_minor": 2
}
