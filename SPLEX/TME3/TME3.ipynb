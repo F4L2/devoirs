{
 "cells": [
  {
   "cell_type": "code",
   "execution_count": 1,
   "metadata": {},
   "outputs": [],
   "source": [
    "import numpy as np\n",
    "import pandas as pd\n",
    "import graphviz\n",
    "from sklearn import tree\n",
    "from sklearn.ensemble import RandomForestClassifier"
   ]
  },
  {
   "cell_type": "markdown",
   "metadata": {},
   "source": [
    "# Formatting data"
   ]
  },
  {
   "cell_type": "code",
   "execution_count": 2,
   "metadata": {},
   "outputs": [
    {
     "data": {
      "text/plain": [
       "(             0          1  2  3\n",
       " 0    51.650893   9.679493  0  0\n",
       " 1    64.627752   7.970522  0  1\n",
       " 2    69.550752   6.368363  1  0\n",
       " 3    65.270695   8.812844  0  1\n",
       " 4    62.681176  10.322206  1  1\n",
       " ..         ...        ... .. ..\n",
       " 195  45.200346   7.315751  0  1\n",
       " 196  46.261624   6.520131  0  0\n",
       " 197  41.424692   5.772244  0  1\n",
       " 198  43.681741   7.993931  0  1\n",
       " 199  62.970023   5.466263  1  0\n",
       " \n",
       " [200 rows x 4 columns],      0\n",
       " 0    1\n",
       " 1    1\n",
       " 2    1\n",
       " 3    1\n",
       " 4    1\n",
       " ..  ..\n",
       " 195  0\n",
       " 196  0\n",
       " 197  0\n",
       " 198  0\n",
       " 199  0\n",
       " \n",
       " [200 rows x 1 columns])"
      ]
     },
     "execution_count": 2,
     "metadata": {},
     "output_type": "execute_result"
    }
   ],
   "source": [
    "#Observations:  200 patients, 4 clinical variables:  \n",
    "#age of patients(continuous), \n",
    "#HbA1C (continuous), \n",
    "#insuline taken (categorical, yes or not), \n",
    "#other anti-diabetic drugs are taken (categorical, yes or not)\n",
    "\n",
    "data_diabetes = pd.read_table('data/patients_data.txt',sep='\\t', header=None)\n",
    "\n",
    "\n",
    "#Classes:  0 (Diabetes Remission) and 1 (Non-Remission) for 200 patients\n",
    "classes_diabetes = pd.read_table('data/patients_classes.txt', header=None)\n",
    "\n",
    "data_diabetes, classes_diabetes"
   ]
  },
  {
   "cell_type": "code",
   "execution_count": 3,
   "metadata": {},
   "outputs": [
    {
     "data": {
      "text/plain": [
       "False"
      ]
     },
     "execution_count": 3,
     "metadata": {},
     "output_type": "execute_result"
    }
   ],
   "source": [
    "data_diabetes.isnull().values.any()"
   ]
  },
  {
   "cell_type": "markdown",
   "metadata": {},
   "source": [
    "# Analysis"
   ]
  },
  {
   "cell_type": "markdown",
   "metadata": {},
   "source": [
    "## Decision Tree"
   ]
  },
  {
   "cell_type": "code",
   "execution_count": 4,
   "metadata": {},
   "outputs": [
    {
     "data": {
      "text/plain": [
       "'diabetes remission.pdf'"
      ]
     },
     "execution_count": 4,
     "metadata": {},
     "output_type": "execute_result"
    }
   ],
   "source": [
    "clf = tree.DecisionTreeClassifier()\n",
    "clf = clf.fit(data_diabetes, classes_diabetes)\n",
    "\n",
    "feature_names = ['age', 'hba1c', 'insuline taken', 'other drugs taken']\n",
    "classes = ['DR','NDR']\n",
    "dot_data = tree.export_graphviz(clf, out_file=None,\n",
    "                                feature_names=feature_names,\n",
    "                                class_names=classes,\n",
    "                                filled=True,\n",
    "                                rounded=True,special_characters=True)\n",
    "\n",
    "graph = graphviz.Source(dot_data)\n",
    "graph.render(\"diabetes remission\")"
   ]
  },
  {
   "cell_type": "markdown",
   "metadata": {},
   "source": [
    "## Random Forest"
   ]
  },
  {
   "cell_type": "code",
   "execution_count": 5,
   "metadata": {},
   "outputs": [
    {
     "name": "stderr",
     "output_type": "stream",
     "text": [
      "/home/alex/.local/lib/python3.6/site-packages/sklearn/ensemble/forest.py:245: FutureWarning: The default value of n_estimators will change from 10 in version 0.20 to 100 in 0.22.\n",
      "  \"10 in version 0.20 to 100 in 0.22.\", FutureWarning)\n",
      "/home/alex/.local/lib/python3.6/site-packages/ipykernel_launcher.py:2: DataConversionWarning: A column-vector y was passed when a 1d array was expected. Please change the shape of y to (n_samples,), for example using ravel().\n",
      "  \n"
     ]
    },
    {
     "data": {
      "text/plain": [
       "array([1, 1, 1, 1, 1, 1, 1, 1, 0, 0, 1, 1, 0, 1, 0, 1, 1, 0, 1, 0, 0, 1,\n",
       "       1, 0, 1, 1, 1, 0, 1, 0, 1, 1, 1, 1, 1, 0, 1, 1, 1, 1, 1, 1, 0, 0,\n",
       "       1, 0, 0, 1, 0, 1, 1, 1, 0, 1, 1, 1, 1, 1, 1, 1, 1, 1, 0, 1, 1, 1,\n",
       "       1, 1, 1, 1, 1, 1, 1, 0, 1, 1, 1, 1, 1, 1, 1, 1, 1, 1, 0, 0, 0, 1,\n",
       "       1, 1, 0, 0, 1, 0, 1, 0, 1, 1, 1, 1, 0, 0, 0, 0, 0, 0, 0, 0, 0, 0,\n",
       "       0, 1, 0, 0, 0, 0, 0, 1, 0, 0, 1, 0, 0, 0, 0, 0, 0, 0, 1, 0, 1, 0,\n",
       "       1, 0, 0, 0, 0, 0, 0, 1, 0, 0, 0, 1, 1, 0, 0, 0, 0, 0, 0, 0, 0, 1,\n",
       "       0, 1, 0, 0, 0, 0, 0, 0, 0, 0, 0, 0, 0, 0, 0, 1, 1, 0, 1, 0, 0, 0,\n",
       "       0, 0, 0, 1, 0, 0, 0, 1, 0, 0, 0, 1, 0, 0, 1, 1, 0, 0, 1, 0, 0, 0,\n",
       "       0, 1])"
      ]
     },
     "execution_count": 5,
     "metadata": {},
     "output_type": "execute_result"
    }
   ],
   "source": [
    "clf = RandomForestClassifier(max_depth=2, random_state=0)\n",
    "clf.fit(data_diabetes, classes_diabetes)\n",
    "\n",
    "clf.predict(data_diabetes)"
   ]
  },
  {
   "cell_type": "code",
   "execution_count": 6,
   "metadata": {},
   "outputs": [
    {
     "data": {
      "text/plain": [
       "array([0.57112592, 0.14837838, 0.18705705, 0.09343866])"
      ]
     },
     "execution_count": 6,
     "metadata": {},
     "output_type": "execute_result"
    }
   ],
   "source": [
    "clf.feature_importances_"
   ]
  },
  {
   "cell_type": "markdown",
   "metadata": {},
   "source": [
    "## DiaRem"
   ]
  },
  {
   "cell_type": "code",
   "execution_count": 7,
   "metadata": {},
   "outputs": [
    {
     "data": {
      "text/html": [
       "<div>\n",
       "<style scoped>\n",
       "    .dataframe tbody tr th:only-of-type {\n",
       "        vertical-align: middle;\n",
       "    }\n",
       "\n",
       "    .dataframe tbody tr th {\n",
       "        vertical-align: top;\n",
       "    }\n",
       "\n",
       "    .dataframe thead th {\n",
       "        text-align: right;\n",
       "    }\n",
       "</style>\n",
       "<table border=\"1\" class=\"dataframe\">\n",
       "  <thead>\n",
       "    <tr style=\"text-align: right;\">\n",
       "      <th></th>\n",
       "      <th>0</th>\n",
       "      <th>1</th>\n",
       "      <th>2</th>\n",
       "      <th>3</th>\n",
       "    </tr>\n",
       "  </thead>\n",
       "  <tbody>\n",
       "    <tr>\n",
       "      <td>0</td>\n",
       "      <td>2</td>\n",
       "      <td>6</td>\n",
       "      <td>0</td>\n",
       "      <td>0</td>\n",
       "    </tr>\n",
       "    <tr>\n",
       "      <td>1</td>\n",
       "      <td>3</td>\n",
       "      <td>4</td>\n",
       "      <td>0</td>\n",
       "      <td>3</td>\n",
       "    </tr>\n",
       "    <tr>\n",
       "      <td>2</td>\n",
       "      <td>3</td>\n",
       "      <td>0</td>\n",
       "      <td>10</td>\n",
       "      <td>0</td>\n",
       "    </tr>\n",
       "    <tr>\n",
       "      <td>3</td>\n",
       "      <td>3</td>\n",
       "      <td>4</td>\n",
       "      <td>0</td>\n",
       "      <td>3</td>\n",
       "    </tr>\n",
       "    <tr>\n",
       "      <td>4</td>\n",
       "      <td>3</td>\n",
       "      <td>6</td>\n",
       "      <td>10</td>\n",
       "      <td>3</td>\n",
       "    </tr>\n",
       "    <tr>\n",
       "      <td>...</td>\n",
       "      <td>...</td>\n",
       "      <td>...</td>\n",
       "      <td>...</td>\n",
       "      <td>...</td>\n",
       "    </tr>\n",
       "    <tr>\n",
       "      <td>195</td>\n",
       "      <td>1</td>\n",
       "      <td>4</td>\n",
       "      <td>0</td>\n",
       "      <td>3</td>\n",
       "    </tr>\n",
       "    <tr>\n",
       "      <td>196</td>\n",
       "      <td>1</td>\n",
       "      <td>2</td>\n",
       "      <td>0</td>\n",
       "      <td>0</td>\n",
       "    </tr>\n",
       "    <tr>\n",
       "      <td>197</td>\n",
       "      <td>1</td>\n",
       "      <td>0</td>\n",
       "      <td>0</td>\n",
       "      <td>3</td>\n",
       "    </tr>\n",
       "    <tr>\n",
       "      <td>198</td>\n",
       "      <td>1</td>\n",
       "      <td>4</td>\n",
       "      <td>0</td>\n",
       "      <td>3</td>\n",
       "    </tr>\n",
       "    <tr>\n",
       "      <td>199</td>\n",
       "      <td>3</td>\n",
       "      <td>0</td>\n",
       "      <td>10</td>\n",
       "      <td>0</td>\n",
       "    </tr>\n",
       "  </tbody>\n",
       "</table>\n",
       "<p>200 rows × 4 columns</p>\n",
       "</div>"
      ],
      "text/plain": [
       "     0  1   2  3\n",
       "0    2  6   0  0\n",
       "1    3  4   0  3\n",
       "2    3  0  10  0\n",
       "3    3  4   0  3\n",
       "4    3  6  10  3\n",
       "..  .. ..  .. ..\n",
       "195  1  4   0  3\n",
       "196  1  2   0  0\n",
       "197  1  0   0  3\n",
       "198  1  4   0  3\n",
       "199  3  0  10  0\n",
       "\n",
       "[200 rows x 4 columns]"
      ]
     },
     "execution_count": 7,
     "metadata": {},
     "output_type": "execute_result"
    }
   ],
   "source": [
    "#formatting dataframe to diarem format\n",
    "\n",
    "ages = data_diabetes[0]\n",
    "HbA1C = data_diabetes[1]\n",
    "insul = data_diabetes[2]\n",
    "other = data_diabetes[3]\n",
    "\n",
    "formated_data = []\n",
    "for a, h, i, o in zip(ages, HbA1C, insul, other) : \n",
    "    formated_row = [None]*4\n",
    "    \n",
    "    if(a < 40):\n",
    "        n_a = 0\n",
    "    elif(a >= 40 and a < 50):\n",
    "        n_a = 1\n",
    "    elif(a >= 50 and a < 60):\n",
    "        n_a = 2\n",
    "    else:\n",
    "        n_a = 3\n",
    "    formated_row[0] = n_a\n",
    "    \n",
    "    if(h < 6.5):\n",
    "        n_h = 0\n",
    "    elif(h >= 6.5 and h < 7):\n",
    "        n_h = 2\n",
    "    elif(h >= 7 and h < 9):\n",
    "        n_h = 4\n",
    "    else:\n",
    "        n_h = 6\n",
    "    formated_row[1] = n_h\n",
    "    \n",
    "    if(i):\n",
    "        n_i = 10\n",
    "    else:\n",
    "        n_i = 0\n",
    "    formated_row[2] = n_i\n",
    "        \n",
    "    if(o):\n",
    "        n_o = 3\n",
    "    else:\n",
    "        n_o = 0\n",
    "    formated_row[3] = n_o\n",
    "    \n",
    "    formated_data.append(formated_row)\n",
    "\n",
    "diarem_df = pd.DataFrame.from_records(formated_data)\n",
    "diarem_df"
   ]
  },
  {
   "cell_type": "code",
   "execution_count": 8,
   "metadata": {},
   "outputs": [
    {
     "data": {
      "text/plain": [
       "array([1, 1, 1, 1, 1, 0, 1, 1, 1, 1, 0, 1, 1, 1, 0, 1, 1, 1, 1, 0, 1, 1,\n",
       "       1, 1, 1, 0, 1, 1, 1, 1, 1, 1, 1, 1, 1, 1, 1, 1, 1, 1, 1, 1, 1, 1,\n",
       "       1, 1, 1, 1, 0, 1, 1, 1, 0, 0, 1, 1, 0, 1, 1, 1, 1, 1, 1, 1, 1, 0,\n",
       "       1, 1, 1, 1, 1, 1, 1, 1, 1, 1, 1, 1, 1, 1, 0, 1, 1, 1, 1, 1, 1, 1,\n",
       "       1, 1, 1, 1, 1, 0, 0, 1, 1, 1, 0, 1, 0, 0, 1, 0, 0, 0, 0, 0, 0, 0,\n",
       "       0, 1, 0, 0, 0, 0, 0, 0, 0, 0, 0, 0, 0, 1, 1, 1, 1, 1, 1, 0, 1, 1,\n",
       "       1, 0, 1, 0, 0, 0, 0, 1, 0, 0, 0, 0, 0, 0, 1, 1, 0, 0, 0, 1, 1, 0,\n",
       "       1, 0, 0, 0, 0, 0, 0, 1, 0, 1, 0, 1, 1, 1, 0, 1, 0, 0, 1, 1, 1, 1,\n",
       "       0, 0, 0, 1, 1, 0, 1, 1, 1, 1, 0, 0, 1, 1, 0, 1, 0, 0, 1, 1, 0, 0,\n",
       "       1, 1])"
      ]
     },
     "execution_count": 8,
     "metadata": {},
     "output_type": "execute_result"
    }
   ],
   "source": [
    "#classify dataframe by criteria: \n",
    "#  True(diabete remission) if sum(row) < 7\n",
    "\n",
    "diarem_predict = []\n",
    "for index, row in diarem_df.iterrows():\n",
    "    if( sum(row) < 7 ):\n",
    "        diarem_predict.append(0) #remission\n",
    "    else:\n",
    "        diarem_predict.append(1) #non-remission\n",
    "\n",
    "diarem_predict = np.array(diarem_predict)\n",
    "diarem_predict"
   ]
  },
  {
   "cell_type": "markdown",
   "metadata": {},
   "source": [
    "# Comparison"
   ]
  },
  {
   "cell_type": "code",
   "execution_count": 9,
   "metadata": {},
   "outputs": [],
   "source": [
    "#decision trees\n",
    "\n",
    "data_diabetes[\"class\"] = classes_diabetes[0].values.tolist()\n",
    "data_diabetes = data_diabetes.sample(frac=1) #shuffle\n",
    "\n",
    "chunks = []\n",
    "for grp, df in data_diabetes.groupby(np.arange(len(data_diabetes)) // (len(data_diabetes)/5) ):\n",
    "    chunks.append(df)"
   ]
  },
  {
   "cell_type": "code",
   "execution_count": 10,
   "metadata": {},
   "outputs": [
    {
     "data": {
      "text/plain": [
       "0.6699999999999999"
      ]
     },
     "execution_count": 10,
     "metadata": {},
     "output_type": "execute_result"
    }
   ],
   "source": [
    "clf = tree.DecisionTreeClassifier()\n",
    "\n",
    "scores = []\n",
    "for i in range(len(chunks)):\n",
    "    test_X = chunks[i].copy()\n",
    "    test_y = test_X[\"class\"]\n",
    "    test_X.drop(columns=['class'], inplace=True)\n",
    "    \n",
    "    train_chunks = [chunks[c].copy() for c in range(len(chunks)) if(c != i)]\n",
    "    train_X = pd.concat(train_chunks)\n",
    "    \n",
    "    train_y = train_X[\"class\"]\n",
    "    train_X.drop(columns=['class'], inplace = True)\n",
    "    \n",
    "    clf.fit(train_X, train_y)\n",
    "    prediction = clf.predict(test_X)\n",
    "    \n",
    "    score = sum( [1 if(y == y_est) else 0 for y,y_est in zip(test_y, prediction)] ) / len(test_y)\n",
    "    scores.append(score)\n",
    "    \n",
    "np.array(scores).mean()"
   ]
  },
  {
   "cell_type": "code",
   "execution_count": 11,
   "metadata": {},
   "outputs": [],
   "source": [
    "true_labels = np.array(classes_diabetes[0])"
   ]
  },
  {
   "cell_type": "code",
   "execution_count": 12,
   "metadata": {},
   "outputs": [
    {
     "name": "stderr",
     "output_type": "stream",
     "text": [
      "/home/alex/.local/lib/python3.6/site-packages/sklearn/ensemble/forest.py:245: FutureWarning: The default value of n_estimators will change from 10 in version 0.20 to 100 in 0.22.\n",
      "  \"10 in version 0.20 to 100 in 0.22.\", FutureWarning)\n"
     ]
    },
    {
     "data": {
      "text/plain": [
       "0.7150000000000001"
      ]
     },
     "execution_count": 12,
     "metadata": {},
     "output_type": "execute_result"
    }
   ],
   "source": [
    "#random forest\n",
    "\n",
    "clf = RandomForestClassifier(max_depth=2, random_state=0)\n",
    "\n",
    "#clf.fit(data_diabetes, classes_diabetes)\n",
    "#prediction = clf.predict(data_diabetes)\n",
    "#score = sum( [1 if(y == y_est) else 0 for y,y_est in zip(np.array(true_labels), prediction)] ) / len(true_labels)\n",
    "\n",
    "scores = []\n",
    "for i in range(len(chunks)):\n",
    "    test_X = chunks[i].copy()\n",
    "    test_y = test_X[\"class\"]\n",
    "    test_X.drop(columns=['class'], inplace=True)\n",
    "    \n",
    "    train_chunks = [chunks[c].copy() for c in range(len(chunks)) if(c != i)]\n",
    "    train_X = pd.concat(train_chunks)\n",
    "    \n",
    "    train_y = train_X[\"class\"]\n",
    "    train_X.drop(columns=['class'], inplace = True)\n",
    "    \n",
    "    clf.fit(train_X, train_y)\n",
    "    prediction = clf.predict(test_X)\n",
    "    \n",
    "    score = sum( [1 if(y == y_est) else 0 for y,y_est in zip(test_y, prediction)] ) / len(test_y)\n",
    "    scores.append(score)\n",
    "    \n",
    "np.array(scores).mean()"
   ]
  },
  {
   "cell_type": "code",
   "execution_count": 13,
   "metadata": {},
   "outputs": [
    {
     "data": {
      "text/plain": [
       "0.725"
      ]
     },
     "execution_count": 13,
     "metadata": {},
     "output_type": "execute_result"
    }
   ],
   "source": [
    "#diarem\n",
    "\n",
    "score = sum( [1 if(y == y_est) else 0 for y,y_est in zip(np.array(true_labels), diarem_predict)] ) / len(true_labels)\n",
    "score"
   ]
  },
  {
   "cell_type": "markdown",
   "metadata": {},
   "source": [
    "Nous avons un résultat pour **decision tree** tournant autour de 67% de précision.  \n",
    "**random forest** et **Diarem** sont plus précis autour de 72%.  \n",
    "\n",
    "Les méthodes machines learning peuvent égaler l'expertise dans le domaine.  \n",
    "De ce fait les méthodes de machine learning seront très utiles pour des problèmes auquels nous n'avons pas encore de solution précise.  "
   ]
  },
  {
   "cell_type": "code",
   "execution_count": null,
   "metadata": {},
   "outputs": [],
   "source": []
  }
 ],
 "metadata": {
  "kernelspec": {
   "display_name": "Python 3",
   "language": "python",
   "name": "python3"
  },
  "language_info": {
   "codemirror_mode": {
    "name": "ipython",
    "version": 3
   },
   "file_extension": ".py",
   "mimetype": "text/x-python",
   "name": "python",
   "nbconvert_exporter": "python",
   "pygments_lexer": "ipython3",
   "version": "3.6.8"
  }
 },
 "nbformat": 4,
 "nbformat_minor": 2
}
